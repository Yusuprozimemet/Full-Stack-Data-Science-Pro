{
  "nbformat": 4,
  "nbformat_minor": 0,
  "metadata": {
    "colab": {
      "provenance": [],
      "authorship_tag": "ABX9TyPLqlWUwmy5UCNNet6wmtXs",
      "include_colab_link": true
    },
    "kernelspec": {
      "name": "python3",
      "display_name": "Python 3"
    },
    "language_info": {
      "name": "python"
    }
  },
  "cells": [
    {
      "cell_type": "markdown",
      "metadata": {
        "id": "view-in-github",
        "colab_type": "text"
      },
      "source": [
        "<a href=\"https://colab.research.google.com/github/yusufrozimemet/Full-Stack-Data-Science-Pro/blob/main/PythonBasics%20/5th_November_Python_Basics.ipynb\" target=\"_parent\"><img src=\"https://colab.research.google.com/assets/colab-badge.svg\" alt=\"Open In Colab\"/></a>"
      ]
    },
    {
      "cell_type": "markdown",
      "source": [
        "# 1. Declare two variables, `x` and `y`, and assign them integer values. Swap the values of these variables without using any temporary variable."
      ],
      "metadata": {
        "id": "OhcAByL1hWBE"
      }
    },
    {
      "cell_type": "code",
      "execution_count": 2,
      "metadata": {
        "colab": {
          "base_uri": "https://localhost:8080/"
        },
        "id": "wzydQRT6hHQe",
        "outputId": "c39d334d-9345-457c-edde-c9c6ef84487e"
      },
      "outputs": [
        {
          "output_type": "stream",
          "name": "stdout",
          "text": [
            "x: 10\n",
            "y: 50\n"
          ]
        }
      ],
      "source": [
        "# Declare and initialize the variables\n",
        "x = 50\n",
        "y = 10\n",
        "\n",
        "# Swap the values without a temporary variable\n",
        "x = x + y\n",
        "y = x - y\n",
        "x = x - y\n",
        "\n",
        "# Now, the values of x and y are swapped\n",
        "print(\"x:\", x)\n",
        "print(\"y:\", y)"
      ]
    },
    {
      "cell_type": "markdown",
      "source": [
        "# 2. Create a program that calculates the area of a rectangle. Take the length and width as inputs from the user and store them in variables. Calculate and display the area."
      ],
      "metadata": {
        "id": "Ahj65p0Ih5KV"
      }
    },
    {
      "cell_type": "code",
      "source": [
        "# Input the length and width from the user\n",
        "length = float(input(\"The length of the rectangle: \"))\n",
        "width = float(input(\"The width of the rectangle: \"))"
      ],
      "metadata": {
        "colab": {
          "base_uri": "https://localhost:8080/"
        },
        "id": "0EoBTxXehg9E",
        "outputId": "590eecc6-a093-4311-dfd6-ae55a717d28f"
      },
      "execution_count": 5,
      "outputs": [
        {
          "name": "stdout",
          "output_type": "stream",
          "text": [
            "The length of the rectangle: 9\n",
            "The width of the rectangle: 2\n"
          ]
        }
      ]
    },
    {
      "cell_type": "code",
      "source": [
        "# Calculate the area of the rectangle\n",
        "area = length * width\n",
        "\n",
        "# Display the result\n",
        "print(f\"The area of the rectangle with length {length} and width {width} is {area}.\")"
      ],
      "metadata": {
        "colab": {
          "base_uri": "https://localhost:8080/"
        },
        "id": "avO_19VJiL8w",
        "outputId": "91fa4aa8-eecc-40e0-f3c5-63b68bb9464b"
      },
      "execution_count": 6,
      "outputs": [
        {
          "output_type": "stream",
          "name": "stdout",
          "text": [
            "The area of the rectangle with length 9.0 and width 2.0 is 18.0.\n"
          ]
        }
      ]
    },
    {
      "cell_type": "markdown",
      "source": [
        "# 3. Write a Python program that converts temperatures from Celsius to Fahrenheit. Take the temperature in Celsius as input, store it in a variable, convert it to Fahrenheit, and display the result."
      ],
      "metadata": {
        "id": "lgxIabc9ikHc"
      }
    },
    {
      "cell_type": "code",
      "source": [
        "# Input the temperature in Celsius from the user\n",
        "celsius = float(input(\"Tthe temperature in Celsius: \"))\n"
      ],
      "metadata": {
        "colab": {
          "base_uri": "https://localhost:8080/"
        },
        "id": "Ajrc3sO5iPzQ",
        "outputId": "4747889c-fde5-46f9-f8b0-df71ad3d8f1a"
      },
      "execution_count": 7,
      "outputs": [
        {
          "name": "stdout",
          "output_type": "stream",
          "text": [
            "Tthe temperature in Celsius: 20\n"
          ]
        }
      ]
    },
    {
      "cell_type": "code",
      "source": [
        "# Convert Celsius to Fahrenheit\n",
        "fahrenheit = (celsius * 9/5) + 32\n",
        "\n",
        "# Display the result\n",
        "print(f\"{celsius} degrees Celsius is equivalent to {fahrenheit} degrees Fahrenheit.\")"
      ],
      "metadata": {
        "colab": {
          "base_uri": "https://localhost:8080/"
        },
        "id": "DC26WOl9ix6c",
        "outputId": "4137c123-acc4-4ad4-f5fa-e7cc8eb132b3"
      },
      "execution_count": 8,
      "outputs": [
        {
          "output_type": "stream",
          "name": "stdout",
          "text": [
            "20.0 degrees Celsius is equivalent to 68.0 degrees Fahrenheit.\n"
          ]
        }
      ]
    },
    {
      "cell_type": "markdown",
      "source": [
        "# 1. Write a Python program that takes a string as input and prints the length of the string."
      ],
      "metadata": {
        "id": "btEfWSEtjEn_"
      }
    },
    {
      "cell_type": "code",
      "source": [
        "# Input a string from the user\n",
        "input_string = input(\"Enter a string: \")\n"
      ],
      "metadata": {
        "colab": {
          "base_uri": "https://localhost:8080/"
        },
        "id": "ehwc3Jgci0kV",
        "outputId": "05cfa557-9be7-4433-88dc-9f905c90d276"
      },
      "execution_count": 11,
      "outputs": [
        {
          "name": "stdout",
          "output_type": "stream",
          "text": [
            "Enter a string: hello world!\n"
          ]
        }
      ]
    },
    {
      "cell_type": "code",
      "source": [
        "# Calculate and print the length of the string\n",
        "length = len(input_string)\n",
        "print(f\"The length of the input string is {length} characters.\")"
      ],
      "metadata": {
        "colab": {
          "base_uri": "https://localhost:8080/"
        },
        "id": "WD2xmqzKjRKL",
        "outputId": "5d0cede9-0d7c-4c9e-d8e4-3dec8c8dedfe"
      },
      "execution_count": 12,
      "outputs": [
        {
          "output_type": "stream",
          "name": "stdout",
          "text": [
            "The length of the input string is 12 characters.\n"
          ]
        }
      ]
    },
    {
      "cell_type": "markdown",
      "source": [
        "#2. Create a program that takes a sentence from the user and counts the number of vowels (a, e, i, o, u) in the string."
      ],
      "metadata": {
        "id": "bgDMPsHkjiXi"
      }
    },
    {
      "cell_type": "code",
      "source": [
        "# Input a sentence from the user\n",
        "sentence = input(\"Enter a sentence: \")"
      ],
      "metadata": {
        "colab": {
          "base_uri": "https://localhost:8080/"
        },
        "id": "cK1tyqeRjUAH",
        "outputId": "4e0fa53a-16d2-4e3f-fb4f-bca960e31602"
      },
      "execution_count": 13,
      "outputs": [
        {
          "name": "stdout",
          "output_type": "stream",
          "text": [
            "Enter a sentence: my name is yusuf, what is your name?\n"
          ]
        }
      ]
    },
    {
      "cell_type": "code",
      "source": [
        "# Initialize a counter for vowels\n",
        "vowel_count = 0\n",
        "\n",
        "# Iterate through each character in the sentence\n",
        "for char in sentence:\n",
        "    if char in \"aeiou\":\n",
        "        vowel_count += 1\n",
        "\n",
        "# Display the number of vowels in the sentence\n",
        "print(f\"The number of vowels in the sentence is: {vowel_count}\")"
      ],
      "metadata": {
        "colab": {
          "base_uri": "https://localhost:8080/"
        },
        "id": "TWig8djej9vD",
        "outputId": "598ce4b8-7191-4d59-bb06-abc72b08af3d"
      },
      "execution_count": 14,
      "outputs": [
        {
          "output_type": "stream",
          "name": "stdout",
          "text": [
            "The number of vowels in the sentence is: 11\n"
          ]
        }
      ]
    },
    {
      "cell_type": "markdown",
      "source": [
        "#3. Given a string, reverse the order of characters using string slicing and print the reversed string."
      ],
      "metadata": {
        "id": "mfmglYJ3kbYl"
      }
    },
    {
      "cell_type": "code",
      "source": [
        "# Input a string from the user\n",
        "input_string = input(\"Enter a string: \")\n",
        "\n",
        "# Reverse the string using string slicing\n",
        "reversed_string = input_string[::-1]\n",
        "\n",
        "# Print the reversed string\n",
        "print(\"Reversed string:\", reversed_string)"
      ],
      "metadata": {
        "colab": {
          "base_uri": "https://localhost:8080/"
        },
        "id": "4JsPZti5kIAe",
        "outputId": "ec6109b6-582c-408a-d2d5-acd6ec308a50"
      },
      "execution_count": 15,
      "outputs": [
        {
          "output_type": "stream",
          "name": "stdout",
          "text": [
            "Enter a string: hello world!\n",
            "Reversed string: !dlrow olleh\n"
          ]
        }
      ]
    },
    {
      "cell_type": "markdown",
      "source": [
        "# 4. Write a program that takes a string as input and checks if it is a palindrome (reads the same forwards and backwards)."
      ],
      "metadata": {
        "id": "zVzoVI8ik2GD"
      }
    },
    {
      "cell_type": "code",
      "source": [
        "# Input a string from the user\n",
        "input_string = input(\"Enter a string: \")\n",
        "\n",
        "# Remove spaces and convert the string to lowercase for accurate palindrome checking\n",
        "cleaned_string = input_string.replace(\" \", \"\").lower()\n",
        "\n",
        "# Check if the cleaned string is equal to its reverse\n",
        "if cleaned_string == cleaned_string[::-1]:\n",
        "    print(\"The input string is a palindrome.\")\n",
        "else:\n",
        "    print(\"The input string is not a palindrome.\")\n"
      ],
      "metadata": {
        "colab": {
          "base_uri": "https://localhost:8080/"
        },
        "id": "aky6VDI3knAd",
        "outputId": "001ae8ef-1851-4bb8-ee8f-5fefe78220d3"
      },
      "execution_count": 17,
      "outputs": [
        {
          "output_type": "stream",
          "name": "stdout",
          "text": [
            "Enter a string: kayak\n",
            "The input string is a palindrome.\n"
          ]
        }
      ]
    },
    {
      "cell_type": "markdown",
      "source": [
        "#5. Create a program that takes a string as input and removes all the spaces from it. Print the modified string without spaces."
      ],
      "metadata": {
        "id": "oiZOWzpilloB"
      }
    },
    {
      "cell_type": "code",
      "source": [
        "# Input a string from the user\n",
        "input_string = input(\"Enter a string: \")\n",
        "\n",
        "# Remove spaces from the string\n",
        "modified_string = input_string.replace(\" \", \"\")\n",
        "\n",
        "# Print the modified string without spaces\n",
        "print(\"Modified string without spaces:\", modified_string)\n"
      ],
      "metadata": {
        "colab": {
          "base_uri": "https://localhost:8080/"
        },
        "id": "H5Ud-xPLk4_H",
        "outputId": "de8e1ff4-2884-4ffa-e733-b8d24a64fd42"
      },
      "execution_count": 19,
      "outputs": [
        {
          "output_type": "stream",
          "name": "stdout",
          "text": [
            "Enter a string: I love you!\n",
            "Modified string without spaces: Iloveyou!\n"
          ]
        }
      ]
    },
    {
      "cell_type": "code",
      "source": [],
      "metadata": {
        "id": "A0cHcF1AluRm"
      },
      "execution_count": null,
      "outputs": []
    }
  ]
}