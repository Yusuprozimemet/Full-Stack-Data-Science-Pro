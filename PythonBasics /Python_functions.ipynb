{
  "nbformat": 4,
  "nbformat_minor": 0,
  "metadata": {
    "colab": {
      "provenance": [],
      "authorship_tag": "ABX9TyMp9Jdve1w182JmkL7564Bx",
      "include_colab_link": true
    },
    "kernelspec": {
      "name": "python3",
      "display_name": "Python 3"
    },
    "language_info": {
      "name": "python"
    }
  },
  "cells": [
    {
      "cell_type": "markdown",
      "metadata": {
        "id": "view-in-github",
        "colab_type": "text"
      },
      "source": [
        "<a href=\"https://colab.research.google.com/github/yusufrozimemet/Full-Stack-Data-Science-Pro/blob/main/PythonBasics%20/Python_functions.ipynb\" target=\"_parent\"><img src=\"https://colab.research.google.com/assets/colab-badge.svg\" alt=\"Open In Colab\"/></a>"
      ]
    },
    {
      "cell_type": "code",
      "source": [
        "number = -10\n",
        "if number > 0:\n",
        "  print(\"positive number\")\n",
        "elif number ==0:\n",
        "  print(\"zero\")\n",
        "else:\n",
        "  print(\"negative number\")\n",
        "print(\"thanks for using!\")"
      ],
      "metadata": {
        "colab": {
          "base_uri": "https://localhost:8080/"
        },
        "id": "K_D6-9Hdpnaj",
        "outputId": "76033436-1a90-4b2f-c8dc-7a220a291d2b"
      },
      "execution_count": 2,
      "outputs": [
        {
          "output_type": "stream",
          "name": "stdout",
          "text": [
            "negative number\n",
            "thanks for using!\n"
          ]
        }
      ]
    },
    {
      "cell_type": "code",
      "source": [
        "for i in range(5):\n",
        "  print(i)"
      ],
      "metadata": {
        "colab": {
          "base_uri": "https://localhost:8080/"
        },
        "id": "k5OlNVkFqDJ6",
        "outputId": "0170aa6e-d58e-48b3-e852-0c5d8326e72e"
      },
      "execution_count": 3,
      "outputs": [
        {
          "output_type": "stream",
          "name": "stdout",
          "text": [
            "0\n",
            "1\n",
            "2\n",
            "3\n",
            "4\n"
          ]
        }
      ]
    },
    {
      "cell_type": "code",
      "source": [
        "days=0\n",
        "week=[\"monday\",\"tuesday\",\"wednesday\",\"thursday\", \"friday\",\"saturday\",\"sunday\"]\n",
        "\n",
        "while days<7:\n",
        "  print(\"today is \"+ week[days])\n",
        "  days +=1\n",
        "  #days = days+1"
      ],
      "metadata": {
        "colab": {
          "base_uri": "https://localhost:8080/"
        },
        "id": "fo--eY_KqPpV",
        "outputId": "8f57c0b5-272f-4499-960f-854d3cda3854"
      },
      "execution_count": 4,
      "outputs": [
        {
          "output_type": "stream",
          "name": "stdout",
          "text": [
            "today is monday\n",
            "today is tuesday\n",
            "today is wednesday\n",
            "today is thursday\n",
            "today is friday\n",
            "today is saturday\n",
            "today is sunday\n"
          ]
        }
      ]
    },
    {
      "cell_type": "code",
      "source": [
        "week[0]"
      ],
      "metadata": {
        "colab": {
          "base_uri": "https://localhost:8080/",
          "height": 36
        },
        "id": "TLxnR6sLq6wo",
        "outputId": "9747a4da-413b-4e3e-c385-f069dcc4c5cb"
      },
      "execution_count": 5,
      "outputs": [
        {
          "output_type": "execute_result",
          "data": {
            "text/plain": [
              "'monday'"
            ],
            "application/vnd.google.colaboratory.intrinsic+json": {
              "type": "string"
            }
          },
          "metadata": {},
          "execution_count": 5
        }
      ]
    },
    {
      "cell_type": "code",
      "source": [
        "#split()\n",
        "text = \"I write code\"\n",
        "text.split()"
      ],
      "metadata": {
        "colab": {
          "base_uri": "https://localhost:8080/"
        },
        "id": "mt6Arf8DrPM1",
        "outputId": "061e7d8e-e048-471b-d59c-2d1f4e6eb514"
      },
      "execution_count": 6,
      "outputs": [
        {
          "output_type": "execute_result",
          "data": {
            "text/plain": [
              "['I', 'write', 'code']"
            ]
          },
          "metadata": {},
          "execution_count": 6
        }
      ]
    },
    {
      "cell_type": "code",
      "source": [
        "text=\" I love python\"\n",
        "text.split()"
      ],
      "metadata": {
        "colab": {
          "base_uri": "https://localhost:8080/"
        },
        "id": "GYgtZgMPr5XJ",
        "outputId": "d0a88d59-a804-4fc0-fccb-30d46ff526d5"
      },
      "execution_count": 7,
      "outputs": [
        {
          "output_type": "execute_result",
          "data": {
            "text/plain": [
              "['I', 'love', 'python']"
            ]
          },
          "metadata": {},
          "execution_count": 7
        }
      ]
    },
    {
      "cell_type": "code",
      "source": [
        "x = input(\"enter 3 words message\")"
      ],
      "metadata": {
        "colab": {
          "base_uri": "https://localhost:8080/"
        },
        "id": "okiIB4gdsCQZ",
        "outputId": "a02800f5-c46c-4b8c-b5ca-06d6a5c6242c"
      },
      "execution_count": 8,
      "outputs": [
        {
          "name": "stdout",
          "output_type": "stream",
          "text": [
            "enter 3 words messagewelcome to the netherlands\n"
          ]
        }
      ]
    },
    {
      "cell_type": "code",
      "source": [
        "x.split()"
      ],
      "metadata": {
        "colab": {
          "base_uri": "https://localhost:8080/"
        },
        "id": "krG6PWnlsJNK",
        "outputId": "a0ca50cb-9ee1-4734-ab16-5eae7cc96dc7"
      },
      "execution_count": 9,
      "outputs": [
        {
          "output_type": "execute_result",
          "data": {
            "text/plain": [
              "['welcome', 'to', 'the', 'netherlands']"
            ]
          },
          "metadata": {},
          "execution_count": 9
        }
      ]
    },
    {
      "cell_type": "code",
      "source": [
        "word1,word2,word3,word4 =x.split()"
      ],
      "metadata": {
        "id": "TqbkyQhasP-H"
      },
      "execution_count": 11,
      "outputs": []
    },
    {
      "cell_type": "code",
      "source": [
        "word1"
      ],
      "metadata": {
        "colab": {
          "base_uri": "https://localhost:8080/",
          "height": 36
        },
        "id": "OH7BpW6Tse0z",
        "outputId": "02811a8f-b600-43fe-e74d-785cea6a0bcc"
      },
      "execution_count": 12,
      "outputs": [
        {
          "output_type": "execute_result",
          "data": {
            "text/plain": [
              "'welcome'"
            ],
            "application/vnd.google.colaboratory.intrinsic+json": {
              "type": "string"
            }
          },
          "metadata": {},
          "execution_count": 12
        }
      ]
    },
    {
      "cell_type": "code",
      "source": [
        "word3"
      ],
      "metadata": {
        "colab": {
          "base_uri": "https://localhost:8080/",
          "height": 36
        },
        "id": "6viK1DFgskgc",
        "outputId": "24456790-66f3-476e-a565-7d23c9e48865"
      },
      "execution_count": 13,
      "outputs": [
        {
          "output_type": "execute_result",
          "data": {
            "text/plain": [
              "'the'"
            ],
            "application/vnd.google.colaboratory.intrinsic+json": {
              "type": "string"
            }
          },
          "metadata": {},
          "execution_count": 13
        }
      ]
    },
    {
      "cell_type": "code",
      "source": [
        "a =int(input(\"enter 1st number \"))\n",
        "b = int(input(\"enter 2nd number \"))\n",
        "print(a+b)"
      ],
      "metadata": {
        "colab": {
          "base_uri": "https://localhost:8080/"
        },
        "id": "vsbCbp4gslsO",
        "outputId": "6cb94e2d-261e-41e5-87e8-89a57dac48d5"
      },
      "execution_count": 15,
      "outputs": [
        {
          "output_type": "stream",
          "name": "stdout",
          "text": [
            "enter 1st number 3\n",
            "enter 2nd number 5\n",
            "8\n"
          ]
        }
      ]
    },
    {
      "cell_type": "code",
      "source": [
        "a,b =input(\"enter two numbers \").split()\n",
        "c = int(a) +int(b)\n",
        "print(c)"
      ],
      "metadata": {
        "colab": {
          "base_uri": "https://localhost:8080/"
        },
        "id": "_eeBAd5os2V0",
        "outputId": "efb711fe-1220-47b6-904d-5a5c1f9cd5d8"
      },
      "execution_count": 18,
      "outputs": [
        {
          "output_type": "stream",
          "name": "stdout",
          "text": [
            "enter two numbers 8 8\n",
            "16\n"
          ]
        }
      ]
    },
    {
      "cell_type": "code",
      "source": [
        " s1 =\"a b c d e f\"\n",
        " print(s1.split(\" \",5))"
      ],
      "metadata": {
        "colab": {
          "base_uri": "https://localhost:8080/"
        },
        "id": "tG0rgVVqtIpb",
        "outputId": "fef57a77-7603-4e1e-8463-bd3ecfc19c92"
      },
      "execution_count": 19,
      "outputs": [
        {
          "output_type": "stream",
          "name": "stdout",
          "text": [
            "['a', 'b', 'c', 'd', 'e', 'f']\n"
          ]
        }
      ]
    },
    {
      "cell_type": "code",
      "source": [
        " print(s1.split(\" \",2))"
      ],
      "metadata": {
        "colab": {
          "base_uri": "https://localhost:8080/"
        },
        "id": "O9y4LzpSzjMV",
        "outputId": "80114581-91ff-48f9-daf1-08d22d531e6d"
      },
      "execution_count": 20,
      "outputs": [
        {
          "output_type": "stream",
          "name": "stdout",
          "text": [
            "['a', 'b', 'c d e f']\n"
          ]
        }
      ]
    },
    {
      "cell_type": "code",
      "source": [
        "s1 =\"Hi@Hi@Hi@Hi@Hi\"\n",
        "s1.split(\"@\",4)"
      ],
      "metadata": {
        "colab": {
          "base_uri": "https://localhost:8080/"
        },
        "id": "VUaFEGSGzpiU",
        "outputId": "1cd59cb3-5988-485a-de5e-b1350fa167cc"
      },
      "execution_count": 22,
      "outputs": [
        {
          "output_type": "execute_result",
          "data": {
            "text/plain": [
              "['Hi', 'Hi', 'Hi', 'Hi', 'Hi']"
            ]
          },
          "metadata": {},
          "execution_count": 22
        }
      ]
    },
    {
      "cell_type": "code",
      "source": [
        "for letter in \"hello world\":\n",
        "  if letter == \"w\":\n",
        "   break\n",
        "  print(letter)"
      ],
      "metadata": {
        "colab": {
          "base_uri": "https://localhost:8080/"
        },
        "id": "dv0aAhctz56r",
        "outputId": "d2c9dfa8-5b88-4fd3-ee91-e692dd585e8c"
      },
      "execution_count": 32,
      "outputs": [
        {
          "output_type": "stream",
          "name": "stdout",
          "text": [
            "h\n",
            "e\n",
            "l\n",
            "l\n",
            "o\n",
            " \n"
          ]
        }
      ]
    },
    {
      "cell_type": "code",
      "source": [
        "for i in range(5):\n",
        "  if i ==3:\n",
        "    break\n",
        "  print(i)"
      ],
      "metadata": {
        "colab": {
          "base_uri": "https://localhost:8080/"
        },
        "id": "BBz1PwO80U_k",
        "outputId": "756cebf1-d71b-4870-c63e-b49a8ff2e64e"
      },
      "execution_count": 33,
      "outputs": [
        {
          "output_type": "stream",
          "name": "stdout",
          "text": [
            "0\n",
            "1\n",
            "2\n"
          ]
        }
      ]
    },
    {
      "cell_type": "code",
      "source": [
        "list(range(5))"
      ],
      "metadata": {
        "colab": {
          "base_uri": "https://localhost:8080/"
        },
        "id": "O73PSuXU06gy",
        "outputId": "d4b0c219-172b-4485-92ec-03fc8d4e33f0"
      },
      "execution_count": 34,
      "outputs": [
        {
          "output_type": "execute_result",
          "data": {
            "text/plain": [
              "[0, 1, 2, 3, 4]"
            ]
          },
          "metadata": {},
          "execution_count": 34
        }
      ]
    },
    {
      "cell_type": "code",
      "source": [
        "i =1\n",
        "\n",
        "while i <=10:\n",
        "  print(i)\n",
        "\n",
        "  if i >=5:\n",
        "    break\n",
        "  i +=1"
      ],
      "metadata": {
        "colab": {
          "base_uri": "https://localhost:8080/"
        },
        "id": "EhtysVJu1B89",
        "outputId": "b3738128-b6c6-4634-bdf2-d8eb672173e7"
      },
      "execution_count": 37,
      "outputs": [
        {
          "output_type": "stream",
          "name": "stdout",
          "text": [
            "1\n",
            "2\n",
            "3\n",
            "4\n",
            "5\n"
          ]
        }
      ]
    },
    {
      "cell_type": "code",
      "source": [
        "numbers = [10, 20, 30 , 40, 50]\n",
        "\n",
        "for i in numbers:\n",
        "  if i>30:\n",
        "    break\n",
        "  print(i)"
      ],
      "metadata": {
        "colab": {
          "base_uri": "https://localhost:8080/"
        },
        "id": "QAYdJrSP1bz5",
        "outputId": "e098e0c2-8e27-4041-fb12-02ccfceb652d"
      },
      "execution_count": 43,
      "outputs": [
        {
          "output_type": "stream",
          "name": "stdout",
          "text": [
            "10\n",
            "20\n",
            "30\n"
          ]
        }
      ]
    },
    {
      "cell_type": "code",
      "source": [
        "s = \"hello, world\"\n",
        "for char in s:\n",
        "  print(char)\n",
        "\n",
        "  if char ==\",\":\n",
        "    break"
      ],
      "metadata": {
        "colab": {
          "base_uri": "https://localhost:8080/"
        },
        "id": "wQF02s5h18_J",
        "outputId": "c53ca475-dc75-44d2-f8a1-56e8c2ced558"
      },
      "execution_count": 49,
      "outputs": [
        {
          "output_type": "stream",
          "name": "stdout",
          "text": [
            "h\n",
            "e\n",
            "l\n",
            "l\n",
            "o\n",
            ",\n"
          ]
        }
      ]
    },
    {
      "cell_type": "code",
      "source": [
        "for letter in \"hello world\":\n",
        "  if letter == \"w\":\n",
        "    continue\n",
        "  print(letter)"
      ],
      "metadata": {
        "colab": {
          "base_uri": "https://localhost:8080/"
        },
        "id": "yakkwp7I2ajB",
        "outputId": "01b72bbc-3bf1-47e9-8e4a-1112a6a16751"
      },
      "execution_count": 3,
      "outputs": [
        {
          "output_type": "stream",
          "name": "stdout",
          "text": [
            "h\n",
            "e\n",
            "l\n",
            "l\n",
            "o\n",
            " \n",
            "o\n",
            "r\n",
            "l\n",
            "d\n"
          ]
        }
      ]
    },
    {
      "cell_type": "code",
      "source": [
        "for letter in \"hello world\":\n",
        "  if letter == \"w\":\n",
        "    break\n",
        "  print(letter)"
      ],
      "metadata": {
        "colab": {
          "base_uri": "https://localhost:8080/"
        },
        "id": "v8TOrol-SInB",
        "outputId": "0f842450-19df-4ff3-8f8d-0adc59713392"
      },
      "execution_count": 4,
      "outputs": [
        {
          "output_type": "stream",
          "name": "stdout",
          "text": [
            "h\n",
            "e\n",
            "l\n",
            "l\n",
            "o\n",
            " \n"
          ]
        }
      ]
    },
    {
      "cell_type": "code",
      "source": [
        "# When i is 0, 1, 2: It prints the value of i.\n",
        "# When i is 3: The continue statement is executed, so it skips printing for this iteration.\n",
        "# When i is 4: It prints the value of i.\n",
        "# When i is 5: The break statement is executed, so the loop terminates, and the code stops running.\n",
        "\n",
        "for i in range(10):\n",
        "  if i==3:\n",
        "    continue\n",
        "  elif i==5:\n",
        "      break\n",
        "  print(i)"
      ],
      "metadata": {
        "colab": {
          "base_uri": "https://localhost:8080/"
        },
        "id": "YKVIYa2ySZ7p",
        "outputId": "50f28a04-cdae-405e-b2f4-dadaa8f81c3b"
      },
      "execution_count": 8,
      "outputs": [
        {
          "output_type": "stream",
          "name": "stdout",
          "text": [
            "0\n",
            "1\n",
            "2\n",
            "4\n"
          ]
        }
      ]
    },
    {
      "cell_type": "code",
      "source": [
        "# print odd numbers\n",
        "for i in range (1,12):\n",
        "  if i%2==0:\n",
        "    continue\n",
        "  print(i)"
      ],
      "metadata": {
        "colab": {
          "base_uri": "https://localhost:8080/"
        },
        "id": "zCfpFEe9S4YO",
        "outputId": "853eff0e-4276-455a-e667-efc2b32a426d"
      },
      "execution_count": 11,
      "outputs": [
        {
          "output_type": "stream",
          "name": "stdout",
          "text": [
            "1\n",
            "3\n",
            "5\n",
            "7\n",
            "9\n",
            "11\n"
          ]
        }
      ]
    },
    {
      "cell_type": "code",
      "source": [
        "n = 11\n",
        "\n",
        "if n > 10:\n",
        "  pass\n",
        "\n",
        "print(\"hello\")"
      ],
      "metadata": {
        "colab": {
          "base_uri": "https://localhost:8080/"
        },
        "id": "t2_INKKXUaXG",
        "outputId": "e6a570cd-3dce-43f3-ffff-4ff7211c4d6c"
      },
      "execution_count": 13,
      "outputs": [
        {
          "output_type": "stream",
          "name": "stdout",
          "text": [
            "hello\n"
          ]
        }
      ]
    },
    {
      "cell_type": "markdown",
      "source": [
        "n = 11: Assigns the value 11 to the variable n.\n",
        "\n",
        "if n > 10:: Checks whether the value of n is greater than 10. In this case, it is true (11 > 10), so the code inside the if block is executed.\n",
        "\n",
        "pass: The pass statement in Python is a no-operation statement. It is a placeholder that does nothing. In this context, it serves as a syntactic requirement for having a code block after an if statement. If you don't want to execute any specific code when the condition is true, you can use pass to avoid a syntax error.\n",
        "\n",
        "print(\"hello\"): This line is not part of the if block; it will be executed regardless of whether the condition in the if statement is true or false. It prints the string \"hello\" to the console."
      ],
      "metadata": {
        "id": "mUzkFfhAaXWQ"
      }
    },
    {
      "cell_type": "code",
      "source": [
        "if n>10:\n",
        "  print(\"hello\")"
      ],
      "metadata": {
        "colab": {
          "base_uri": "https://localhost:8080/"
        },
        "id": "M7L9VrjtYh-6",
        "outputId": "39af9870-969b-4fcf-abc2-d3b61f6a0d36"
      },
      "execution_count": 14,
      "outputs": [
        {
          "output_type": "stream",
          "name": "stdout",
          "text": [
            "hello\n"
          ]
        }
      ]
    },
    {
      "cell_type": "code",
      "source": [
        "for i in range(5):\n",
        "  pass\n",
        "  print(\"hello\")"
      ],
      "metadata": {
        "colab": {
          "base_uri": "https://localhost:8080/"
        },
        "id": "ppN_4qYEYyd1",
        "outputId": "daae5d73-e739-4f73-bedf-5a79df25a531"
      },
      "execution_count": 20,
      "outputs": [
        {
          "output_type": "stream",
          "name": "stdout",
          "text": [
            "hello\n",
            "hello\n",
            "hello\n",
            "hello\n",
            "hello\n"
          ]
        }
      ]
    },
    {
      "cell_type": "code",
      "source": [],
      "metadata": {
        "id": "57-eg-gIY-WA"
      },
      "execution_count": null,
      "outputs": []
    }
  ]
}