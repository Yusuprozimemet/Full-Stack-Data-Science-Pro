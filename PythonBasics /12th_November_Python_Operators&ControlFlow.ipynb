{
  "nbformat": 4,
  "nbformat_minor": 0,
  "metadata": {
    "colab": {
      "provenance": [],
      "authorship_tag": "ABX9TyOi8TmaeSgsyAueOfNChf+4",
      "include_colab_link": true
    },
    "kernelspec": {
      "name": "python3",
      "display_name": "Python 3"
    },
    "language_info": {
      "name": "python"
    }
  },
  "cells": [
    {
      "cell_type": "markdown",
      "metadata": {
        "id": "view-in-github",
        "colab_type": "text"
      },
      "source": [
        "<a href=\"https://colab.research.google.com/github/yusufrozimemet/Full-Stack-Data-Science-Pro/blob/main/PythonBasics%20/12th_November_Python_Operators%26ControlFlow.ipynb\" target=\"_parent\"><img src=\"https://colab.research.google.com/assets/colab-badge.svg\" alt=\"Open In Colab\"/></a>"
      ]
    },
    {
      "cell_type": "markdown",
      "source": [
        "#Basic If-Else Statements:"
      ],
      "metadata": {
        "id": "40l4R1pXRFos"
      }
    },
    {
      "cell_type": "code",
      "execution_count": 12,
      "metadata": {
        "id": "i0NMNkY5-cMr",
        "colab": {
          "base_uri": "https://localhost:8080/"
        },
        "outputId": "276a1621-0daa-411f-c087-45421ebab613"
      },
      "outputs": [
        {
          "output_type": "stream",
          "name": "stdout",
          "text": [
            "-8\n",
            "The number is negative.\n"
          ]
        }
      ],
      "source": [
        "def check_positive_negative(number):\n",
        "    if number > 0:\n",
        "        print(\"The number is positive.\")\n",
        "    elif number < 0:\n",
        "        print(\"The number is negative.\")\n",
        "    else:\n",
        "        print(\"The number is zero.\")\n",
        "\n",
        "# Example usage:\n",
        "check_positive_negative(float(input()))"
      ]
    },
    {
      "cell_type": "code",
      "source": [
        "def check_voting_eligibility(age):\n",
        "    if age >= 18:\n",
        "        print(\"You are eligible to vote.\")\n",
        "    else:\n",
        "        print(\"You are not eligible to vote yet.\")\n",
        "\n",
        "# Example usage:\n",
        "check_voting_eligibility(float(input()))"
      ],
      "metadata": {
        "colab": {
          "base_uri": "https://localhost:8080/"
        },
        "id": "DjOTwuDzYP8Q",
        "outputId": "b409918a-21a0-42b1-8bfd-51ab9aa3fcfb"
      },
      "execution_count": 10,
      "outputs": [
        {
          "output_type": "stream",
          "name": "stdout",
          "text": [
            "99\n",
            "You are eligible to vote.\n"
          ]
        }
      ]
    },
    {
      "cell_type": "code",
      "source": [
        "def find_maximum(num1, num2):\n",
        "    if num1 > num2:\n",
        "        print(f\"The maximum number is: {num1}\")\n",
        "    else:\n",
        "        print(f\"The maximum number is: {num2}\")\n",
        "\n",
        "# Take input manually\n",
        "num1 = float(input(\"Enter the first number: \"))\n",
        "num2 = float(input(\"Enter the second number: \"))\n",
        "\n",
        "# Call the function with the input values\n",
        "find_maximum(num1, num2)\n"
      ],
      "metadata": {
        "colab": {
          "base_uri": "https://localhost:8080/"
        },
        "id": "wXIY8BmqYThS",
        "outputId": "aae4b832-c74c-4c49-ee0b-bdb958202b2d"
      },
      "execution_count": 9,
      "outputs": [
        {
          "output_type": "stream",
          "name": "stdout",
          "text": [
            "Enter the first number: 6\n",
            "Enter the second number: 9\n",
            "The maximum number is: 9.0\n"
          ]
        }
      ]
    },
    {
      "cell_type": "code",
      "source": [
        "def check_leap_year(year):\n",
        "    if year <0:\n",
        "        print (f\"{year} is not a correct for the calculation\")\n",
        "    elif (year >0 and year % 4 == 0 and year % 100 != 0) or (year % 400 == 0):\n",
        "        print(f\"{year} is a leap year.\")\n",
        "    else:\n",
        "        print(f\"{year} is not a leap year.\")\n",
        "\n",
        "# Example usage:\n",
        "check_leap_year(float(input()))"
      ],
      "metadata": {
        "colab": {
          "base_uri": "https://localhost:8080/"
        },
        "id": "E6SIls5_YzZ0",
        "outputId": "e58dca96-94a2-4a7a-e32e-f3d9ad5a7d7a"
      },
      "execution_count": 19,
      "outputs": [
        {
          "output_type": "stream",
          "name": "stdout",
          "text": [
            "-44\n",
            "-44.0 is not a correct for the calculation\n"
          ]
        }
      ]
    },
    {
      "cell_type": "code",
      "source": [
        "def check_vowel_consonant(char):\n",
        "    if char.lower() in ['a', 'e', 'i', 'o', 'u']:\n",
        "        print(f\"{char} is a vowel.\")\n",
        "    else:\n",
        "        print(f\"{char} is a consonant.\")\n",
        "\n",
        "# Example usage:\n",
        "check_vowel_consonant(str(input()))"
      ],
      "metadata": {
        "colab": {
          "base_uri": "https://localhost:8080/"
        },
        "id": "HQuSvqIzY2Jg",
        "outputId": "8da6e69b-b418-492a-f5dd-4047f1208e16"
      },
      "execution_count": 22,
      "outputs": [
        {
          "output_type": "stream",
          "name": "stdout",
          "text": [
            "o\n",
            "o is a vowel.\n"
          ]
        }
      ]
    },
    {
      "cell_type": "code",
      "source": [
        "def check_even_odd(number):\n",
        "    if number % 2 == 0:\n",
        "        print(f\"{number} is an even number.\")\n",
        "    else:\n",
        "        print(f\"{number} is an odd number.\")\n",
        "\n",
        "# Example usage:\n",
        "check_even_odd(float(input()))\n"
      ],
      "metadata": {
        "colab": {
          "base_uri": "https://localhost:8080/"
        },
        "id": "NQfH3kQbZe9q",
        "outputId": "1a36344e-ef32-4f86-b36a-0efa6843cf8e"
      },
      "execution_count": 24,
      "outputs": [
        {
          "output_type": "stream",
          "name": "stdout",
          "text": [
            "9\n",
            "9.0 is an odd number.\n"
          ]
        }
      ]
    },
    {
      "cell_type": "code",
      "source": [
        "def absolute_value(number):\n",
        "    if number < 0:\n",
        "        result = -number\n",
        "    else:\n",
        "        result = number\n",
        "    print(f\"The absolute value of {number} is: {result}\")\n",
        "\n",
        "# Example usage:\n",
        "absolute_value(float(input()))\n"
      ],
      "metadata": {
        "colab": {
          "base_uri": "https://localhost:8080/"
        },
        "id": "LSCVTebpZnen",
        "outputId": "05d2f49e-d70f-421d-a9c6-1266ccfa3a23"
      },
      "execution_count": 25,
      "outputs": [
        {
          "output_type": "stream",
          "name": "stdout",
          "text": [
            "-9\n",
            "The absolute value of -9.0 is: 9.0\n"
          ]
        }
      ]
    },
    {
      "cell_type": "code",
      "source": [
        "def find_largest(num1, num2, num3):\n",
        "    if num1 >= num2 and num1 >= num3:\n",
        "        print(f\"The largest number is: {num1}\")\n",
        "    elif num2 >= num1 and num2 >= num3:\n",
        "        print(f\"The largest number is: {num2}\")\n",
        "    else:\n",
        "        print(f\"The largest number is: {num3}\")\n",
        "\n",
        "num1 = float(input(\"Enter the first number: \"))\n",
        "num2 = float(input(\"Enter the second number: \"))\n",
        "num3 = float(input(\"Enter the first number: \"))\n",
        "# Example usage:\n",
        "find_largest(num1, num2, num3)"
      ],
      "metadata": {
        "colab": {
          "base_uri": "https://localhost:8080/"
        },
        "id": "LYLX15NMZugK",
        "outputId": "528cab4f-3584-431b-9ffe-30cc28791aef"
      },
      "execution_count": 27,
      "outputs": [
        {
          "output_type": "stream",
          "name": "stdout",
          "text": [
            "Enter the first number: 8\n",
            "Enter the second number: 9\n",
            "Enter the first number: 10\n",
            "The largest number is: 10.0\n"
          ]
        }
      ]
    },
    {
      "cell_type": "code",
      "source": [
        "def check_palindrome(word):\n",
        "    if word == word[::-1]:\n",
        "        print(f\"{word} is a palindrome.\")\n",
        "    else:\n",
        "        print(f\"{word} is not a palindrome.\")\n",
        "\n",
        "# Example usage:\n",
        "check_palindrome(str(input()))"
      ],
      "metadata": {
        "id": "9p-raNbraE4x",
        "colab": {
          "base_uri": "https://localhost:8080/"
        },
        "outputId": "2d3842a5-9ad5-449a-8dab-488875c93eb8"
      },
      "execution_count": 29,
      "outputs": [
        {
          "output_type": "stream",
          "name": "stdout",
          "text": [
            "level\n",
            "level is a palindrome.\n"
          ]
        }
      ]
    },
    {
      "cell_type": "code",
      "source": [
        "def calculate_grade(score):\n",
        "    if 90 <= score <= 100:\n",
        "        grade = 'A'\n",
        "    elif 80 <= score < 90:\n",
        "        grade = 'B'\n",
        "    elif 70 <= score < 80:\n",
        "        grade = 'C'\n",
        "    elif 60 <= score < 70:\n",
        "        grade = 'D'\n",
        "    elif 0 <= score < 60:\n",
        "        grade = 'F'\n",
        "    else:\n",
        "        grade = 'Invalid score'\n",
        "    print(f\"Your grade is: {grade}\")\n",
        "\n",
        "# Example usage:\n",
        "calculate_grade(float(input()))\n"
      ],
      "metadata": {
        "id": "daBO5KGhaMn6",
        "colab": {
          "base_uri": "https://localhost:8080/"
        },
        "outputId": "b5112db4-d99d-4b7c-ada9-486a280a4503"
      },
      "execution_count": 32,
      "outputs": [
        {
          "output_type": "stream",
          "name": "stdout",
          "text": [
            "-66\n",
            "Your grade is: Invalid score\n"
          ]
        }
      ]
    },
    {
      "cell_type": "markdown",
      "source": [
        "#Nested If-Else Statements:"
      ],
      "metadata": {
        "id": "ONIvNpdDRI8H"
      }
    },
    {
      "cell_type": "code",
      "source": [
        "# Program to find the largest among three numbers\n",
        "\n",
        "# Input\n",
        "num1 = float(input(\"Enter first number: \"))\n",
        "num2 = float(input(\"Enter second number: \"))\n",
        "num3 = float(input(\"Enter third number: \"))\n",
        "\n",
        "# Nested if-else statements to find the largest\n",
        "if num1 >= num2:\n",
        "    if num1 >= num3:\n",
        "        largest = num1\n",
        "    else:\n",
        "        largest = num3\n",
        "else:\n",
        "    if num2 >= num3:\n",
        "        largest = num2\n",
        "    else:\n",
        "        largest = num3\n",
        "\n",
        "# Output\n",
        "print(\"The largest number is:\", largest)"
      ],
      "metadata": {
        "colab": {
          "base_uri": "https://localhost:8080/"
        },
        "id": "gJim7d4enHIN",
        "outputId": "3d5aa55e-1e2b-448f-e7dd-4d011067fbc7"
      },
      "execution_count": 1,
      "outputs": [
        {
          "output_type": "stream",
          "name": "stdout",
          "text": [
            "Enter first number: 50\n",
            "Enter second number: 80\n",
            "Enter third number: 44\n",
            "The largest number is: 80.0\n"
          ]
        }
      ]
    },
    {
      "cell_type": "code",
      "source": [
        "# Program to determine the type of triangle\n",
        "\n",
        "# Input\n",
        "side1 = float(input(\"Enter length of side 1: \"))\n",
        "side2 = float(input(\"Enter length of side 2: \"))\n",
        "side3 = float(input(\"Enter length of side 3: \"))\n",
        "\n",
        "# Determine the type of triangle\n",
        "if side1 == side2 == side3:\n",
        "    triangle_type = \"Equilateral\"\n",
        "elif side1 == side2 or side2 == side3 or side1 == side3:\n",
        "    triangle_type = \"Isosceles\"\n",
        "else:\n",
        "    triangle_type = \"Scalene\"\n",
        "\n",
        "# Output\n",
        "print(\"The triangle is:\", triangle_type)"
      ],
      "metadata": {
        "colab": {
          "base_uri": "https://localhost:8080/"
        },
        "id": "yeLI-W7BRdz3",
        "outputId": "4fda55ca-1a0f-4db3-d371-c61196b15ed6"
      },
      "execution_count": 2,
      "outputs": [
        {
          "output_type": "stream",
          "name": "stdout",
          "text": [
            "Enter length of side 1: 4\n",
            "Enter length of side 2: 5\n",
            "Enter length of side 3: 6\n",
            "The triangle is: Scalene\n"
          ]
        }
      ]
    },
    {
      "cell_type": "code",
      "source": [
        "# Program to check if a year is a leap year and a century year\n",
        "\n",
        "# Input\n",
        "year = int(input(\"Enter a year: \"))\n",
        "\n",
        "# Check for leap year\n",
        "if year % 4 == 0:\n",
        "    if year % 100 == 0:\n",
        "        if year % 400 == 0:\n",
        "            leap_year = True\n",
        "        else:\n",
        "            leap_year = False\n",
        "    else:\n",
        "        leap_year = True\n",
        "else:\n",
        "    leap_year = False\n",
        "\n",
        "# Check for century year\n",
        "century_year = year % 100 == 0\n",
        "\n",
        "# Output\n",
        "if leap_year:\n",
        "    print(f\"{year} is a leap year.\")\n",
        "    if century_year:\n",
        "        print(f\"{year} is also a century year.\")\n",
        "else:\n",
        "    print(f\"{year} is not a leap year.\")\n",
        "    if century_year:\n",
        "        print(f\"{year} is a century year, but not a leap year.\")"
      ],
      "metadata": {
        "colab": {
          "base_uri": "https://localhost:8080/"
        },
        "id": "gxEgfVPcR7cs",
        "outputId": "bc647cd0-0e4c-420f-9f8a-b38ead9e40d0"
      },
      "execution_count": 3,
      "outputs": [
        {
          "output_type": "stream",
          "name": "stdout",
          "text": [
            "Enter a year: 1999\n",
            "1999 is not a leap year.\n"
          ]
        }
      ]
    },
    {
      "cell_type": "code",
      "source": [
        "# Program to determine if a number is positive, negative, or zero\n",
        "\n",
        "# Input\n",
        "number = float(input(\"Enter a number: \"))\n",
        "\n",
        "# Check the sign of the number\n",
        "if number > 0:\n",
        "    print(\"The number is positive.\")\n",
        "elif number < 0:\n",
        "    print(\"The number is negative.\")\n",
        "else:\n",
        "    print(\"The number is zero.\")"
      ],
      "metadata": {
        "colab": {
          "base_uri": "https://localhost:8080/"
        },
        "id": "Q3LElFVOSDTc",
        "outputId": "eaf1665a-e7d6-4bc9-9564-2f6a6c523b5a"
      },
      "execution_count": 4,
      "outputs": [
        {
          "output_type": "stream",
          "name": "stdout",
          "text": [
            "Enter a number: 60\n",
            "The number is positive.\n"
          ]
        }
      ]
    },
    {
      "cell_type": "code",
      "source": [
        "def is_teenager(age):\n",
        "    return 13 <= age <= 19\n",
        "\n",
        "# Example usage:\n",
        "age = int(input(\"Enter the age: \"))\n",
        "if is_teenager(age):\n",
        "    print(\"The person is a teenager.\")\n",
        "else:\n",
        "    print(\"The person is not a teenager.\")"
      ],
      "metadata": {
        "colab": {
          "base_uri": "https://localhost:8080/"
        },
        "id": "5wFI6vuqSIiR",
        "outputId": "8ff07e26-84f4-4108-b8fc-d009975aab17"
      },
      "execution_count": 1,
      "outputs": [
        {
          "output_type": "stream",
          "name": "stdout",
          "text": [
            "Enter the age: 12\n",
            "The person is not a teenager.\n"
          ]
        }
      ]
    },
    {
      "cell_type": "code",
      "source": [
        "def angle_type(angle):\n",
        "    if angle < 90:\n",
        "        return \"Acute Angle\"\n",
        "    elif angle == 90:\n",
        "        return \"Right Angle\"\n",
        "    else:\n",
        "        return \"Obtuse Angle\"\n",
        "\n",
        "# Example usage:\n",
        "angle_measure = float(input(\"Enter the angle measure in degrees: \"))\n",
        "print(\"The angle is a\", angle_type(angle_measure))"
      ],
      "metadata": {
        "colab": {
          "base_uri": "https://localhost:8080/"
        },
        "id": "ir_GuAt868x-",
        "outputId": "0c5a5645-e804-4cbe-8b08-9a485d000120"
      },
      "execution_count": 2,
      "outputs": [
        {
          "output_type": "stream",
          "name": "stdout",
          "text": [
            "Enter the angle measure in degrees: 80\n",
            "The angle is a Acute Angle\n"
          ]
        }
      ]
    },
    {
      "cell_type": "code",
      "source": [
        "import cmath\n",
        "\n",
        "def quadratic_roots(a, b, c):\n",
        "    discriminant = cmath.sqrt(b**2 - 4*a*c)\n",
        "    root1 = (-b + discriminant) / (2*a)\n",
        "    root2 = (-b - discriminant) / (2*a)\n",
        "    return root1, root2\n",
        "\n",
        "# Example usage:\n",
        "a = float(input(\"Enter the coefficient a: \"))\n",
        "b = float(input(\"Enter the coefficient b: \"))\n",
        "c = float(input(\"Enter the coefficient c: \"))\n",
        "roots = quadratic_roots(a, b, c)\n",
        "print(\"The roots are:\", roots)"
      ],
      "metadata": {
        "colab": {
          "base_uri": "https://localhost:8080/"
        },
        "id": "y60hBwsV7FPm",
        "outputId": "88ba83b0-8f0f-4cfb-b062-2c76aa583827"
      },
      "execution_count": 3,
      "outputs": [
        {
          "output_type": "stream",
          "name": "stdout",
          "text": [
            "Enter the coefficient a: 4\n",
            "Enter the coefficient b: 6\n",
            "Enter the coefficient c: 7\n",
            "The roots are: ((-0.75+1.0897247358851685j), (-0.75-1.0897247358851685j))\n"
          ]
        }
      ]
    },
    {
      "cell_type": "code",
      "source": [
        "def day_of_week(day_number):\n",
        "    days = [\"Monday\", \"Tuesday\", \"Wednesday\", \"Thursday\", \"Friday\", \"Saturday\", \"Sunday\"]\n",
        "    if 1 <= day_number <= 7:\n",
        "        return days[day_number - 1]\n",
        "    else:\n",
        "        return \"Invalid day number\"\n",
        "\n",
        "# Example usage:\n",
        "day_number = int(input(\"Enter the day number (1-7): \"))\n",
        "print(\"The day is:\", day_of_week(day_number))"
      ],
      "metadata": {
        "colab": {
          "base_uri": "https://localhost:8080/"
        },
        "id": "i1_OMZxX7KUP",
        "outputId": "b15880f0-8a95-4fc3-ecd0-4b4b62f90c22"
      },
      "execution_count": 4,
      "outputs": [
        {
          "output_type": "stream",
          "name": "stdout",
          "text": [
            "Enter the day number (1-7): 7\n",
            "The day is: Sunday\n"
          ]
        }
      ]
    },
    {
      "cell_type": "code",
      "source": [
        "def is_leap_year(year):\n",
        "    if (year % 4 == 0 and year % 100 != 0) or (year % 400 == 0):\n",
        "        return True\n",
        "    else:\n",
        "        return False\n",
        "\n",
        "# Example usage:\n",
        "year = int(input(\"Enter the year: \"))\n",
        "if is_leap_year(year):\n",
        "    print(\"The year is a leap year.\")\n",
        "else:\n",
        "    print(\"The year is not a leap year.\")"
      ],
      "metadata": {
        "colab": {
          "base_uri": "https://localhost:8080/"
        },
        "id": "FKmnwsbo7Qpw",
        "outputId": "a29b07c1-2091-4cd2-c1ba-e637344236c1"
      },
      "execution_count": 5,
      "outputs": [
        {
          "output_type": "stream",
          "name": "stdout",
          "text": [
            "Enter the year: 1922\n",
            "The year is not a leap year.\n"
          ]
        }
      ]
    },
    {
      "cell_type": "code",
      "source": [
        "def is_prime(number):\n",
        "    if number < 2:\n",
        "        return False\n",
        "    for i in range(2, int(number**0.5) + 1):\n",
        "        if number % i == 0:\n",
        "            return False\n",
        "    return True\n",
        "\n",
        "# Example usage:\n",
        "num = int(input(\"Enter a number: \"))\n",
        "if is_prime(num):\n",
        "    print(\"The number is prime.\")\n",
        "else:\n",
        "    print(\"The number is not prime.\")"
      ],
      "metadata": {
        "colab": {
          "base_uri": "https://localhost:8080/"
        },
        "id": "MG2k0s4Z7UbX",
        "outputId": "6c52b5a4-0093-4916-8d1f-e870c6b6b553"
      },
      "execution_count": 6,
      "outputs": [
        {
          "output_type": "stream",
          "name": "stdout",
          "text": [
            "Enter a number: 6\n",
            "The number is not prime.\n"
          ]
        }
      ]
    },
    {
      "cell_type": "code",
      "source": [
        "def assign_grade(score):\n",
        "    if 90 <= score <= 100:\n",
        "        return 'A'\n",
        "    elif 80 <= score < 90:\n",
        "        return 'B'\n",
        "    elif 70 <= score < 80:\n",
        "        return 'C'\n",
        "    elif 60 <= score < 70:\n",
        "        return 'D'\n",
        "    else:\n",
        "        return 'F'\n",
        "\n",
        "# Example usage:\n",
        "score = float(input(\"Enter the student's score: \"))\n",
        "print(\"The grade is:\", assign_grade(score))"
      ],
      "metadata": {
        "colab": {
          "base_uri": "https://localhost:8080/"
        },
        "id": "tgMN8Ot_7YMK",
        "outputId": "7d5dca4e-adb2-45e4-da5c-49a7b92310f3"
      },
      "execution_count": 1,
      "outputs": [
        {
          "output_type": "stream",
          "name": "stdout",
          "text": [
            "Enter the student's score: 70\n",
            "The grade is: C\n"
          ]
        }
      ]
    },
    {
      "cell_type": "code",
      "source": [
        "def triangle_type(angle1, angle2, angle3):\n",
        "    if angle1 + angle2 + angle3 == 180:\n",
        "        if angle1 == angle2 == angle3 == 60:\n",
        "            return \"Equilateral Triangle\"\n",
        "        elif angle1 == angle2 or angle1 == angle3 or angle2 == angle3:\n",
        "            return \"Isosceles Triangle\"\n",
        "        else:\n",
        "            return \"Scalene Triangle\"\n",
        "    else:\n",
        "        return \"Not a valid triangle\"\n",
        "\n",
        "# Example usage:\n",
        "angle1 = float(input(\"Enter the first angle: \"))\n",
        "angle2 = float(input(\"Enter the second angle: \"))\n",
        "angle3 = float(input(\"Enter the third angle: \"))\n",
        "print(\"The triangle is a\", triangle_type(angle1, angle2, angle3))"
      ],
      "metadata": {
        "colab": {
          "base_uri": "https://localhost:8080/"
        },
        "id": "9cBlsv6O3b_v",
        "outputId": "4533f58a-e7da-421d-e5e1-0507276f8c34"
      },
      "execution_count": 3,
      "outputs": [
        {
          "output_type": "stream",
          "name": "stdout",
          "text": [
            "Enter the first angle: 50\n",
            "Enter the second angle: 90\n",
            "Enter the third angle: 40\n",
            "The triangle is a Scalene Triangle\n"
          ]
        }
      ]
    },
    {
      "cell_type": "code",
      "source": [
        "def categorize_bmi(bmi):\n",
        "    if bmi < 18.5:\n",
        "        return \"Underweight\"\n",
        "    elif 18.5 <= bmi < 25:\n",
        "        return \"Normal Weight\"\n",
        "    elif 25 <= bmi < 30:\n",
        "        return \"Overweight\"\n",
        "    else:\n",
        "        return \"Obese\"\n",
        "\n",
        "# Example usage:\n",
        "weight = float(input(\"Enter the weight in kg: \"))\n",
        "height = float(input(\"Enter the height in meters: \"))\n",
        "bmi = weight / (height ** 2)\n",
        "print(\"BMI category:\", categorize_bmi(bmi))"
      ],
      "metadata": {
        "colab": {
          "base_uri": "https://localhost:8080/"
        },
        "id": "Y3WCghYJ3me-",
        "outputId": "e3de9443-f10d-49b6-f54b-bc2ec5fa8b4a"
      },
      "execution_count": 4,
      "outputs": [
        {
          "output_type": "stream",
          "name": "stdout",
          "text": [
            "Enter the weight in kg: 80\n",
            "Enter the height in meters: 50\n",
            "BMI category: Underweight\n"
          ]
        }
      ]
    },
    {
      "cell_type": "code",
      "source": [
        "def classify_number(number):\n",
        "    if number > 0:\n",
        "        return \"Positive\"\n",
        "    elif number < 0:\n",
        "        return \"Negative\"\n",
        "    else:\n",
        "        return \"Zero\"\n",
        "\n",
        "# Example usage:\n",
        "num = float(input(\"Enter a number: \"))\n",
        "print(\"The number is\", classify_number(num))"
      ],
      "metadata": {
        "colab": {
          "base_uri": "https://localhost:8080/"
        },
        "id": "TJ05XGhu4k2v",
        "outputId": "ab8bbdf6-4329-49aa-c238-6363b2104ef6"
      },
      "execution_count": 5,
      "outputs": [
        {
          "output_type": "stream",
          "name": "stdout",
          "text": [
            "Enter a number: 7\n",
            "The number is Positive\n"
          ]
        }
      ]
    },
    {
      "cell_type": "code",
      "source": [
        "def character_type(char):\n",
        "    if char.isalpha():\n",
        "        if char.isupper():\n",
        "            return \"Uppercase Letter\"\n",
        "        else:\n",
        "            return \"Lowercase Letter\"\n",
        "    else:\n",
        "        return \"Special Character\"\n",
        "\n",
        "# Example usage:\n",
        "character = input(\"Enter a character: \")\n",
        "print(\"The character is a\", character_type(character))"
      ],
      "metadata": {
        "colab": {
          "base_uri": "https://localhost:8080/"
        },
        "id": "PdOVDVSP4plJ",
        "outputId": "741f690e-5f71-466f-aada-f0559e53b6a2"
      },
      "execution_count": 6,
      "outputs": [
        {
          "output_type": "stream",
          "name": "stdout",
          "text": [
            "Enter a character: y\n",
            "The character is a Lowercase Letter\n"
          ]
        }
      ]
    },
    {
      "cell_type": "code",
      "source": [
        "def calculate_discounted_price(amount):\n",
        "    if amount >= 100:\n",
        "        discount = 0.1\n",
        "    elif amount >= 50:\n",
        "        discount = 0.05\n",
        "    else:\n",
        "        discount = 0\n",
        "    discounted_price = amount - (amount * discount)\n",
        "    return discounted_price\n",
        "\n",
        "# Example usage:\n",
        "purchase_amount = float(input(\"Enter the purchase amount: \"))\n",
        "print(\"Discounted price:\", calculate_discounted_price(purchase_amount))"
      ],
      "metadata": {
        "colab": {
          "base_uri": "https://localhost:8080/"
        },
        "id": "vhDp4E1r4x39",
        "outputId": "30418799-d730-41c2-e019-b9b0f818c16a"
      },
      "execution_count": 8,
      "outputs": [
        {
          "output_type": "stream",
          "name": "stdout",
          "text": [
            "Enter the purchase amount: 80\n",
            "Discounted price: 76.0\n"
          ]
        }
      ]
    },
    {
      "cell_type": "code",
      "source": [
        "def calculate_electricity_bill(units):\n",
        "    if units <= 50:\n",
        "        bill = units * 0.50\n",
        "    elif units <= 150:\n",
        "        bill = 50 + (units - 50) * 0.75\n",
        "    elif units <= 250:\n",
        "        bill = 100 + (units - 150) * 1.20\n",
        "    else:\n",
        "        bill = 220 + (units - 250) * 1.50\n",
        "    return bill\n",
        "\n",
        "# Example usage:\n",
        "consumed_units = float(input(\"Enter the consumed units: \"))\n",
        "print(\"Electricity bill:\", calculate_electricity_bill(consumed_units))"
      ],
      "metadata": {
        "colab": {
          "base_uri": "https://localhost:8080/"
        },
        "id": "28w3ea2R42j_",
        "outputId": "c4862774-fa42-4e84-a393-85fc15c1dced"
      },
      "execution_count": 9,
      "outputs": [
        {
          "output_type": "stream",
          "name": "stdout",
          "text": [
            "Enter the consumed units: 60\n",
            "Electricity bill: 57.5\n"
          ]
        }
      ]
    },
    {
      "cell_type": "code",
      "source": [
        "def quadrilateral_type(sides, angles):\n",
        "    if sides == 4:\n",
        "        if angles[0] == angles[1] == angles[2] == angles[3] == 90:\n",
        "            return \"Rectangle\"\n",
        "        elif angles[0] == angles[2] == 180 - angles[1] - angles[3]:\n",
        "            return \"Parallelogram\"\n",
        "        else:\n",
        "            return \"Quadrilateral\"\n",
        "    else:\n",
        "        return \"Not a quadrilateral\"\n",
        "\n",
        "# Example usage:\n",
        "num_sides = int(input(\"Enter the number of sides (should be 4): \"))\n",
        "if num_sides == 4:\n",
        "    angle_list = [float(input(f\"Enter angle {i + 1}: \")) for i in range(4)]\n",
        "    print(\"The quadrilateral is a\", quadrilateral_type(num_sides, angle_list))\n",
        "else:\n",
        "    print(\"Not a quadrilateral.\")"
      ],
      "metadata": {
        "colab": {
          "base_uri": "https://localhost:8080/"
        },
        "id": "pz_G5SEr8I9G",
        "outputId": "953555e0-0b77-41e3-b869-da30ff2f61f5"
      },
      "execution_count": 10,
      "outputs": [
        {
          "output_type": "stream",
          "name": "stdout",
          "text": [
            "Enter the number of sides (should be 4): 79\n",
            "Not a quadrilateral.\n"
          ]
        }
      ]
    },
    {
      "cell_type": "code",
      "source": [
        "def determine_season(month):\n",
        "    if month in [12, 1, 2]:\n",
        "        return \"Winter\"\n",
        "    elif month in [3, 4, 5]:\n",
        "        return \"Spring\"\n",
        "    elif month in [6, 7, 8]:\n",
        "        return \"Summer\"\n",
        "    elif month in [9, 10, 11]:\n",
        "        return \"Fall\"\n",
        "    else:\n",
        "        return \"Invalid month\"\n",
        "\n",
        "# Example usage:\n",
        "user_month = int(input(\"Enter the month (1-12): \"))\n",
        "print(\"The season is:\", determine_season(user_month))"
      ],
      "metadata": {
        "colab": {
          "base_uri": "https://localhost:8080/"
        },
        "id": "8RZCaXuq8M2o",
        "outputId": "546e1731-4496-42e5-cff5-cfa9671857fe"
      },
      "execution_count": 11,
      "outputs": [
        {
          "output_type": "stream",
          "name": "stdout",
          "text": [
            "Enter the month (1-12): 7\n",
            "The season is: Summer\n"
          ]
        }
      ]
    },
    {
      "cell_type": "code",
      "source": [
        "def year_month_type(year, month):\n",
        "    # Leap year check\n",
        "    is_leap_year = (year % 4 == 0 and year % 100 != 0) or (year % 400 == 0)\n",
        "\n",
        "    # Month type check\n",
        "    if month in [1, 3, 5, 7, 8, 10, 12]:\n",
        "        days_in_month = 31\n",
        "    elif month in [4, 6, 9, 11]:\n",
        "        days_in_month = 30\n",
        "    elif month == 2:\n",
        "        days_in_month = 29 if is_leap_year else 28\n",
        "    else:\n",
        "        return \"Invalid month\"\n",
        "\n",
        "    return f\"{year} is a {'leap' if is_leap_year else 'common'} year, and {month} has {days_in_month} days.\"\n",
        "\n",
        "# Example usage:\n",
        "user_year = int(input(\"Enter the year: \"))\n",
        "user_month = int(input(\"Enter the month (1-12): \"))\n",
        "print(year_month_type(user_year, user_month))"
      ],
      "metadata": {
        "colab": {
          "base_uri": "https://localhost:8080/"
        },
        "id": "Gb_9nCBg8hp5",
        "outputId": "99e11057-2629-4f7f-d5df-5fcb753a9834"
      },
      "execution_count": 12,
      "outputs": [
        {
          "output_type": "stream",
          "name": "stdout",
          "text": [
            "Enter the year: 1989\n",
            "Enter the month (1-12): 4\n",
            "1989 is a common year, and 4 has 30 days.\n"
          ]
        }
      ]
    },
    {
      "cell_type": "markdown",
      "source": [
        "#Basic level"
      ],
      "metadata": {
        "id": "rKs6TC-y8tb0"
      }
    },
    {
      "cell_type": "code",
      "source": [
        "def classify_number(number):\n",
        "    if number > 0:\n",
        "        return \"Positive\"\n",
        "    elif number < 0:\n",
        "        return \"Negative\"\n",
        "    else:\n",
        "        return \"Zero\"\n",
        "\n",
        "# Example usage:\n",
        "num = float(input(\"Enter a number: \"))\n",
        "print(\"The number is\", classify_number(num))"
      ],
      "metadata": {
        "colab": {
          "base_uri": "https://localhost:8080/"
        },
        "id": "p3HDobl_8k2r",
        "outputId": "51b2c213-672d-4fa9-c52d-fada0b0c1eb3"
      },
      "execution_count": 13,
      "outputs": [
        {
          "output_type": "stream",
          "name": "stdout",
          "text": [
            "Enter a number: 50\n",
            "The number is Positive\n"
          ]
        }
      ]
    },
    {
      "cell_type": "code",
      "source": [
        "def check_voting_eligibility(age):\n",
        "    if age >= 18:\n",
        "        return \"Eligible to vote\"\n",
        "    else:\n",
        "        return \"Not eligible to vote\"\n",
        "\n",
        "# Example usage:\n",
        "user_age = int(input(\"Enter your age: \"))\n",
        "print(\"You are\", check_voting_eligibility(user_age))"
      ],
      "metadata": {
        "colab": {
          "base_uri": "https://localhost:8080/"
        },
        "id": "gExoVDYg9AJx",
        "outputId": "d1250575-2ad9-4e41-bbf7-d684f4edfa82"
      },
      "execution_count": 14,
      "outputs": [
        {
          "output_type": "stream",
          "name": "stdout",
          "text": [
            "Enter your age: 18\n",
            "You are Eligible to vote\n"
          ]
        }
      ]
    },
    {
      "cell_type": "code",
      "source": [
        "def find_maximum(num1, num2):\n",
        "    if num1 > num2:\n",
        "        return num1\n",
        "    else:\n",
        "        return num2\n",
        "\n",
        "# Example usage:\n",
        "number1 = float(input(\"Enter the first number: \"))\n",
        "number2 = float(input(\"Enter the second number: \"))\n",
        "print(\"The maximum is:\", find_maximum(number1, number2))"
      ],
      "metadata": {
        "colab": {
          "base_uri": "https://localhost:8080/"
        },
        "id": "twz2q1Jl9D_n",
        "outputId": "da0b0c64-69ee-4ffd-b077-fd0d41ff6453"
      },
      "execution_count": 15,
      "outputs": [
        {
          "output_type": "stream",
          "name": "stdout",
          "text": [
            "Enter the first number: 7\n",
            "Enter the second number: 9\n",
            "The maximum is: 9.0\n"
          ]
        }
      ]
    },
    {
      "cell_type": "code",
      "source": [
        "def calculate_grade(score):\n",
        "    if 90 <= score <= 100:\n",
        "        return 'A'\n",
        "    elif 80 <= score < 90:\n",
        "        return 'B'\n",
        "    elif 70 <= score < 80:\n",
        "        return 'C'\n",
        "    elif 60 <= score < 70:\n",
        "        return 'D'\n",
        "    else:\n",
        "        return 'F'\n",
        "\n",
        "# Example usage:\n",
        "exam_score = float(input(\"Enter the exam score: \"))\n",
        "print(\"The grade is:\", calculate_grade(exam_score))"
      ],
      "metadata": {
        "colab": {
          "base_uri": "https://localhost:8080/"
        },
        "id": "2r5yzfJY9Hdh",
        "outputId": "02c0aef8-6231-4c0d-8c08-6990ae7eb65b"
      },
      "execution_count": 16,
      "outputs": [
        {
          "output_type": "stream",
          "name": "stdout",
          "text": [
            "Enter the exam score: 88\n",
            "The grade is: B\n"
          ]
        }
      ]
    },
    {
      "cell_type": "code",
      "source": [
        "def is_leap_year(year):\n",
        "    if (year % 4 == 0 and year % 100 != 0) or (year % 400 == 0):\n",
        "        return True\n",
        "    else:\n",
        "        return False\n",
        "\n",
        "# Example usage:\n",
        "year = int(input(\"Enter the year: \"))\n",
        "if is_leap_year(year):\n",
        "    print(\"The year is a leap year.\")\n",
        "else:\n",
        "    print(\"The year is not a leap year.\")"
      ],
      "metadata": {
        "colab": {
          "base_uri": "https://localhost:8080/"
        },
        "id": "iCiIXKB19Ltc",
        "outputId": "8137c3e6-eb0f-4bfb-b4d1-a2b03e934c74"
      },
      "execution_count": 17,
      "outputs": [
        {
          "output_type": "stream",
          "name": "stdout",
          "text": [
            "Enter the year: 2000\n",
            "The year is a leap year.\n"
          ]
        }
      ]
    },
    {
      "cell_type": "code",
      "source": [
        "def classify_triangle(side1, side2, side3):\n",
        "    if side1 == side2 == side3:\n",
        "        return \"Equilateral Triangle\"\n",
        "    elif side1 == side2 or side1 == side3 or side2 == side3:\n",
        "        return \"Isosceles Triangle\"\n",
        "    else:\n",
        "        return \"Scalene Triangle\"\n",
        "\n",
        "# Example usage:\n",
        "side1 = float(input(\"Enter the length of the first side: \"))\n",
        "side2 = float(input(\"Enter the length of the second side: \"))\n",
        "side3 = float(input(\"Enter the length of the third side: \"))\n",
        "print(\"The triangle is a\", classify_triangle(side1, side2, side3))\n"
      ],
      "metadata": {
        "colab": {
          "base_uri": "https://localhost:8080/"
        },
        "id": "3hCvsSGs9O-b",
        "outputId": "aa3fe128-b4d2-4f6c-877e-497c497fff55"
      },
      "execution_count": 19,
      "outputs": [
        {
          "output_type": "stream",
          "name": "stdout",
          "text": [
            "Enter the length of the first side: 2\n",
            "Enter the length of the second side: 2\n",
            "Enter the length of the third side: 2\n",
            "The triangle is a Equilateral Triangle\n"
          ]
        }
      ]
    },
    {
      "cell_type": "code",
      "source": [
        "def check_char_type(char):\n",
        "    vowels = \"AEIOUaeiou\"\n",
        "    if char.isalpha():\n",
        "        if char in vowels:\n",
        "            return \"Vowel\"\n",
        "        else:\n",
        "            return \"Consonant\"\n",
        "    else:\n",
        "        return \"Invalid input\"\n",
        "\n",
        "# Example usage:\n",
        "character = input(\"Enter a character: \")\n",
        "print(\"The character is a\", check_char_type(character))"
      ],
      "metadata": {
        "colab": {
          "base_uri": "https://localhost:8080/"
        },
        "id": "hJpgJCDW9ZvD",
        "outputId": "0194a22a-064d-4189-c399-e049b30b170c"
      },
      "execution_count": 21,
      "outputs": [
        {
          "output_type": "stream",
          "name": "stdout",
          "text": [
            "Enter a character: h\n",
            "The character is a Consonant\n"
          ]
        }
      ]
    },
    {
      "cell_type": "code",
      "source": [
        "import cmath\n",
        "\n",
        "def quadratic_roots(a, b, c):\n",
        "    discriminant = cmath.sqrt(b**2 - 4*a*c)\n",
        "    root1 = (-b + discriminant) / (2*a)\n",
        "    root2 = (-b - discriminant) / (2*a)\n",
        "    return root1, root2\n",
        "\n",
        "# Example usage:\n",
        "a = float(input(\"Enter the coefficient a: \"))\n",
        "b = float(input(\"Enter the coefficient b: \"))\n",
        "c = float(input(\"Enter the coefficient c: \"))\n",
        "roots = quadratic_roots(a, b, c)\n",
        "print(\"The roots are:\", roots)"
      ],
      "metadata": {
        "colab": {
          "base_uri": "https://localhost:8080/"
        },
        "id": "PciroADX9dd0",
        "outputId": "f8827392-406f-4d38-85d5-2568f0edf527"
      },
      "execution_count": 22,
      "outputs": [
        {
          "output_type": "stream",
          "name": "stdout",
          "text": [
            "Enter the coefficient a: 3\n",
            "Enter the coefficient b: 4\n",
            "Enter the coefficient c: 5\n",
            "The roots are: ((-0.6666666666666666+1.1055415967851332j), (-0.6666666666666666-1.1055415967851332j))\n"
          ]
        }
      ]
    },
    {
      "cell_type": "code",
      "source": [
        "def day_of_week(day_number):\n",
        "    days = [\"Monday\", \"Tuesday\", \"Wednesday\", \"Thursday\", \"Friday\", \"Saturday\", \"Sunday\"]\n",
        "    if 1 <= day_number <= 7:\n",
        "        return days[day_number - 1]\n",
        "    else:\n",
        "        return \"Invalid day number\"\n",
        "\n",
        "# Example usage:\n",
        "day_number = int(input(\"Enter the day number (1-7): \"))\n",
        "print(\"The day is:\", day_of_week(day_number))\n"
      ],
      "metadata": {
        "colab": {
          "base_uri": "https://localhost:8080/"
        },
        "id": "o1pBaAhjCaBO",
        "outputId": "d572479d-5140-47cb-ee6f-5238dd5c5272"
      },
      "execution_count": 23,
      "outputs": [
        {
          "output_type": "stream",
          "name": "stdout",
          "text": [
            "Enter the day number (1-7): 5\n",
            "The day is: Friday\n"
          ]
        }
      ]
    },
    {
      "cell_type": "code",
      "source": [
        "def factorial(n):\n",
        "    if n == 0 or n == 1:\n",
        "        return 1\n",
        "    else:\n",
        "        return n * factorial(n-1)\n",
        "\n",
        "# Example usage:\n",
        "num = int(input(\"Enter a number: \"))\n",
        "print(\"Factorial:\", factorial(num))\n"
      ],
      "metadata": {
        "colab": {
          "base_uri": "https://localhost:8080/"
        },
        "id": "26oF7SQuCjnY",
        "outputId": "3adbd58c-8210-4af3-c100-835612b96b77"
      },
      "execution_count": 24,
      "outputs": [
        {
          "output_type": "stream",
          "name": "stdout",
          "text": [
            "Enter a number: 4\n",
            "Factorial: 24\n"
          ]
        }
      ]
    },
    {
      "cell_type": "code",
      "source": [
        "def find_largest(num1, num2, num3):\n",
        "    if num1 >= num2 and num1 >= num3:\n",
        "        return num1\n",
        "    elif num2 >= num1 and num2 >= num3:\n",
        "        return num2\n",
        "    else:\n",
        "        return num3\n",
        "\n",
        "# Example usage:\n",
        "number1 = float(input(\"Enter the first number: \"))\n",
        "number2 = float(input(\"Enter the second number: \"))\n",
        "number3 = float(input(\"Enter the third number: \"))\n",
        "print(\"The largest number is:\", find_largest(number1, number2, number3))\n"
      ],
      "metadata": {
        "colab": {
          "base_uri": "https://localhost:8080/"
        },
        "id": "ZlzBVJ4jCmTB",
        "outputId": "e7764459-cd3f-44b7-a7d5-d033bb124130"
      },
      "execution_count": 25,
      "outputs": [
        {
          "output_type": "stream",
          "name": "stdout",
          "text": [
            "Enter the first number: 5\n",
            "Enter the second number: 6\n",
            "Enter the third number: 7\n",
            "The largest number is: 7.0\n"
          ]
        }
      ]
    },
    {
      "cell_type": "code",
      "source": [
        "def atm_transaction():\n",
        "    balance = 1000  # Initial balance\n",
        "\n",
        "    while True:\n",
        "        print(\"\\n1. Check Balance\")\n",
        "        print(\"2. Deposit\")\n",
        "        print(\"3. Withdraw\")\n",
        "        print(\"4. Exit\")\n",
        "\n",
        "        choice = int(input(\"Enter your choice: \"))\n",
        "\n",
        "        if choice == 1:\n",
        "            print(\"Balance: $\", balance)\n",
        "        elif choice == 2:\n",
        "            deposit_amount = float(input(\"Enter deposit amount: $\"))\n",
        "            balance += deposit_amount\n",
        "            print(\"Deposit successful.\")\n",
        "        elif choice == 3:\n",
        "            withdraw_amount = float(input(\"Enter withdrawal amount: $\"))\n",
        "            if withdraw_amount <= balance:\n",
        "                balance -= withdraw_amount\n",
        "                print(\"Withdrawal successful.\")\n",
        "            else:\n",
        "                print(\"Insufficient funds.\")\n",
        "        elif choice == 4:\n",
        "            print(\"Exiting ATM. Thank you!\")\n",
        "            break\n",
        "        else:\n",
        "            print(\"Invalid choice. Please try again.\")\n",
        "\n",
        "# Example usage:\n",
        "while True:\n",
        "    atm_transaction()\n",
        "    another_transaction = input(\"Do you want to perform another transaction? (yes/no): \").lower()\n",
        "    if another_transaction != 'yes':\n",
        "        print(\"Thank you for using the ATM. Have a great day!\")\n",
        "        break\n"
      ],
      "metadata": {
        "colab": {
          "base_uri": "https://localhost:8080/"
        },
        "id": "9VRrZwFgCpRh",
        "outputId": "beab5815-f553-431c-8e37-9ed187ca5afa"
      },
      "execution_count": 33,
      "outputs": [
        {
          "output_type": "stream",
          "name": "stdout",
          "text": [
            "\n",
            "1. Check Balance\n",
            "2. Deposit\n",
            "3. Withdraw\n",
            "4. Exit\n",
            "Enter your choice: 2\n",
            "Enter deposit amount: $55\n",
            "Deposit successful.\n",
            "\n",
            "1. Check Balance\n",
            "2. Deposit\n",
            "3. Withdraw\n",
            "4. Exit\n",
            "Enter your choice: 4\n",
            "Exiting ATM. Thank you!\n",
            "Do you want to perform another transaction? (yes/no): no\n",
            "Thank you for using the ATM. Have a great day!\n"
          ]
        }
      ]
    },
    {
      "cell_type": "code",
      "source": [
        "def is_palindrome(s):\n",
        "    s = s.lower()\n",
        "    s = ''.join(c for c in s if c.isalnum())\n",
        "    return s == s[::-1]\n",
        "\n",
        "# Example usage:\n",
        "string = input(\"Enter a string: \")\n",
        "if is_palindrome(string):\n",
        "    print(\"The string is a palindrome.\")\n",
        "else:\n",
        "    print(\"The string is not a palindrome.\")\n"
      ],
      "metadata": {
        "colab": {
          "base_uri": "https://localhost:8080/"
        },
        "id": "DprW0DKACuN-",
        "outputId": "0e8e6bb0-3fac-43ab-b576-64225918724b"
      },
      "execution_count": 27,
      "outputs": [
        {
          "output_type": "stream",
          "name": "stdout",
          "text": [
            "Enter a string: hrh\n",
            "The string is a palindrome.\n"
          ]
        }
      ]
    },
    {
      "cell_type": "code",
      "source": [
        "def calculate_average(numbers):\n",
        "    if len(numbers) < 3:\n",
        "        return \"Not enough numbers to calculate average.\"\n",
        "\n",
        "    numbers.sort()\n",
        "    trimmed_numbers = numbers[1:-1]\n",
        "    avg = sum(trimmed_numbers) / len(trimmed_numbers)\n",
        "    return avg\n",
        "\n",
        "# Example usage:\n",
        "numbers_list = [float(x) for x in input(\"Enter a list of numbers separated by spaces: \").split()]\n",
        "print(\"Average (excluding smallest and largest):\", calculate_average(numbers_list))\n",
        "\n"
      ],
      "metadata": {
        "colab": {
          "base_uri": "https://localhost:8080/"
        },
        "id": "UwoGxyTNC6uP",
        "outputId": "b2bc61f2-c85d-4c8b-9074-b80a367f3348"
      },
      "execution_count": 28,
      "outputs": [
        {
          "output_type": "stream",
          "name": "stdout",
          "text": [
            "Enter a list of numbers separated by spaces: 77\n",
            "Average (excluding smallest and largest): Not enough numbers to calculate average.\n"
          ]
        }
      ]
    },
    {
      "cell_type": "code",
      "source": [
        "def celsius_to_fahrenheit(celsius):\n",
        "    return (celsius * 9/5) + 32\n",
        "\n",
        "# Example usage:\n",
        "celsius_temp = float(input(\"Enter temperature in Celsius: \"))\n",
        "fahrenheit_temp = celsius_to_fahrenheit(celsius_temp)\n",
        "print(\"Temperature in Fahrenheit:\", fahrenheit_temp)\n"
      ],
      "metadata": {
        "colab": {
          "base_uri": "https://localhost:8080/"
        },
        "id": "HNCa0No3C_Y2",
        "outputId": "cc1b7f1e-73b0-4510-be35-09141bb3141b"
      },
      "execution_count": 29,
      "outputs": [
        {
          "output_type": "stream",
          "name": "stdout",
          "text": [
            "Enter temperature in Celsius: 43\n",
            "Temperature in Fahrenheit: 109.4\n"
          ]
        }
      ]
    },
    {
      "cell_type": "code",
      "source": [
        "def add(x, y):\n",
        "    return x + y\n",
        "\n",
        "def subtract(x, y):\n",
        "    return x - y\n",
        "\n",
        "def multiply(x, y):\n",
        "    return x * y\n",
        "\n",
        "def divide(x, y):\n",
        "    if y != 0:\n",
        "        return x / y\n",
        "    else:\n",
        "        return \"Error: Division by zero\"\n",
        "\n",
        "while True:\n",
        "    print(\"Select operation:\")\n",
        "    print(\"1. Add\")\n",
        "    print(\"2. Subtract\")\n",
        "    print(\"3. Multiply\")\n",
        "    print(\"4. Divide\")\n",
        "    print(\"5. Exit\")\n",
        "\n",
        "    choice = input(\"Enter choice (1/2/3/4/5): \")\n",
        "\n",
        "    if choice == '5':\n",
        "        print(\"Exiting the calculator. Goodbye!\")\n",
        "        break\n",
        "\n",
        "    num1 = float(input(\"Enter first number: \"))\n",
        "    num2 = float(input(\"Enter second number: \"))\n",
        "\n",
        "    if choice == '1':\n",
        "        print(num1, \"+\", num2, \"=\", add(num1, num2))\n",
        "    elif choice == '2':\n",
        "        print(num1, \"-\", num2, \"=\", subtract(num1, num2))\n",
        "    elif choice == '3':\n",
        "        print(num1, \"*\", num2, \"=\", multiply(num1, num2))\n",
        "    elif choice == '4':\n",
        "        print(num1, \"/\", num2, \"=\", divide(num1, num2))\n",
        "    else:\n",
        "        print(\"Invalid input\")\n"
      ],
      "metadata": {
        "colab": {
          "base_uri": "https://localhost:8080/"
        },
        "id": "A9YiVrX3DEfz",
        "outputId": "91da93ba-088e-4703-c55e-8adeda206f28"
      },
      "execution_count": 34,
      "outputs": [
        {
          "output_type": "stream",
          "name": "stdout",
          "text": [
            "Select operation:\n",
            "1. Add\n",
            "2. Subtract\n",
            "3. Multiply\n",
            "4. Divide\n",
            "5. Exit\n",
            "Enter choice (1/2/3/4/5): 4\n",
            "Enter first number: 5\n",
            "Enter second number: 6\n",
            "5.0 / 6.0 = 0.8333333333333334\n",
            "Select operation:\n",
            "1. Add\n",
            "2. Subtract\n",
            "3. Multiply\n",
            "4. Divide\n",
            "5. Exit\n",
            "Enter choice (1/2/3/4/5): 5\n",
            "Exiting the calculator. Goodbye!\n"
          ]
        }
      ]
    },
    {
      "cell_type": "code",
      "source": [
        "import cmath  # Importing the complex math module for handling complex roots\n",
        "\n",
        "def cubic_solver(a, b, c, d):\n",
        "    delta0 = c**2 - 3*b*d\n",
        "    delta1 = 2*c**3 - 9*b*c*d + 27*a*d**2\n",
        "    C = (delta1 + cmath.sqrt(delta1**2 - 4*delta0**3)) / 2.0\n",
        "    u = C**(1/3) if C != 0 else 0\n",
        "    y = (b + u + delta0/u) / (3*a)\n",
        "    delta = cmath.sqrt(b**2 - 3*a*c + 12*a*y)\n",
        "    w = -0.5 + (cmath.sqrt(3)/2)*1j\n",
        "\n",
        "    root1 = -1/(3*a) * (b + delta*w + 2*u)\n",
        "    root2 = -1/(3*a) * (b - delta*w + 2*u)\n",
        "    root3 = -1/(3*a) * (b + delta*w - 2*u)\n",
        "\n",
        "    return root1, root2, root3\n",
        "\n",
        "# Example usage:\n",
        "a = float(input(\"Enter coefficient a: \"))\n",
        "b = float(input(\"Enter coefficient b: \"))\n",
        "c = float(input(\"Enter coefficient c: \"))\n",
        "d = float(input(\"Enter coefficient d: \"))\n",
        "\n",
        "roots = cubic_solver(a, b, c, d)\n",
        "\n",
        "print(\"Root 1:\", roots[0])\n",
        "print(\"Root 2:\", roots[1])\n",
        "print(\"Root 3:\", roots[2])\n"
      ],
      "metadata": {
        "colab": {
          "base_uri": "https://localhost:8080/"
        },
        "id": "fQVs8uMmDQgi",
        "outputId": "d2c0a608-b449-4bfd-cf43-b332d2878f64"
      },
      "execution_count": 32,
      "outputs": [
        {
          "output_type": "stream",
          "name": "stdout",
          "text": [
            "Enter coefficient a: 1\n",
            "Enter coefficient b: 2\n",
            "Enter coefficient c: 3\n",
            "Enter coefficient d: 4\n",
            "Root 1: (-4.291448038496474-1.293568067305726j)\n",
            "Root 2: (-5.785131782244605+1.293568067305726j)\n",
            "Root 3: (4.451798448911271-1.293568067305726j)\n"
          ]
        }
      ]
    },
    {
      "cell_type": "markdown",
      "source": [
        "#Advanced Level"
      ],
      "metadata": {
        "id": "PechlS4SEKoo"
      }
    },
    {
      "cell_type": "code",
      "source": [
        "def calculate_income_tax(income):\n",
        "    # Define tax brackets and rates\n",
        "    brackets = [10000, 40000, 80000, 150000]\n",
        "    rates = [0.1, 0.2, 0.3, 0.4, 0.5]\n",
        "\n",
        "    # Calculate tax\n",
        "    tax = 0\n",
        "    income_remaining = income\n",
        "\n",
        "    for i in range(len(brackets)):\n",
        "        if income_remaining > brackets[i]:\n",
        "            tax += (brackets[i] * rates[i])\n",
        "            income_remaining -= brackets[i]\n",
        "        else:\n",
        "            tax += (income_remaining * rates[i])\n",
        "            break\n",
        "\n",
        "    return tax\n",
        "\n",
        "# Example usage:\n",
        "income = float(input(\"Enter your income: $\"))\n",
        "tax = calculate_income_tax(income)\n",
        "print(f\"Your income tax is: ${tax}\")\n"
      ],
      "metadata": {
        "colab": {
          "base_uri": "https://localhost:8080/"
        },
        "id": "1qJpJZO3DZnx",
        "outputId": "bbda47d8-aefb-40a4-ee40-55802e53c42b"
      },
      "execution_count": 35,
      "outputs": [
        {
          "output_type": "stream",
          "name": "stdout",
          "text": [
            "Enter your income: $555\n",
            "Your income tax is: $55.5\n"
          ]
        }
      ]
    },
    {
      "cell_type": "code",
      "source": [
        "import random\n",
        "\n",
        "def play_rps(user_choice):\n",
        "    choices = ['rock', 'paper', 'scissors']\n",
        "    computer_choice = random.choice(choices)\n",
        "\n",
        "    print(f\"You chose {user_choice}\")\n",
        "    print(f\"Computer chose {computer_choice}\")\n",
        "\n",
        "    if user_choice == computer_choice:\n",
        "        print(\"It's a tie!\")\n",
        "    elif (\n",
        "        (user_choice == 'rock' and computer_choice == 'scissors') or\n",
        "        (user_choice == 'paper' and computer_choice == 'rock') or\n",
        "        (user_choice == 'scissors' and computer_choice == 'paper')\n",
        "    ):\n",
        "        print(\"You win!\")\n",
        "    else:\n",
        "        print(\"Computer wins!\")\n",
        "\n",
        "# Example usage:\n",
        "user_input = input(\"Enter your choice (rock/paper/scissors): \").lower()\n",
        "play_rps(user_input)\n"
      ],
      "metadata": {
        "colab": {
          "base_uri": "https://localhost:8080/"
        },
        "id": "YfjThw5OEYWp",
        "outputId": "8a3c743c-8724-455f-f8e7-5a75ac61b93b"
      },
      "execution_count": 36,
      "outputs": [
        {
          "output_type": "stream",
          "name": "stdout",
          "text": [
            "Enter your choice (rock/paper/scissors): rock\n",
            "You chose rock\n",
            "Computer chose scissors\n",
            "You win!\n"
          ]
        }
      ]
    },
    {
      "cell_type": "code",
      "source": [
        "import random\n",
        "import string\n",
        "\n",
        "def generate_password(length, complexity):\n",
        "    characters = ''\n",
        "\n",
        "    if 'lower' in complexity:\n",
        "        characters += string.ascii_lowercase\n",
        "    if 'upper' in complexity:\n",
        "        characters += string.ascii_uppercase\n",
        "    if 'digits' in complexity:\n",
        "        characters += string.digits\n",
        "    if 'special' in complexity:\n",
        "        characters += string.punctuation\n",
        "\n",
        "    if not characters:\n",
        "        print(\"Error: Please select at least one character type for the password.\")\n",
        "        return None\n",
        "\n",
        "    password = ''.join(random.choice(characters) for _ in range(length))\n",
        "    return password\n",
        "\n",
        "# Example usage:\n",
        "password_length = int(input(\"Enter the length of the password: \"))\n",
        "password_complexity = input(\"Enter password complexity (lower/upper/digits/special): \").split(',')\n",
        "\n",
        "password = generate_password(password_length, password_complexity)\n",
        "\n",
        "if password:\n",
        "    print(f\"Generated Password: {password}\")\n"
      ],
      "metadata": {
        "colab": {
          "base_uri": "https://localhost:8080/"
        },
        "id": "7gxDCMp9EbuJ",
        "outputId": "e48c1899-cfdb-43e7-9a83-ac8f07269660"
      },
      "execution_count": 42,
      "outputs": [
        {
          "output_type": "stream",
          "name": "stdout",
          "text": [
            "Enter the length of the password: 4\n",
            "Enter password complexity (lower/upper/digits/special): hhhh\n",
            "Error: Please select at least one character type for the password.\n"
          ]
        }
      ]
    },
    {
      "cell_type": "code",
      "source": [
        "def start_game():\n",
        "    print(\"Welcome to the Text-Based Adventure Game!\")\n",
        "    print(\"You find yourself at a crossroads. Which path will you choose?\")\n",
        "\n",
        "    while True:\n",
        "        print(\"\\n1. Take the left path.\")\n",
        "        print(\"2. Take the right path.\")\n",
        "        print(\"3. Quit the game.\")\n",
        "\n",
        "        choice = input(\"Enter your choice (1/2/3): \")\n",
        "\n",
        "        if choice == '1':\n",
        "            print(\"You encounter a friendly traveler. They share a map with you.\")\n",
        "            print(\"The left path leads to a hidden treasure!\")\n",
        "            break\n",
        "        elif choice == '2':\n",
        "            print(\"You follow the right path and come across a pack of wolves.\")\n",
        "            print(\"You manage to escape, but your health is reduced.\")\n",
        "            break\n",
        "        elif choice == '3':\n",
        "            print(\"Quitting the game. Goodbye!\")\n",
        "            return\n",
        "        else:\n",
        "            print(\"Invalid choice. Please try again.\")\n",
        "\n",
        "start_game()\n"
      ],
      "metadata": {
        "colab": {
          "base_uri": "https://localhost:8080/"
        },
        "id": "3cw-tm_QEgtq",
        "outputId": "cddcfb09-bb7d-4d2c-d87b-ec580ff1e38d"
      },
      "execution_count": 43,
      "outputs": [
        {
          "output_type": "stream",
          "name": "stdout",
          "text": [
            "Welcome to the Text-Based Adventure Game!\n",
            "You find yourself at a crossroads. Which path will you choose?\n",
            "\n",
            "1. Take the left path.\n",
            "2. Take the right path.\n",
            "3. Quit the game.\n",
            "Enter your choice (1/2/3): 1\n",
            "You encounter a friendly traveler. They share a map with you.\n",
            "The left path leads to a hidden treasure!\n"
          ]
        }
      ]
    },
    {
      "cell_type": "code",
      "source": [
        "def solve_linear_equation(a, b):\n",
        "    if a == 0:\n",
        "        if b == 0:\n",
        "            return \"Infinite solutions (all real numbers)\"\n",
        "        else:\n",
        "            return \"No solution\"\n",
        "    else:\n",
        "        x = -b / a\n",
        "        return f\"The solution is x = {x}\"\n",
        "\n",
        "# Example usage:\n",
        "a = float(input(\"Enter the coefficient 'a': \"))\n",
        "b = float(input(\"Enter the coefficient 'b': \"))\n",
        "\n",
        "result = solve_linear_equation(a, b)\n",
        "print(result)\n"
      ],
      "metadata": {
        "colab": {
          "base_uri": "https://localhost:8080/"
        },
        "id": "Cw9-b4RlGBwW",
        "outputId": "ea29e6a6-5235-4525-eec0-95ce416f45be"
      },
      "execution_count": 44,
      "outputs": [
        {
          "output_type": "stream",
          "name": "stdout",
          "text": [
            "Enter the coefficient 'a': 1\n",
            "Enter the coefficient 'b': 1\n",
            "The solution is x = -1.0\n"
          ]
        }
      ]
    },
    {
      "cell_type": "code",
      "source": [
        "def quiz():\n",
        "    questions = [\n",
        "        {\"question\": \"What is the capital of France?\", \"options\": [\"A. London\", \"B. Paris\", \"C. Berlin\"], \"answer\": \"B\"},\n",
        "        {\"question\": \"Which planet is known as the Red Planet?\", \"options\": [\"A. Venus\", \"B. Mars\", \"C. Jupiter\"], \"answer\": \"B\"},\n",
        "        {\"question\": \"What is the largest mammal in the world?\", \"options\": [\"A. Elephant\", \"B. Blue Whale\", \"C. Giraffe\"], \"answer\": \"B\"}\n",
        "    ]\n",
        "\n",
        "    score = 0\n",
        "\n",
        "    for q in questions:\n",
        "        print(q[\"question\"])\n",
        "        for option in q[\"options\"]:\n",
        "            print(option)\n",
        "\n",
        "        user_answer = input(\"Your answer: \").upper()\n",
        "\n",
        "        if user_answer == q[\"answer\"]:\n",
        "            print(\"Correct!\\n\")\n",
        "            score += 1\n",
        "        else:\n",
        "            print(f\"Wrong! The correct answer is {q['answer']}.\\n\")\n",
        "\n",
        "    print(f\"Quiz complete! Your score: {score}/{len(questions)}\")\n",
        "\n",
        "# Example usage:\n",
        "quiz()\n"
      ],
      "metadata": {
        "colab": {
          "base_uri": "https://localhost:8080/"
        },
        "id": "PVATJcKTGHFX",
        "outputId": "49bfda37-6cd5-44c7-d835-ca86dbda5a07"
      },
      "execution_count": 45,
      "outputs": [
        {
          "output_type": "stream",
          "name": "stdout",
          "text": [
            "What is the capital of France?\n",
            "A. London\n",
            "B. Paris\n",
            "C. Berlin\n",
            "Your answer: b\n",
            "Correct!\n",
            "\n",
            "Which planet is known as the Red Planet?\n",
            "A. Venus\n",
            "B. Mars\n",
            "C. Jupiter\n",
            "Your answer: a\n",
            "Wrong! The correct answer is B.\n",
            "\n",
            "What is the largest mammal in the world?\n",
            "A. Elephant\n",
            "B. Blue Whale\n",
            "C. Giraffe\n",
            "Your answer: b\n",
            "Correct!\n",
            "\n",
            "Quiz complete! Your score: 2/3\n"
          ]
        }
      ]
    },
    {
      "cell_type": "code",
      "source": [
        "def is_prime(year):\n",
        "    if year < 2:\n",
        "        return False\n",
        "    for i in range(2, int(year**0.5) + 1):\n",
        "        if year % i == 0:\n",
        "            return False\n",
        "    return True\n",
        "\n",
        "# Example usage:\n",
        "year = int(input(\"Enter a year: \"))\n",
        "if is_prime(year):\n",
        "    print(f\"{year} is a prime number.\")\n",
        "else:\n",
        "    print(f\"{year} is not a prime number.\")\n"
      ],
      "metadata": {
        "colab": {
          "base_uri": "https://localhost:8080/"
        },
        "id": "zga2er6uGMQS",
        "outputId": "47cdfc01-5dcb-408d-cf9c-26616afdf42f"
      },
      "execution_count": 46,
      "outputs": [
        {
          "output_type": "stream",
          "name": "stdout",
          "text": [
            "Enter a year: 1989\n",
            "1989 is not a prime number.\n"
          ]
        }
      ]
    },
    {
      "cell_type": "code",
      "source": [
        "def sort_numbers(a, b, c):\n",
        "    if a <= b <= c:\n",
        "        return a, b, c\n",
        "    elif a <= c <= b:\n",
        "        return a, c, b\n",
        "    elif b <= a <= c:\n",
        "        return b, a, c\n",
        "    elif b <= c <= a:\n",
        "        return b, c, a\n",
        "    elif c <= a <= b:\n",
        "        return c, a, b\n",
        "    else:\n",
        "        return c, b, a\n",
        "\n",
        "# Example usage:\n",
        "num1 = float(input(\"Enter the first number: \"))\n",
        "num2 = float(input(\"Enter the second number: \"))\n",
        "num3 = float(input(\"Enter the third number: \"))\n",
        "\n",
        "sorted_numbers = sort_numbers(num1, num2, num3)\n",
        "print(\"Sorted numbers:\", sorted_numbers)\n"
      ],
      "metadata": {
        "colab": {
          "base_uri": "https://localhost:8080/"
        },
        "id": "zQ7gNBofGnRy",
        "outputId": "c41375d7-d96d-43a6-f828-a2c05135f513"
      },
      "execution_count": 47,
      "outputs": [
        {
          "output_type": "stream",
          "name": "stdout",
          "text": [
            "Enter the first number: 4\n",
            "Enter the second number: 5\n",
            "Enter the third number: 6\n",
            "Sorted numbers: (4.0, 5.0, 6.0)\n"
          ]
        }
      ]
    },
    {
      "cell_type": "code",
      "source": [
        "def calculate_bmi(weight, height):\n",
        "    bmi = weight / (height ** 2)\n",
        "    return bmi\n",
        "\n",
        "def get_health_recommendation(bmi):\n",
        "    if bmi < 18.5:\n",
        "        return \"Underweight - You may need to gain some weight.\"\n",
        "    elif 18.5 <= bmi < 24.9:\n",
        "        return \"Normal weight - Keep up the good work!\"\n",
        "    elif 25 <= bmi < 29.9:\n",
        "        return \"Overweight - Consider losing some weight for better health.\"\n",
        "    else:\n",
        "        return \"Obese - It's important to consult with a healthcare professional for advice.\"\n",
        "\n",
        "# Example usage:\n",
        "weight = float(input(\"Enter your weight in kilograms: \"))\n",
        "height = float(input(\"Enter your height in meters: \"))\n",
        "\n",
        "bmi = calculate_bmi(weight, height)\n",
        "print(f\"Your BMI is: {bmi:.2f}\")\n",
        "\n",
        "recommendation = get_health_recommendation(bmi)\n",
        "print(\"Health Recommendation:\", recommendation)\n"
      ],
      "metadata": {
        "colab": {
          "base_uri": "https://localhost:8080/"
        },
        "id": "deu9MOYzGq3h",
        "outputId": "be892427-eb0a-4188-8749-c40f75b466ec"
      },
      "execution_count": 48,
      "outputs": [
        {
          "output_type": "stream",
          "name": "stdout",
          "text": [
            "Enter your weight in kilograms: 1\n",
            "Enter your height in meters: 2\n",
            "Your BMI is: 0.25\n",
            "Health Recommendation: Underweight - You may need to gain some weight.\n"
          ]
        }
      ]
    },
    {
      "cell_type": "markdown",
      "source": [
        "#Challenge Level"
      ],
      "metadata": {
        "id": "pJ9vpEJUG2-X"
      }
    },
    {
      "cell_type": "code",
      "source": [
        "import re\n",
        "\n",
        "def is_valid_password(password):\n",
        "    # Define complexity rules\n",
        "    min_length = 8\n",
        "    requires_uppercase = True\n",
        "    requires_lowercase = True\n",
        "    requires_digit = True\n",
        "    requires_special_char = True\n",
        "\n",
        "    # Check length\n",
        "    if len(password) < min_length:\n",
        "        return False\n",
        "\n",
        "    # Check uppercase\n",
        "    if requires_uppercase and not re.search(r'[A-Z]', password):\n",
        "        return False\n",
        "\n",
        "    # Check lowercase\n",
        "    if requires_lowercase and not re.search(r'[a-z]', password):\n",
        "        return False\n",
        "\n",
        "    # Check digit\n",
        "    if requires_digit and not re.search(r'\\d', password):\n",
        "        return False\n",
        "\n",
        "    # Check special character\n",
        "    if requires_special_char and not re.search(r'[!@#$%^&*(),.?\":{}|<>]', password):\n",
        "        return False\n",
        "\n",
        "    return True\n",
        "\n",
        "# Example usage:\n",
        "password_input = input(\"Enter a password: \")\n",
        "if is_valid_password(password_input):\n",
        "    print(\"Password is valid.\")\n",
        "else:\n",
        "    print(\"Password is not valid.\")\n"
      ],
      "metadata": {
        "colab": {
          "base_uri": "https://localhost:8080/"
        },
        "id": "cHTczc-_Gvfs",
        "outputId": "d5af4f86-0cbe-429f-9de4-f555cd1215a2"
      },
      "execution_count": 49,
      "outputs": [
        {
          "output_type": "stream",
          "name": "stdout",
          "text": [
            "Enter a password: hello8\n",
            "Password is not valid.\n"
          ]
        }
      ]
    },
    {
      "cell_type": "code",
      "source": [
        "def matrix_addition(matrix1, matrix2):\n",
        "    result = [[matrix1[i][j] + matrix2[i][j] for j in range(len(matrix1[0]))] for i in range(len(matrix1))]\n",
        "    return result\n",
        "\n",
        "def matrix_subtraction(matrix1, matrix2):\n",
        "    result = [[matrix1[i][j] - matrix2[i][j] for j in range(len(matrix1[0]))] for i in range(len(matrix1))]\n",
        "    return result\n",
        "\n",
        "# Example usage:\n",
        "matrix1 = [[1, 2, 3], [4, 5, 6], [7, 8, 9]]\n",
        "matrix2 = [[9, 8, 7], [6, 5, 4], [3, 2, 1]]\n",
        "\n",
        "result_addition = matrix_addition(matrix1, matrix2)\n",
        "result_subtraction = matrix_subtraction(matrix1, matrix2)\n",
        "\n",
        "print(\"Matrix Addition Result:\")\n",
        "for row in result_addition:\n",
        "    print(row)\n",
        "\n",
        "print(\"\\nMatrix Subtraction Result:\")\n",
        "for row in result_subtraction:\n",
        "    print(row)\n"
      ],
      "metadata": {
        "colab": {
          "base_uri": "https://localhost:8080/"
        },
        "id": "smowH2yiHBsh",
        "outputId": "f229a10e-ba77-4d36-9b9b-5dc7a26ecec6"
      },
      "execution_count": 50,
      "outputs": [
        {
          "output_type": "stream",
          "name": "stdout",
          "text": [
            "Matrix Addition Result:\n",
            "[10, 10, 10]\n",
            "[10, 10, 10]\n",
            "[10, 10, 10]\n",
            "\n",
            "Matrix Subtraction Result:\n",
            "[-8, -6, -4]\n",
            "[-2, 0, 2]\n",
            "[4, 6, 8]\n"
          ]
        }
      ]
    },
    {
      "cell_type": "code",
      "source": [
        "def euclidean_algorithm(a, b):\n",
        "    while b:\n",
        "        a, b = b, a % b\n",
        "    return a\n",
        "\n",
        "# Example usage:\n",
        "num1 = int(input(\"Enter the first number: \"))\n",
        "num2 = int(input(\"Enter the second number: \"))\n",
        "\n",
        "gcd = euclidean_algorithm(num1, num2)\n",
        "print(f\"The GCD of {num1} and {num2} is: {gcd}\")\n",
        "\n"
      ],
      "metadata": {
        "colab": {
          "base_uri": "https://localhost:8080/"
        },
        "id": "9PzmVVh4HGrb",
        "outputId": "a7fef740-1933-413b-d61a-051007f34c26"
      },
      "execution_count": 51,
      "outputs": [
        {
          "output_type": "stream",
          "name": "stdout",
          "text": [
            "Enter the first number: 4\n",
            "Enter the second number: 6\n",
            "The GCD of 4 and 6 is: 2\n"
          ]
        }
      ]
    },
    {
      "cell_type": "code",
      "source": [
        "def matrix_multiplication(matrix1, matrix2):\n",
        "    result = [[0 for _ in range(len(matrix2[0]))] for _ in range(len(matrix1))]\n",
        "    for i in range(len(matrix1)):\n",
        "        for j in range(len(matrix2[0])):\n",
        "            for k in range(len(matrix2)):\n",
        "                result[i][j] += matrix1[i][k] * matrix2[k][j]\n",
        "    return result\n",
        "\n",
        "# Example usage:\n",
        "matrix1 = [[1, 2, 3], [4, 5, 6], [7, 8, 9]]\n",
        "matrix2 = [[9, 8, 7], [6, 5, 4], [3, 2, 1]]\n",
        "\n",
        "result_multiplication = matrix_multiplication(matrix1, matrix2)\n",
        "\n",
        "print(\"Matrix Multiplication Result:\")\n",
        "for row in result_multiplication:\n",
        "    print(row)\n"
      ],
      "metadata": {
        "colab": {
          "base_uri": "https://localhost:8080/"
        },
        "id": "wPW4umakHLA-",
        "outputId": "448b7907-b45f-4d0e-9258-b7bfac9916fd"
      },
      "execution_count": 52,
      "outputs": [
        {
          "output_type": "stream",
          "name": "stdout",
          "text": [
            "Matrix Multiplication Result:\n",
            "[30, 24, 18]\n",
            "[84, 69, 54]\n",
            "[138, 114, 90]\n"
          ]
        }
      ]
    },
    {
      "cell_type": "code",
      "source": [
        "import random\n",
        "\n",
        "def print_board(board):\n",
        "    for row in board:\n",
        "        print(\" | \".join(row))\n",
        "        print(\"-\" * 5)\n",
        "\n",
        "def is_winner(board, player):\n",
        "    # Check rows, columns, and diagonals\n",
        "    for i in range(3):\n",
        "        if all(cell == player for cell in board[i]) or all(board[j][i] == player for j in range(3)):\n",
        "            return True\n",
        "    if all(board[i][i] == player for i in range(3)) or all(board[i][2 - i] == player for i in range(3)):\n",
        "        return True\n",
        "    return False\n",
        "\n",
        "def is_board_full(board):\n",
        "    return all(all(cell != \" \" for cell in row) for row in board)\n",
        "\n",
        "def player_turn(board):\n",
        "    while True:\n",
        "        row = int(input(\"Enter the row (0, 1, or 2): \"))\n",
        "        col = int(input(\"Enter the column (0, 1, or 2): \"))\n",
        "        if 0 <= row <= 2 and 0 <= col <= 2 and board[row][col] == \" \":\n",
        "            return row, col\n",
        "        else:\n",
        "            print(\"Invalid move. Try again.\")\n",
        "\n",
        "def computer_turn(board):\n",
        "    available_moves = [(i, j) for i in range(3) for j in range(3) if board[i][j] == \" \"]\n",
        "    return random.choice(available_moves)\n",
        "\n",
        "def play_tic_tac_toe():\n",
        "    board = [[\" \" for _ in range(3)] for _ in range(3)]\n",
        "    current_player = \"X\"\n",
        "\n",
        "    print(\"Welcome to Text-Based Tic-Tac-Toe!\")\n",
        "\n",
        "    while True:\n",
        "        print_board(board)\n",
        "\n",
        "        if current_player == \"X\":\n",
        "            row, col = player_turn(board)\n",
        "        else:\n",
        "            print(\"Computer's turn:\")\n",
        "            row, col = computer_turn(board)\n",
        "\n",
        "        board[row][col] = current_player\n",
        "\n",
        "        if is_winner(board, current_player):\n",
        "            print_board(board)\n",
        "            print(f\"{current_player} wins!\")\n",
        "            break\n",
        "        elif is_board_full(board):\n",
        "            print_board(board)\n",
        "            print(\"It's a tie!\")\n",
        "            break\n",
        "\n",
        "        current_player = \"O\" if current_player == \"X\" else \"X\"\n",
        "\n",
        "# Example usage:\n",
        "play_tic_tac_toe()\n"
      ],
      "metadata": {
        "colab": {
          "base_uri": "https://localhost:8080/",
          "height": 1000
        },
        "id": "3btFMiFhHO79",
        "outputId": "5c53a5e2-2f30-4e63-9584-b1b33f3042ac"
      },
      "execution_count": 53,
      "outputs": [
        {
          "output_type": "stream",
          "name": "stdout",
          "text": [
            "Welcome to Text-Based Tic-Tac-Toe!\n",
            "  |   |  \n",
            "-----\n",
            "  |   |  \n",
            "-----\n",
            "  |   |  \n",
            "-----\n",
            "Enter the row (0, 1, or 2): 1\n",
            "Enter the column (0, 1, or 2): 3\n",
            "Invalid move. Try again.\n",
            "Enter the row (0, 1, or 2): 2\n",
            "Enter the column (0, 1, or 2): 2\n",
            "  |   |  \n",
            "-----\n",
            "  |   |  \n",
            "-----\n",
            "  |   | X\n",
            "-----\n",
            "Computer's turn:\n",
            "  |   |  \n",
            "-----\n",
            "  | O |  \n",
            "-----\n",
            "  |   | X\n",
            "-----\n",
            "Enter the row (0, 1, or 2): 1\n",
            "Enter the column (0, 1, or 2): 1\n",
            "Invalid move. Try again.\n",
            "Enter the row (0, 1, or 2): 1\n",
            "Enter the column (0, 1, or 2): 2\n",
            "  |   |  \n",
            "-----\n",
            "  | O | X\n",
            "-----\n",
            "  |   | X\n",
            "-----\n",
            "Computer's turn:\n",
            "  |   | O\n",
            "-----\n",
            "  | O | X\n",
            "-----\n",
            "  |   | X\n",
            "-----\n",
            "Enter the row (0, 1, or 2): 3\n",
            "Enter the column (0, 1, or 2): 4\n",
            "Invalid move. Try again.\n"
          ]
        },
        {
          "output_type": "error",
          "ename": "KeyboardInterrupt",
          "evalue": "ignored",
          "traceback": [
            "\u001b[0;31m---------------------------------------------------------------------------\u001b[0m",
            "\u001b[0;31mKeyboardInterrupt\u001b[0m                         Traceback (most recent call last)",
            "\u001b[0;32m<ipython-input-53-7a1e0978c64c>\u001b[0m in \u001b[0;36m<cell line: 62>\u001b[0;34m()\u001b[0m\n\u001b[1;32m     60\u001b[0m \u001b[0;34m\u001b[0m\u001b[0m\n\u001b[1;32m     61\u001b[0m \u001b[0;31m# Example usage:\u001b[0m\u001b[0;34m\u001b[0m\u001b[0;34m\u001b[0m\u001b[0m\n\u001b[0;32m---> 62\u001b[0;31m \u001b[0mplay_tic_tac_toe\u001b[0m\u001b[0;34m(\u001b[0m\u001b[0;34m)\u001b[0m\u001b[0;34m\u001b[0m\u001b[0;34m\u001b[0m\u001b[0m\n\u001b[0m",
            "\u001b[0;32m<ipython-input-53-7a1e0978c64c>\u001b[0m in \u001b[0;36mplay_tic_tac_toe\u001b[0;34m()\u001b[0m\n\u001b[1;32m     41\u001b[0m \u001b[0;34m\u001b[0m\u001b[0m\n\u001b[1;32m     42\u001b[0m         \u001b[0;32mif\u001b[0m \u001b[0mcurrent_player\u001b[0m \u001b[0;34m==\u001b[0m \u001b[0;34m\"X\"\u001b[0m\u001b[0;34m:\u001b[0m\u001b[0;34m\u001b[0m\u001b[0;34m\u001b[0m\u001b[0m\n\u001b[0;32m---> 43\u001b[0;31m             \u001b[0mrow\u001b[0m\u001b[0;34m,\u001b[0m \u001b[0mcol\u001b[0m \u001b[0;34m=\u001b[0m \u001b[0mplayer_turn\u001b[0m\u001b[0;34m(\u001b[0m\u001b[0mboard\u001b[0m\u001b[0;34m)\u001b[0m\u001b[0;34m\u001b[0m\u001b[0;34m\u001b[0m\u001b[0m\n\u001b[0m\u001b[1;32m     44\u001b[0m         \u001b[0;32melse\u001b[0m\u001b[0;34m:\u001b[0m\u001b[0;34m\u001b[0m\u001b[0;34m\u001b[0m\u001b[0m\n\u001b[1;32m     45\u001b[0m             \u001b[0mprint\u001b[0m\u001b[0;34m(\u001b[0m\u001b[0;34m\"Computer's turn:\"\u001b[0m\u001b[0;34m)\u001b[0m\u001b[0;34m\u001b[0m\u001b[0;34m\u001b[0m\u001b[0m\n",
            "\u001b[0;32m<ipython-input-53-7a1e0978c64c>\u001b[0m in \u001b[0;36mplayer_turn\u001b[0;34m(board)\u001b[0m\n\u001b[1;32m     20\u001b[0m \u001b[0;32mdef\u001b[0m \u001b[0mplayer_turn\u001b[0m\u001b[0;34m(\u001b[0m\u001b[0mboard\u001b[0m\u001b[0;34m)\u001b[0m\u001b[0;34m:\u001b[0m\u001b[0;34m\u001b[0m\u001b[0;34m\u001b[0m\u001b[0m\n\u001b[1;32m     21\u001b[0m     \u001b[0;32mwhile\u001b[0m \u001b[0;32mTrue\u001b[0m\u001b[0;34m:\u001b[0m\u001b[0;34m\u001b[0m\u001b[0;34m\u001b[0m\u001b[0m\n\u001b[0;32m---> 22\u001b[0;31m         \u001b[0mrow\u001b[0m \u001b[0;34m=\u001b[0m \u001b[0mint\u001b[0m\u001b[0;34m(\u001b[0m\u001b[0minput\u001b[0m\u001b[0;34m(\u001b[0m\u001b[0;34m\"Enter the row (0, 1, or 2): \"\u001b[0m\u001b[0;34m)\u001b[0m\u001b[0;34m)\u001b[0m\u001b[0;34m\u001b[0m\u001b[0;34m\u001b[0m\u001b[0m\n\u001b[0m\u001b[1;32m     23\u001b[0m         \u001b[0mcol\u001b[0m \u001b[0;34m=\u001b[0m \u001b[0mint\u001b[0m\u001b[0;34m(\u001b[0m\u001b[0minput\u001b[0m\u001b[0;34m(\u001b[0m\u001b[0;34m\"Enter the column (0, 1, or 2): \"\u001b[0m\u001b[0;34m)\u001b[0m\u001b[0;34m)\u001b[0m\u001b[0;34m\u001b[0m\u001b[0;34m\u001b[0m\u001b[0m\n\u001b[1;32m     24\u001b[0m         \u001b[0;32mif\u001b[0m \u001b[0;36m0\u001b[0m \u001b[0;34m<=\u001b[0m \u001b[0mrow\u001b[0m \u001b[0;34m<=\u001b[0m \u001b[0;36m2\u001b[0m \u001b[0;32mand\u001b[0m \u001b[0;36m0\u001b[0m \u001b[0;34m<=\u001b[0m \u001b[0mcol\u001b[0m \u001b[0;34m<=\u001b[0m \u001b[0;36m2\u001b[0m \u001b[0;32mand\u001b[0m \u001b[0mboard\u001b[0m\u001b[0;34m[\u001b[0m\u001b[0mrow\u001b[0m\u001b[0;34m]\u001b[0m\u001b[0;34m[\u001b[0m\u001b[0mcol\u001b[0m\u001b[0;34m]\u001b[0m \u001b[0;34m==\u001b[0m \u001b[0;34m\" \"\u001b[0m\u001b[0;34m:\u001b[0m\u001b[0;34m\u001b[0m\u001b[0;34m\u001b[0m\u001b[0m\n",
            "\u001b[0;32m/usr/local/lib/python3.10/dist-packages/ipykernel/kernelbase.py\u001b[0m in \u001b[0;36mraw_input\u001b[0;34m(self, prompt)\u001b[0m\n\u001b[1;32m    849\u001b[0m                 \u001b[0;34m\"raw_input was called, but this frontend does not support input requests.\"\u001b[0m\u001b[0;34m\u001b[0m\u001b[0;34m\u001b[0m\u001b[0m\n\u001b[1;32m    850\u001b[0m             )\n\u001b[0;32m--> 851\u001b[0;31m         return self._input_request(str(prompt),\n\u001b[0m\u001b[1;32m    852\u001b[0m             \u001b[0mself\u001b[0m\u001b[0;34m.\u001b[0m\u001b[0m_parent_ident\u001b[0m\u001b[0;34m,\u001b[0m\u001b[0;34m\u001b[0m\u001b[0;34m\u001b[0m\u001b[0m\n\u001b[1;32m    853\u001b[0m             \u001b[0mself\u001b[0m\u001b[0;34m.\u001b[0m\u001b[0m_parent_header\u001b[0m\u001b[0;34m,\u001b[0m\u001b[0;34m\u001b[0m\u001b[0;34m\u001b[0m\u001b[0m\n",
            "\u001b[0;32m/usr/local/lib/python3.10/dist-packages/ipykernel/kernelbase.py\u001b[0m in \u001b[0;36m_input_request\u001b[0;34m(self, prompt, ident, parent, password)\u001b[0m\n\u001b[1;32m    893\u001b[0m             \u001b[0;32mexcept\u001b[0m \u001b[0mKeyboardInterrupt\u001b[0m\u001b[0;34m:\u001b[0m\u001b[0;34m\u001b[0m\u001b[0;34m\u001b[0m\u001b[0m\n\u001b[1;32m    894\u001b[0m                 \u001b[0;31m# re-raise KeyboardInterrupt, to truncate traceback\u001b[0m\u001b[0;34m\u001b[0m\u001b[0;34m\u001b[0m\u001b[0m\n\u001b[0;32m--> 895\u001b[0;31m                 \u001b[0;32mraise\u001b[0m \u001b[0mKeyboardInterrupt\u001b[0m\u001b[0;34m(\u001b[0m\u001b[0;34m\"Interrupted by user\"\u001b[0m\u001b[0;34m)\u001b[0m \u001b[0;32mfrom\u001b[0m \u001b[0;32mNone\u001b[0m\u001b[0;34m\u001b[0m\u001b[0;34m\u001b[0m\u001b[0m\n\u001b[0m\u001b[1;32m    896\u001b[0m             \u001b[0;32mexcept\u001b[0m \u001b[0mException\u001b[0m \u001b[0;32mas\u001b[0m \u001b[0me\u001b[0m\u001b[0;34m:\u001b[0m\u001b[0;34m\u001b[0m\u001b[0;34m\u001b[0m\u001b[0m\n\u001b[1;32m    897\u001b[0m                 \u001b[0mself\u001b[0m\u001b[0;34m.\u001b[0m\u001b[0mlog\u001b[0m\u001b[0;34m.\u001b[0m\u001b[0mwarning\u001b[0m\u001b[0;34m(\u001b[0m\u001b[0;34m\"Invalid Message:\"\u001b[0m\u001b[0;34m,\u001b[0m \u001b[0mexc_info\u001b[0m\u001b[0;34m=\u001b[0m\u001b[0;32mTrue\u001b[0m\u001b[0;34m)\u001b[0m\u001b[0;34m\u001b[0m\u001b[0;34m\u001b[0m\u001b[0m\n",
            "\u001b[0;31mKeyboardInterrupt\u001b[0m: Interrupted by user"
          ]
        }
      ]
    },
    {
      "cell_type": "code",
      "source": [
        "def generate_fibonacci(n):\n",
        "    fib_sequence = [0, 1]\n",
        "\n",
        "    for i in range(2, n):\n",
        "        fib_sequence.append(fib_sequence[-1] + fib_sequence[-2])\n",
        "\n",
        "    return fib_sequence\n",
        "\n",
        "# Example usage:\n",
        "term = int(input(\"Enter the number of terms for the Fibonacci sequence: \"))\n",
        "fibonacci_sequence = generate_fibonacci(term)\n",
        "print(f\"Fibonacci Sequence up to {term} terms: {fibonacci_sequence}\")\n"
      ],
      "metadata": {
        "colab": {
          "base_uri": "https://localhost:8080/"
        },
        "id": "eKT9g7tDHRsd",
        "outputId": "e37aa5fb-48ea-4212-ca6e-6ee4c5cb3bcf"
      },
      "execution_count": 1,
      "outputs": [
        {
          "output_type": "stream",
          "name": "stdout",
          "text": [
            "Enter the number of terms for the Fibonacci sequence: 3\n",
            "Fibonacci Sequence up to 3 terms: [0, 1, 1]\n"
          ]
        }
      ]
    },
    {
      "cell_type": "code",
      "source": [
        "def fibonacci_memoization(n, memo={}):\n",
        "    if n in memo:\n",
        "        return memo[n]\n",
        "\n",
        "    if n <= 1:\n",
        "        return n\n",
        "\n",
        "    memo[n] = fibonacci_memoization(n-1, memo) + fibonacci_memoization(n-2, memo)\n",
        "    return memo[n]\n",
        "\n",
        "# Example usage:\n",
        "term = int(input(\"Enter the term for the Fibonacci sequence: \"))\n",
        "result = fibonacci_memoization(term)\n",
        "print(f\"The {term}th term of the Fibonacci sequence is: {result}\")\n"
      ],
      "metadata": {
        "id": "1PzDY5vHnmlq",
        "outputId": "ef287418-d1ad-42e5-f0f1-d0ce5822922c",
        "colab": {
          "base_uri": "https://localhost:8080/"
        }
      },
      "execution_count": 2,
      "outputs": [
        {
          "output_type": "stream",
          "name": "stdout",
          "text": [
            "Enter the term for the Fibonacci sequence: 3\n",
            "The 3th term of the Fibonacci sequence is: 2\n"
          ]
        }
      ]
    },
    {
      "cell_type": "code",
      "source": [
        "import calendar\n",
        "\n",
        "def generate_calendar(year, month):\n",
        "    cal = calendar.monthcalendar(year, month)\n",
        "    return cal\n",
        "\n",
        "# Example usage:\n",
        "year = int(input(\"Enter the year: \"))\n",
        "month = int(input(\"Enter the month (1-12): \"))\n",
        "\n",
        "cal_result = generate_calendar(year, month)\n",
        "print(f\"Calendar for {calendar.month_name[month]} {year}:\\n\")\n",
        "for week in cal_result:\n",
        "    print(week)\n"
      ],
      "metadata": {
        "id": "DQwrlyXMnult",
        "outputId": "c683ebf1-aa2d-4704-d295-01a0939eee18",
        "colab": {
          "base_uri": "https://localhost:8080/"
        }
      },
      "execution_count": 3,
      "outputs": [
        {
          "output_type": "stream",
          "name": "stdout",
          "text": [
            "Enter the year: 1989\n",
            "Enter the month (1-12): 7\n",
            "Calendar for July 1989:\n",
            "\n",
            "[0, 0, 0, 0, 0, 1, 2]\n",
            "[3, 4, 5, 6, 7, 8, 9]\n",
            "[10, 11, 12, 13, 14, 15, 16]\n",
            "[17, 18, 19, 20, 21, 22, 23]\n",
            "[24, 25, 26, 27, 28, 29, 30]\n",
            "[31, 0, 0, 0, 0, 0, 0]\n"
          ]
        }
      ]
    },
    {
      "cell_type": "code",
      "source": [
        "import random\n",
        "\n",
        "def deal_card():\n",
        "    cards = [11, 2, 3, 4, 5, 6, 7, 8, 9, 10, 10, 10, 10]\n",
        "    return random.choice(cards)\n",
        "\n",
        "def calculate_score(cards):\n",
        "    if sum(cards) == 21 and len(cards) == 2:\n",
        "        return 0  # Blackjack\n",
        "    if 11 in cards and sum(cards) > 21:\n",
        "        cards.remove(11)\n",
        "        cards.append(1)\n",
        "    return sum(cards)\n",
        "\n",
        "def compare(user_score, computer_score):\n",
        "    if user_score == computer_score:\n",
        "        return \"It's a draw!\"\n",
        "    elif computer_score == 0:\n",
        "        return \"Computer has Blackjack. You lose!\"\n",
        "    elif user_score == 0:\n",
        "        return \"You have Blackjack! You win!\"\n",
        "    elif user_score > 21:\n",
        "        return \"You went over. You lose!\"\n",
        "    elif computer_score > 21:\n",
        "        return \"Computer went over. You win!\"\n",
        "    elif user_score > computer_score:\n",
        "        return \"You win!\"\n",
        "    else:\n",
        "        return \"You lose!\"\n",
        "\n",
        "def play_blackjack():\n",
        "    user_cards = []\n",
        "    computer_cards = []\n",
        "    game_over = False\n",
        "\n",
        "    for _ in range(2):\n",
        "        user_cards.append(deal_card())\n",
        "        computer_cards.append(deal_card())\n",
        "\n",
        "    while not game_over:\n",
        "        user_score = calculate_score(user_cards)\n",
        "        computer_score = calculate_score(computer_cards)\n",
        "\n",
        "        print(f\"Your cards: {user_cards}, current score: {user_score}\")\n",
        "        print(f\"Computer's first card: {computer_cards[0]}\")\n",
        "\n",
        "        if user_score == 0 or computer_score == 0 or user_score > 21:\n",
        "            game_over = True\n",
        "        else:\n",
        "            user_should_continue = input(\"Type 'y' to get another card, 'n' to pass: \")\n",
        "            if user_should_continue == 'y':\n",
        "                user_cards.append(deal_card())\n",
        "            else:\n",
        "                game_over = True\n",
        "\n",
        "    while computer_score != 0 and computer_score < 17:\n",
        "        computer_cards.append(deal_card())\n",
        "        computer_score = calculate_score(computer_cards)\n",
        "\n",
        "    print(f\"Your final hand: {user_cards}, final score: {user_score}\")\n",
        "    print(f\"Computer's final hand: {computer_cards}, final score: {computer_score}\")\n",
        "\n",
        "    print(compare(user_score, computer_score))\n",
        "\n",
        "# Example usage:\n",
        "play_blackjack()\n"
      ],
      "metadata": {
        "id": "TCFLxYcsnyUJ",
        "outputId": "8ea9ad31-e743-46b9-c566-d04d138b5d0f",
        "colab": {
          "base_uri": "https://localhost:8080/"
        }
      },
      "execution_count": 4,
      "outputs": [
        {
          "output_type": "stream",
          "name": "stdout",
          "text": [
            "Your cards: [9, 7], current score: 16\n",
            "Computer's first card: 11\n",
            "Type 'y' to get another card, 'n' to pass: y\n",
            "Your cards: [9, 7, 2], current score: 18\n",
            "Computer's first card: 11\n",
            "Type 'y' to get another card, 'n' to pass: n\n",
            "Your final hand: [9, 7, 2], final score: 18\n",
            "Computer's final hand: [11, 6], final score: 17\n",
            "You win!\n"
          ]
        }
      ]
    },
    {
      "cell_type": "code",
      "source": [
        "def prime_factors(n):\n",
        "    factors = []\n",
        "    divisor = 2\n",
        "\n",
        "    while divisor <= n:\n",
        "        if n % divisor == 0:\n",
        "            factors.append(divisor)\n",
        "            n = n // divisor\n",
        "        else:\n",
        "            divisor += 1\n",
        "\n",
        "    return factors\n",
        "\n",
        "# Example usage:\n",
        "number = int(input(\"Enter a number to find its prime factors: \"))\n",
        "result = prime_factors(number)\n",
        "print(f\"The prime factors of {number} are: {result}\")\n"
      ],
      "metadata": {
        "id": "tHZgzgpin4QN",
        "outputId": "48b0af13-dd94-4b90-acba-151bd9e05dfe",
        "colab": {
          "base_uri": "https://localhost:8080/"
        }
      },
      "execution_count": 5,
      "outputs": [
        {
          "output_type": "stream",
          "name": "stdout",
          "text": [
            "Enter a number to find its prime factors: 5\n",
            "The prime factors of 5 are: [5]\n"
          ]
        }
      ]
    },
    {
      "cell_type": "code",
      "source": [],
      "metadata": {
        "id": "uPgcAK1ln9Mv"
      },
      "execution_count": null,
      "outputs": []
    }
  ]
}