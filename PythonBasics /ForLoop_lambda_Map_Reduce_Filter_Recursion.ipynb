{
  "nbformat": 4,
  "nbformat_minor": 0,
  "metadata": {
    "colab": {
      "provenance": [],
      "authorship_tag": "ABX9TyPgCC4PDtdvhxrmUz4deiuv",
      "include_colab_link": true
    },
    "kernelspec": {
      "name": "python3",
      "display_name": "Python 3"
    },
    "language_info": {
      "name": "python"
    }
  },
  "cells": [
    {
      "cell_type": "markdown",
      "metadata": {
        "id": "view-in-github",
        "colab_type": "text"
      },
      "source": [
        "<a href=\"https://colab.research.google.com/github/yusufrozimemet/Full-Stack-Data-Science-Pro/blob/main/PythonBasics%20/ForLoop_lambda_Map_Reduce_Filter_Recursion.ipynb\" target=\"_parent\"><img src=\"https://colab.research.google.com/assets/colab-badge.svg\" alt=\"Open In Colab\"/></a>"
      ]
    },
    {
      "cell_type": "code",
      "source": [
        "a = 500\n",
        "price=450\n",
        "if price<=500:"
      ],
      "metadata": {
        "colab": {
          "base_uri": "https://localhost:8080/",
          "height": 145
        },
        "id": "SD1AwGaCWTYB",
        "outputId": "4360e1ca-e8a5-4bd6-8d93-ce194e402731"
      },
      "execution_count": 4,
      "outputs": [
        {
          "output_type": "error",
          "ename": "SyntaxError",
          "evalue": "ignored",
          "traceback": [
            "\u001b[0;36m  File \u001b[0;32m\"<ipython-input-4-5646cf582470>\"\u001b[0;36m, line \u001b[0;32m3\u001b[0m\n\u001b[0;31m    if price<=500:\u001b[0m\n\u001b[0m                  ^\u001b[0m\n\u001b[0;31mSyntaxError\u001b[0m\u001b[0;31m:\u001b[0m incomplete input\n"
          ]
        }
      ]
    },
    {
      "cell_type": "code",
      "source": [
        "a = 500\n",
        "price=450\n",
        "if price<=500:\n",
        "  pass"
      ],
      "metadata": {
        "id": "B7AP1eJpVQx9"
      },
      "execution_count": 5,
      "outputs": []
    },
    {
      "cell_type": "code",
      "source": [
        "a = 500\n",
        "price=450\n",
        "if price<=500:\n",
        "  print(\"yes I will be able to buy\")"
      ],
      "metadata": {
        "colab": {
          "base_uri": "https://localhost:8080/"
        },
        "id": "1zt22BhtVdXA",
        "outputId": "b3211636-f2d8-45b4-81f3-6e8e159ee363"
      },
      "execution_count": 6,
      "outputs": [
        {
          "output_type": "stream",
          "name": "stdout",
          "text": [
            "yes I will be able to buy\n"
          ]
        }
      ]
    },
    {
      "cell_type": "code",
      "source": [
        "a = 500\n",
        "price=450\n",
        "if price<=500:\n",
        "print(\"yes I will be able to buy\")"
      ],
      "metadata": {
        "colab": {
          "base_uri": "https://localhost:8080/",
          "height": 145
        },
        "id": "Aee9VDgAVjkr",
        "outputId": "1aeecb69-6446-4d58-aa28-4a43425cca27"
      },
      "execution_count": 7,
      "outputs": [
        {
          "output_type": "error",
          "ename": "IndentationError",
          "evalue": "ignored",
          "traceback": [
            "\u001b[0;36m  File \u001b[0;32m\"<ipython-input-7-e93b34e81d5b>\"\u001b[0;36m, line \u001b[0;32m4\u001b[0m\n\u001b[0;31m    print(\"yes I will be able to buy\")\u001b[0m\n\u001b[0m    ^\u001b[0m\n\u001b[0;31mIndentationError\u001b[0m\u001b[0;31m:\u001b[0m expected an indented block after 'if' statement on line 3\n"
          ]
        }
      ]
    },
    {
      "cell_type": "code",
      "source": [
        "a = 500\n",
        "price=850\n",
        "if price<=500:\n",
        "  print(\"yes I will be able to buy\")\n",
        "else :\n",
        "  print(\"I wont be able to buy\")"
      ],
      "metadata": {
        "colab": {
          "base_uri": "https://localhost:8080/"
        },
        "id": "3B_dyslQVzzO",
        "outputId": "b6e6cb9a-84b2-4e6f-86c5-4472d2ed896d"
      },
      "execution_count": 9,
      "outputs": [
        {
          "output_type": "stream",
          "name": "stdout",
          "text": [
            "I wont be able to buy\n"
          ]
        }
      ]
    },
    {
      "cell_type": "code",
      "source": [
        "a = 500\n",
        "shirt=199\n",
        "pants=499\n",
        "coat=799\n",
        "if coat<500:\n",
        "  print(\"I will be able to buy coat\")\n",
        "elif pants<500:\n",
        "  print(\"I will be able to buy pants\")\n",
        "elif shirt<200:\n",
        "  print(\"I will be able to buy shirt\")\n",
        "else :\n",
        "  print(\"I wont be able to buy\")"
      ],
      "metadata": {
        "colab": {
          "base_uri": "https://localhost:8080/"
        },
        "id": "UognWTDGZuCT",
        "outputId": "07effad5-dc3e-4abc-f5bd-7a6e5b0412a2"
      },
      "execution_count": 17,
      "outputs": [
        {
          "output_type": "stream",
          "name": "stdout",
          "text": [
            "I will be able to buy pants\n"
          ]
        }
      ]
    },
    {
      "cell_type": "code",
      "source": [
        "a = 500\n",
        "shirt=200\n",
        "pants=500\n",
        "coat=800\n",
        "my_size =\"M\"\n",
        "size_store = [\"L\",\"M\",\"S\",\"XXL\",\"XXXL\"]\n",
        "if coat<500:\n",
        "  print(\"I will be able to buy coat\")\n",
        "elif pants<500:\n",
        "  print(\"I will be able to buy pants\")\n",
        "elif shirt<500:\n",
        "  print(\"It's avaiable under my budget\")\n",
        "  if my_size==size_store:\n",
        "     print(\"I will be able to buy shirt\")\n",
        "else :\n",
        "  print(\"I wont be able to buy\")"
      ],
      "metadata": {
        "colab": {
          "base_uri": "https://localhost:8080/"
        },
        "id": "ufLxrCArav_x",
        "outputId": "490ec12e-6d28-4f27-d0b9-c9223a5119ff"
      },
      "execution_count": 23,
      "outputs": [
        {
          "output_type": "stream",
          "name": "stdout",
          "text": [
            "It's avaiable under my budget\n"
          ]
        }
      ]
    },
    {
      "cell_type": "code",
      "source": [
        "a = 500\n",
        "shirt=200\n",
        "pants=500\n",
        "coat=800\n",
        "my_size =\"S\"\n",
        "size_store = [\"L\",\"M\",\"XXL\",\"XXXL\"]\n",
        "if coat<500:\n",
        "  print(\"I will be able to buy coat\")\n",
        "elif pants<500:\n",
        "  print(\"I will be able to buy pants\")\n",
        "elif shirt<500:\n",
        "  print(\"It's avaiable under my budget\")\n",
        "  if my_size in size_store:\n",
        "     print(\"I will be able to buy shirt\")\n",
        "  else:\n",
        "     print(\"my size is not avaiable\")\n",
        "else :\n",
        "  print(\"I wont be able to buy\")"
      ],
      "metadata": {
        "colab": {
          "base_uri": "https://localhost:8080/"
        },
        "id": "QVtEqjtLfTaz",
        "outputId": "b5b1b80d-3c41-4195-fb6c-61e81001bf63"
      },
      "execution_count": 25,
      "outputs": [
        {
          "output_type": "stream",
          "name": "stdout",
          "text": [
            "It's avaiable under my budget\n",
            "my size is not avaiable\n"
          ]
        }
      ]
    },
    {
      "cell_type": "code",
      "source": [
        "a = 500\n",
        "shirt=200\n",
        "pants=500\n",
        "coat=800\n",
        "my_size =\"M\"\n",
        "size_store = [\"L\",\"M\",\"XXL\",\"XXXL\"]\n",
        "my_fav_clr = 'white'\n",
        "store_clr = [ 'red' , 'blue','orange']\n",
        "if coat<500:\n",
        "  print(\"I will be able to buy coat\")\n",
        "elif pants<500:\n",
        "  print(\"I will be able to buy pants\")\n",
        "elif shirt<500:\n",
        "  print(\"It's avaiable under my budget\")\n",
        "  if my_size in size_store:\n",
        "     print(\"I will be able to buy shirt\")\n",
        "     if my_fav_clr in store_clr:\n",
        "            print(\"yes i will try to choose it \")\n",
        "     else :\n",
        "            print(\"my fav clr is not available i will move to another store\")\n",
        "  else:\n",
        "     print(\"my size is not avaiable\")\n",
        "else :\n",
        "  print(\"I wont be able to buy\")"
      ],
      "metadata": {
        "colab": {
          "base_uri": "https://localhost:8080/"
        },
        "id": "VPJHflbxg1BC",
        "outputId": "eb2b49d0-219d-452b-d354-399a798c39a2"
      },
      "execution_count": 30,
      "outputs": [
        {
          "output_type": "stream",
          "name": "stdout",
          "text": [
            "It's avaiable under my budget\n",
            "I will be able to buy shirt\n",
            "my fav clr is not available i will move to another store\n"
          ]
        }
      ]
    },
    {
      "cell_type": "code",
      "source": [
        "course = ['DSM', 'DSA','java' , 'big data' , 'DA']\n",
        "price= 20000\n",
        "mentor = \"mentor1\"\n",
        "if \"DSM\" in course and price ==20000 and \"mentor1\"==mentor:\n",
        "  print(\"yes I am doing this course\")"
      ],
      "metadata": {
        "colab": {
          "base_uri": "https://localhost:8080/"
        },
        "id": "oX_NHe01iXRY",
        "outputId": "4d8bac29-992f-4caf-e8cd-040b4d848351"
      },
      "execution_count": 32,
      "outputs": [
        {
          "output_type": "stream",
          "name": "stdout",
          "text": [
            "yes I am doing this course\n"
          ]
        }
      ]
    },
    {
      "cell_type": "code",
      "source": [
        "course_price=20000\n",
        "\n",
        "if 10000 <= course_price <=15000:\n",
        "  print(\"I will try to buy a course\")\n",
        "\n",
        "else :\n",
        "  print (\"its out of my budget\")"
      ],
      "metadata": {
        "colab": {
          "base_uri": "https://localhost:8080/"
        },
        "id": "8v7K1xNek5VS",
        "outputId": "38543900-c96b-4e0b-f8a6-900f3b0011a0"
      },
      "execution_count": 33,
      "outputs": [
        {
          "output_type": "stream",
          "name": "stdout",
          "text": [
            "its out of my budget\n"
          ]
        }
      ]
    },
    {
      "cell_type": "code",
      "source": [
        "user_name=\"ysf\"\n",
        "password=\"ysf0880\"\n",
        "\n",
        "if user_name == input(\"enter your username\") and password == input (\"enter your password\"):\n",
        "  print(\"you hae loged in succesfully\")\n",
        "\n",
        "else:\n",
        "  print(\"enter correct username and password\")"
      ],
      "metadata": {
        "colab": {
          "base_uri": "https://localhost:8080/"
        },
        "id": "4Z8iaAxeloxD",
        "outputId": "2a4f77c3-40cf-45f3-e049-3718c1a8495d"
      },
      "execution_count": 34,
      "outputs": [
        {
          "output_type": "stream",
          "name": "stdout",
          "text": [
            "enter your usernameysf\n",
            "enter your passwordysf8\n",
            "enter correct username and password\n"
          ]
        }
      ]
    },
    {
      "cell_type": "code",
      "source": [
        "mobile_no = 123456\n",
        "otp = 1234\n",
        "if mobile_no == int(input(\"enter your registered mo no\")):\n",
        "    print(\"yes you are a registered user\")\n",
        "    if otp == int(input(\"enter otp that we have sent on your mo no\")):\n",
        "        print(\"you have logged in succefully\")\n",
        "    else :\n",
        "        print(\"otp is not correct please try to enter again\")\n",
        "else :\n",
        "    print(\"you have not entered a valid mo no\")"
      ],
      "metadata": {
        "colab": {
          "base_uri": "https://localhost:8080/"
        },
        "id": "rtAllZ0imMRC",
        "outputId": "a4a479be-ffcb-4061-aee2-53f47221ef6f"
      },
      "execution_count": 35,
      "outputs": [
        {
          "output_type": "stream",
          "name": "stdout",
          "text": [
            "enter your registered mo no7877\n",
            "you have not entered a valid mo no\n"
          ]
        }
      ]
    },
    {
      "cell_type": "code",
      "source": [
        "l=[3,3,4,5,6,7,8,8,9]\n",
        "\n",
        "for i in l:\n",
        "  print(i)"
      ],
      "metadata": {
        "colab": {
          "base_uri": "https://localhost:8080/"
        },
        "id": "ZHaASCXNnjVg",
        "outputId": "a64e7c55-c7a2-4f36-ba1a-b5ede37aace0"
      },
      "execution_count": 37,
      "outputs": [
        {
          "output_type": "stream",
          "name": "stdout",
          "text": [
            "3\n",
            "3\n",
            "4\n",
            "5\n",
            "6\n",
            "7\n",
            "8\n",
            "8\n",
            "9\n"
          ]
        }
      ]
    },
    {
      "cell_type": "code",
      "source": [
        "l= [12,3,3,4,5,6,6]\n",
        "mobile_no = [2343243,3543534,45654646,23432,345345,345343]\n",
        "stud_mo = 23432\n",
        "stud_details = {'mobile_no' : 23432 ,'course' : ['dsa' , 'dsm' , 'big data']}\n",
        "\n",
        "for i in mobile_no:\n",
        "    print(i)\n",
        "    if i == stud_mo:\n",
        "        print(\"yes user is registered\")\n",
        "        if i == stud_details['mobile_no']:\n",
        "            print(\"yes student details are avaible in DB \")\n",
        "            print(\"course accessed to this user is \" , stud_details['course'])"
      ],
      "metadata": {
        "colab": {
          "base_uri": "https://localhost:8080/"
        },
        "id": "O7u0AQ-OpD_G",
        "outputId": "b6fac2fc-0f9c-4cf6-b907-7e6639db7652"
      },
      "execution_count": 38,
      "outputs": [
        {
          "output_type": "stream",
          "name": "stdout",
          "text": [
            "2343243\n",
            "3543534\n",
            "45654646\n",
            "23432\n",
            "yes user is registered\n",
            "yes student details are avaible in DB \n",
            "course accessed to this user is  ['dsa', 'dsm', 'big data']\n",
            "345345\n",
            "345343\n"
          ]
        }
      ]
    },
    {
      "cell_type": "code",
      "source": [
        "t=(1,2,3,4,5,6,\"ysp\",\"rozi\")\n",
        "l_int =[]\n",
        "l_str = []\n",
        "for i in t:\n",
        "  if type(i) == str:\n",
        "    l_str.append(i)\n",
        "  elif type(i)==int:\n",
        "    l_int.append(i)\n",
        "print(l_int)\n",
        "print(l_str)"
      ],
      "metadata": {
        "colab": {
          "base_uri": "https://localhost:8080/"
        },
        "id": "vbJveDng1tCA",
        "outputId": "9845552a-f341-488d-fc2e-dd86cd8f739d"
      },
      "execution_count": 46,
      "outputs": [
        {
          "output_type": "stream",
          "name": "stdout",
          "text": [
            "[1, 2, 3, 4, 5, 6]\n",
            "['ysp', 'rozi']\n"
          ]
        }
      ]
    },
    {
      "cell_type": "code",
      "source": [
        "d = {\"name\":\"sudh\" , 'class' :[\"big data\" , \"data analytics\",\"data science \" , \"DSA\" , \"architecture\", \"system design\"],\n",
        "'mobile no' : 345353453, \"email_id\":'sskumari787y@gmail.com'}"
      ],
      "metadata": {
        "id": "f7p7qIjr2XOx"
      },
      "execution_count": 47,
      "outputs": []
    },
    {
      "cell_type": "code",
      "source": [
        "d"
      ],
      "metadata": {
        "colab": {
          "base_uri": "https://localhost:8080/"
        },
        "id": "zZjSH4Gg5V6A",
        "outputId": "4400bb3e-d6cf-4207-ac2f-4785aa44b415"
      },
      "execution_count": 48,
      "outputs": [
        {
          "output_type": "execute_result",
          "data": {
            "text/plain": [
              "{'name': 'sudh',\n",
              " 'class': ['big data',\n",
              "  'data analytics',\n",
              "  'data science ',\n",
              "  'DSA',\n",
              "  'architecture',\n",
              "  'system design'],\n",
              " 'mobile no': 345353453,\n",
              " 'email_id': 'sskumari787y@gmail.com'}"
            ]
          },
          "metadata": {},
          "execution_count": 48
        }
      ]
    },
    {
      "cell_type": "code",
      "source": [
        "d.values()"
      ],
      "metadata": {
        "colab": {
          "base_uri": "https://localhost:8080/"
        },
        "id": "APAZakBG5XAz",
        "outputId": "407c0b6e-5c11-482e-a0c3-3f014c8ef479"
      },
      "execution_count": 50,
      "outputs": [
        {
          "output_type": "execute_result",
          "data": {
            "text/plain": [
              "dict_values(['sudh', ['big data', 'data analytics', 'data science ', 'DSA', 'architecture', 'system design'], 345353453, 'sskumari787y@gmail.com'])"
            ]
          },
          "metadata": {},
          "execution_count": 50
        }
      ]
    },
    {
      "cell_type": "code",
      "source": [
        "for i in d.values():\n",
        "  if type(i)==list and \"system design\" in i:\n",
        "    print(\"yes, this mentor teach system design\")"
      ],
      "metadata": {
        "colab": {
          "base_uri": "https://localhost:8080/"
        },
        "id": "yaSzeuUi5ada",
        "outputId": "b1dede3b-7386-4141-b4b4-f9c5d990a079"
      },
      "execution_count": 51,
      "outputs": [
        {
          "output_type": "stream",
          "name": "stdout",
          "text": [
            "yes, this mentor teach system design\n"
          ]
        }
      ]
    },
    {
      "cell_type": "code",
      "source": [
        "for i in d.values():\n",
        "  if type(i) == list:\n",
        "    for j in i:\n",
        "      print(j)"
      ],
      "metadata": {
        "colab": {
          "base_uri": "https://localhost:8080/"
        },
        "id": "FoPrGO-N5xry",
        "outputId": "e98e4cf3-886c-4459-b8c9-c217f7a7c297"
      },
      "execution_count": 52,
      "outputs": [
        {
          "output_type": "stream",
          "name": "stdout",
          "text": [
            "big data\n",
            "data analytics\n",
            "data science \n",
            "DSA\n",
            "architecture\n",
            "system design\n"
          ]
        }
      ]
    },
    {
      "cell_type": "code",
      "source": [],
      "metadata": {
        "id": "oX4MSvus6BI6"
      },
      "execution_count": null,
      "outputs": []
    }
  ]
}