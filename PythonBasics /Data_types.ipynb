{
  "nbformat": 4,
  "nbformat_minor": 0,
  "metadata": {
    "colab": {
      "provenance": [],
      "authorship_tag": "ABX9TyMDwWxmvA79I/NTgKoPOJVK",
      "include_colab_link": true
    },
    "kernelspec": {
      "name": "python3",
      "display_name": "Python 3"
    },
    "language_info": {
      "name": "python"
    }
  },
  "cells": [
    {
      "cell_type": "markdown",
      "metadata": {
        "id": "view-in-github",
        "colab_type": "text"
      },
      "source": [
        "<a href=\"https://colab.research.google.com/github/yusufrozimemet/Full-Stack-Data-Science-Pro/blob/main/PythonBasics%20/Data_types.ipynb\" target=\"_parent\"><img src=\"https://colab.research.google.com/assets/colab-badge.svg\" alt=\"Open In Colab\"/></a>"
      ]
    },
    {
      "cell_type": "code",
      "execution_count": null,
      "metadata": {
        "id": "i0NMNkY5-cMr"
      },
      "outputs": [],
      "source": [
        "#list\n",
        "l = []"
      ]
    },
    {
      "cell_type": "code",
      "source": [
        "type(l)"
      ],
      "metadata": {
        "colab": {
          "base_uri": "https://localhost:8080/"
        },
        "id": "ACrsa7kt_DJA",
        "outputId": "ee580f08-108f-4a6b-e1c8-8d03466d53a8"
      },
      "execution_count": null,
      "outputs": [
        {
          "output_type": "execute_result",
          "data": {
            "text/plain": [
              "list"
            ]
          },
          "metadata": {},
          "execution_count": 4
        }
      ]
    },
    {
      "cell_type": "code",
      "source": [
        "l = [2, 3.2, \"hello\", True, 1+3j , [-1,2,3,5]]"
      ],
      "metadata": {
        "id": "lsBcggQi_QYu"
      },
      "execution_count": null,
      "outputs": []
    },
    {
      "cell_type": "code",
      "source": [
        "l"
      ],
      "metadata": {
        "colab": {
          "base_uri": "https://localhost:8080/"
        },
        "id": "rvNgzKR6_WOs",
        "outputId": "80e299af-5392-4fb1-db84-d74534fb2848"
      },
      "execution_count": null,
      "outputs": [
        {
          "output_type": "execute_result",
          "data": {
            "text/plain": [
              "[2, 3.2, 'hello', True, (1+3j)]"
            ]
          },
          "metadata": {},
          "execution_count": 8
        }
      ]
    },
    {
      "cell_type": "code",
      "source": [
        "l[0]"
      ],
      "metadata": {
        "colab": {
          "base_uri": "https://localhost:8080/"
        },
        "id": "oVSwE7zK_wVX",
        "outputId": "661789ff-882e-47e7-86b9-0b0d88639684"
      },
      "execution_count": null,
      "outputs": [
        {
          "output_type": "execute_result",
          "data": {
            "text/plain": [
              "2"
            ]
          },
          "metadata": {},
          "execution_count": 9
        }
      ]
    },
    {
      "cell_type": "code",
      "source": [
        "l[5]"
      ],
      "metadata": {
        "colab": {
          "base_uri": "https://localhost:8080/"
        },
        "id": "DjOTwuDzYP8Q",
        "outputId": "e5359646-fef5-4a5f-893e-53ed54ae7be3"
      },
      "execution_count": null,
      "outputs": [
        {
          "output_type": "execute_result",
          "data": {
            "text/plain": [
              "[-1, 2, 3, 5]"
            ]
          },
          "metadata": {},
          "execution_count": 14
        }
      ]
    },
    {
      "cell_type": "code",
      "source": [
        "l[-1]"
      ],
      "metadata": {
        "colab": {
          "base_uri": "https://localhost:8080/"
        },
        "id": "wXIY8BmqYThS",
        "outputId": "639c0eea-3362-4f44-ee31-c50a2e7a5f91"
      },
      "execution_count": null,
      "outputs": [
        {
          "output_type": "execute_result",
          "data": {
            "text/plain": [
              "[-1, 2, 3, 5]"
            ]
          },
          "metadata": {},
          "execution_count": 15
        }
      ]
    },
    {
      "cell_type": "code",
      "source": [
        "l[5][2]"
      ],
      "metadata": {
        "colab": {
          "base_uri": "https://localhost:8080/"
        },
        "id": "E6SIls5_YzZ0",
        "outputId": "3537eba2-25ad-492d-ced9-0db02a05524a"
      },
      "execution_count": null,
      "outputs": [
        {
          "output_type": "execute_result",
          "data": {
            "text/plain": [
              "3"
            ]
          },
          "metadata": {},
          "execution_count": 16
        }
      ]
    },
    {
      "cell_type": "code",
      "source": [
        "l[0:4]"
      ],
      "metadata": {
        "colab": {
          "base_uri": "https://localhost:8080/"
        },
        "id": "HQuSvqIzY2Jg",
        "outputId": "112f9951-a9f1-4e54-91c4-165bb717003c"
      },
      "execution_count": null,
      "outputs": [
        {
          "output_type": "execute_result",
          "data": {
            "text/plain": [
              "[2, 3.2, 'hello', True]"
            ]
          },
          "metadata": {},
          "execution_count": 17
        }
      ]
    },
    {
      "cell_type": "code",
      "source": [
        "l[::-1]"
      ],
      "metadata": {
        "colab": {
          "base_uri": "https://localhost:8080/"
        },
        "id": "NQfH3kQbZe9q",
        "outputId": "6323a35f-778d-449b-d5c7-9c89b8b24691"
      },
      "execution_count": null,
      "outputs": [
        {
          "output_type": "execute_result",
          "data": {
            "text/plain": [
              "[[-1, 2, 3, 5], (1+3j), True, 'hello', 3.2, 2]"
            ]
          },
          "metadata": {},
          "execution_count": 18
        }
      ]
    },
    {
      "cell_type": "code",
      "source": [
        "l[4:1:-1]"
      ],
      "metadata": {
        "colab": {
          "base_uri": "https://localhost:8080/"
        },
        "id": "LSCVTebpZnen",
        "outputId": "bac62551-ab2b-4945-e046-6a0ccca2d0be"
      },
      "execution_count": null,
      "outputs": [
        {
          "output_type": "execute_result",
          "data": {
            "text/plain": [
              "[(1+3j), True, 'hello']"
            ]
          },
          "metadata": {},
          "execution_count": 24
        }
      ]
    },
    {
      "cell_type": "code",
      "source": [
        "l[1:4:-1]"
      ],
      "metadata": {
        "colab": {
          "base_uri": "https://localhost:8080/"
        },
        "id": "LYLX15NMZugK",
        "outputId": "71a2ac0f-3bdf-469a-9ef3-47aa7f5d1385"
      },
      "execution_count": null,
      "outputs": [
        {
          "output_type": "execute_result",
          "data": {
            "text/plain": [
              "[]"
            ]
          },
          "metadata": {},
          "execution_count": 25
        }
      ]
    },
    {
      "cell_type": "code",
      "source": [
        "l1 = l[4:1:-1]"
      ],
      "metadata": {
        "id": "9p-raNbraE4x"
      },
      "execution_count": null,
      "outputs": []
    },
    {
      "cell_type": "code",
      "source": [
        "l2 = l[::-1]"
      ],
      "metadata": {
        "id": "daBO5KGhaMn6"
      },
      "execution_count": null,
      "outputs": []
    },
    {
      "cell_type": "code",
      "source": [
        "l1 + l2"
      ],
      "metadata": {
        "colab": {
          "base_uri": "https://localhost:8080/"
        },
        "id": "gPMm5yGBaVH7",
        "outputId": "69170ced-939a-445d-bdd8-a445a8b068a9"
      },
      "execution_count": null,
      "outputs": [
        {
          "output_type": "execute_result",
          "data": {
            "text/plain": [
              "[(1+3j), True, 'hello', [-1, 2, 3, 5], (1+3j), True, 'hello', 3.2, 2]"
            ]
          },
          "metadata": {},
          "execution_count": 28
        }
      ]
    },
    {
      "cell_type": "code",
      "source": [
        "2*l1"
      ],
      "metadata": {
        "colab": {
          "base_uri": "https://localhost:8080/"
        },
        "id": "KHie5zRLaXNq",
        "outputId": "b5a3b04f-f1b4-4b0f-c616-a760db474abc"
      },
      "execution_count": null,
      "outputs": [
        {
          "output_type": "execute_result",
          "data": {
            "text/plain": [
              "[(1+3j), True, 'hello', (1+3j), True, 'hello']"
            ]
          },
          "metadata": {},
          "execution_count": 29
        }
      ]
    },
    {
      "cell_type": "code",
      "source": [
        "l2"
      ],
      "metadata": {
        "colab": {
          "base_uri": "https://localhost:8080/"
        },
        "id": "uRzxVOBabOJ0",
        "outputId": "fa2124da-a02f-4f8f-d41b-a969c2dfb7fd"
      },
      "execution_count": null,
      "outputs": [
        {
          "output_type": "execute_result",
          "data": {
            "text/plain": [
              "[[-1, 2, 3, 5], (1+3j), True, 'hello', 3.2, 2]"
            ]
          },
          "metadata": {},
          "execution_count": 32
        }
      ]
    },
    {
      "cell_type": "code",
      "source": [
        "l2[0] = \"yusuf\""
      ],
      "metadata": {
        "id": "a7pxv3Vvbh9x"
      },
      "execution_count": null,
      "outputs": []
    },
    {
      "cell_type": "code",
      "source": [
        "l2"
      ],
      "metadata": {
        "colab": {
          "base_uri": "https://localhost:8080/"
        },
        "id": "fYDJGcnpbvG_",
        "outputId": "347ea83b-475a-4410-a37a-6667b8587e46"
      },
      "execution_count": null,
      "outputs": [
        {
          "output_type": "execute_result",
          "data": {
            "text/plain": [
              "['yusuf', (1+3j), True, 'hello', 3.2, 2]"
            ]
          },
          "metadata": {},
          "execution_count": 34
        }
      ]
    },
    {
      "cell_type": "code",
      "source": [
        "#tuples (immutable)\n",
        "t=([-1, 2, 3, 5], (1+3j), True, 'hello', 3.2, 2)"
      ],
      "metadata": {
        "id": "7LKZQIFrbv2d"
      },
      "execution_count": null,
      "outputs": []
    },
    {
      "cell_type": "code",
      "source": [
        "type(t)"
      ],
      "metadata": {
        "colab": {
          "base_uri": "https://localhost:8080/"
        },
        "id": "rPsXwiCAcSF3",
        "outputId": "6e422ffe-f14b-4515-fd2c-ab6cb04a3a25"
      },
      "execution_count": null,
      "outputs": [
        {
          "output_type": "execute_result",
          "data": {
            "text/plain": [
              "tuple"
            ]
          },
          "metadata": {},
          "execution_count": 37
        }
      ]
    },
    {
      "cell_type": "code",
      "source": [
        "t[1]"
      ],
      "metadata": {
        "colab": {
          "base_uri": "https://localhost:8080/"
        },
        "id": "4KqifJrCcVnu",
        "outputId": "240f730b-675c-4349-a276-06dd4db3f078"
      },
      "execution_count": null,
      "outputs": [
        {
          "output_type": "execute_result",
          "data": {
            "text/plain": [
              "(1+3j)"
            ]
          },
          "metadata": {},
          "execution_count": 38
        }
      ]
    },
    {
      "cell_type": "code",
      "source": [
        "t[::-1]"
      ],
      "metadata": {
        "colab": {
          "base_uri": "https://localhost:8080/"
        },
        "id": "5kxQ7Xy5cbDG",
        "outputId": "a5e3e900-d68d-456c-e609-f7e9dbf6ff64"
      },
      "execution_count": null,
      "outputs": [
        {
          "output_type": "execute_result",
          "data": {
            "text/plain": [
              "(2, 3.2, 'hello', True, (1+3j), [-1, 2, 3, 5])"
            ]
          },
          "metadata": {},
          "execution_count": 39
        }
      ]
    },
    {
      "cell_type": "code",
      "source": [
        "t[0] = 4"
      ],
      "metadata": {
        "colab": {
          "base_uri": "https://localhost:8080/",
          "height": 182
        },
        "id": "UP4il-eqcfTS",
        "outputId": "029fcd9a-4aa7-4e97-b73d-b5dd52d0b656"
      },
      "execution_count": null,
      "outputs": [
        {
          "output_type": "error",
          "ename": "TypeError",
          "evalue": "ignored",
          "traceback": [
            "\u001b[0;31m---------------------------------------------------------------------------\u001b[0m",
            "\u001b[0;31mTypeError\u001b[0m                                 Traceback (most recent call last)",
            "\u001b[0;32m<ipython-input-40-08a0409f2124>\u001b[0m in \u001b[0;36m<cell line: 1>\u001b[0;34m()\u001b[0m\n\u001b[0;32m----> 1\u001b[0;31m \u001b[0mt\u001b[0m\u001b[0;34m[\u001b[0m\u001b[0;36m0\u001b[0m\u001b[0;34m]\u001b[0m \u001b[0;34m=\u001b[0m \u001b[0;36m4\u001b[0m\u001b[0;34m\u001b[0m\u001b[0;34m\u001b[0m\u001b[0m\n\u001b[0m",
            "\u001b[0;31mTypeError\u001b[0m: 'tuple' object does not support item assignment"
          ]
        }
      ]
    },
    {
      "cell_type": "code",
      "source": [
        "t1 = 2*t"
      ],
      "metadata": {
        "id": "zfH-ztqHdKQD"
      },
      "execution_count": null,
      "outputs": []
    },
    {
      "cell_type": "code",
      "source": [
        "t1"
      ],
      "metadata": {
        "colab": {
          "base_uri": "https://localhost:8080/"
        },
        "id": "S9YZib13dXUS",
        "outputId": "4ee20687-5756-4a2f-974a-524ff5a1c467"
      },
      "execution_count": null,
      "outputs": [
        {
          "output_type": "execute_result",
          "data": {
            "text/plain": [
              "([-1, 2, 3, 5],\n",
              " (1+3j),\n",
              " True,\n",
              " 'hello',\n",
              " 3.2,\n",
              " 2,\n",
              " [-1, 2, 3, 5],\n",
              " (1+3j),\n",
              " True,\n",
              " 'hello',\n",
              " 3.2,\n",
              " 2)"
            ]
          },
          "metadata": {},
          "execution_count": 42
        }
      ]
    },
    {
      "cell_type": "code",
      "source": [
        "list(t1)"
      ],
      "metadata": {
        "colab": {
          "base_uri": "https://localhost:8080/"
        },
        "id": "e0ypNKEUdYdT",
        "outputId": "bbcd94cb-231d-43a6-ec45-7a4d5689b6d4"
      },
      "execution_count": null,
      "outputs": [
        {
          "output_type": "execute_result",
          "data": {
            "text/plain": [
              "[[-1, 2, 3, 5],\n",
              " (1+3j),\n",
              " True,\n",
              " 'hello',\n",
              " 3.2,\n",
              " 2,\n",
              " [-1, 2, 3, 5],\n",
              " (1+3j),\n",
              " True,\n",
              " 'hello',\n",
              " 3.2,\n",
              " 2]"
            ]
          },
          "metadata": {},
          "execution_count": 43
        }
      ]
    },
    {
      "cell_type": "code",
      "source": [
        "tuple(t1)"
      ],
      "metadata": {
        "colab": {
          "base_uri": "https://localhost:8080/"
        },
        "id": "_KR1ASLQdfXI",
        "outputId": "c8daf5e0-b1bc-4092-b50b-472776af6ad5"
      },
      "execution_count": null,
      "outputs": [
        {
          "output_type": "execute_result",
          "data": {
            "text/plain": [
              "([-1, 2, 3, 5],\n",
              " (1+3j),\n",
              " True,\n",
              " 'hello',\n",
              " 3.2,\n",
              " 2,\n",
              " [-1, 2, 3, 5],\n",
              " (1+3j),\n",
              " True,\n",
              " 'hello',\n",
              " 3.2,\n",
              " 2)"
            ]
          },
          "metadata": {},
          "execution_count": 44
        }
      ]
    },
    {
      "cell_type": "code",
      "source": [
        "len(t1)"
      ],
      "metadata": {
        "colab": {
          "base_uri": "https://localhost:8080/"
        },
        "id": "n9hqTYXudkoz",
        "outputId": "8eb6cc4a-ea65-4847-b6f6-49a454f7f6e4"
      },
      "execution_count": null,
      "outputs": [
        {
          "output_type": "execute_result",
          "data": {
            "text/plain": [
              "12"
            ]
          },
          "metadata": {},
          "execution_count": 45
        }
      ]
    },
    {
      "cell_type": "code",
      "source": [
        "len(\"yusuf\")"
      ],
      "metadata": {
        "colab": {
          "base_uri": "https://localhost:8080/"
        },
        "id": "acNU6yTZdp6p",
        "outputId": "71329beb-8d63-4991-ea69-0c98faa9884c"
      },
      "execution_count": null,
      "outputs": [
        {
          "output_type": "execute_result",
          "data": {
            "text/plain": [
              "5"
            ]
          },
          "metadata": {},
          "execution_count": 46
        }
      ]
    },
    {
      "cell_type": "code",
      "source": [
        "type(t1)"
      ],
      "metadata": {
        "colab": {
          "base_uri": "https://localhost:8080/"
        },
        "id": "sm4HP7VNdu3G",
        "outputId": "9d1b546e-103e-4200-a7bf-d1606af093b1"
      },
      "execution_count": null,
      "outputs": [
        {
          "output_type": "execute_result",
          "data": {
            "text/plain": [
              "tuple"
            ]
          },
          "metadata": {},
          "execution_count": 47
        }
      ]
    },
    {
      "cell_type": "code",
      "source": [
        "s = {}"
      ],
      "metadata": {
        "id": "OjXLwyabexmV"
      },
      "execution_count": null,
      "outputs": []
    },
    {
      "cell_type": "code",
      "source": [
        "type(s)"
      ],
      "metadata": {
        "colab": {
          "base_uri": "https://localhost:8080/"
        },
        "id": "ng5-FcdEe4LP",
        "outputId": "3a64b93e-ed94-47b4-b5cf-e89a4b5140ab"
      },
      "execution_count": null,
      "outputs": [
        {
          "output_type": "execute_result",
          "data": {
            "text/plain": [
              "dict"
            ]
          },
          "metadata": {},
          "execution_count": 49
        }
      ]
    },
    {
      "cell_type": "code",
      "source": [
        "s = {1,2,3,4,5,6,6}"
      ],
      "metadata": {
        "id": "cObnSjHve5kS"
      },
      "execution_count": null,
      "outputs": []
    },
    {
      "cell_type": "code",
      "source": [
        "type(s)"
      ],
      "metadata": {
        "colab": {
          "base_uri": "https://localhost:8080/"
        },
        "id": "Lm0ThDV-fAVk",
        "outputId": "abd4d356-ba66-4ce6-f8b1-8a0173695559"
      },
      "execution_count": null,
      "outputs": [
        {
          "output_type": "execute_result",
          "data": {
            "text/plain": [
              "set"
            ]
          },
          "metadata": {},
          "execution_count": 54
        }
      ]
    },
    {
      "cell_type": "code",
      "source": [
        "s"
      ],
      "metadata": {
        "colab": {
          "base_uri": "https://localhost:8080/"
        },
        "id": "oMbpbF2ufDb_",
        "outputId": "1da082bb-3d34-4562-a299-4c9cc797b1d0"
      },
      "execution_count": null,
      "outputs": [
        {
          "output_type": "execute_result",
          "data": {
            "text/plain": [
              "{1, 2, 3, 4, 5, 6}"
            ]
          },
          "metadata": {},
          "execution_count": 55
        }
      ]
    },
    {
      "cell_type": "code",
      "source": [
        "s1 ={\"yusuf\", \"Yusuf\", \"yusuF\"}"
      ],
      "metadata": {
        "id": "5vAcXox_fJAq"
      },
      "execution_count": null,
      "outputs": []
    },
    {
      "cell_type": "code",
      "source": [
        "s1"
      ],
      "metadata": {
        "colab": {
          "base_uri": "https://localhost:8080/"
        },
        "id": "tM2Ft4-TfX5R",
        "outputId": "b544ba76-a04b-48b2-dec4-a78890f93b71"
      },
      "execution_count": null,
      "outputs": [
        {
          "output_type": "execute_result",
          "data": {
            "text/plain": [
              "{'Yusuf', 'yusuF', 'yusuf'}"
            ]
          },
          "metadata": {},
          "execution_count": 60
        }
      ]
    },
    {
      "cell_type": "code",
      "source": [
        "type(t1)"
      ],
      "metadata": {
        "colab": {
          "base_uri": "https://localhost:8080/"
        },
        "id": "B_n7JO1KgumV",
        "outputId": "fefefd54-a772-40f0-e750-4744c2be6546"
      },
      "execution_count": null,
      "outputs": [
        {
          "output_type": "execute_result",
          "data": {
            "text/plain": [
              "tuple"
            ]
          },
          "metadata": {},
          "execution_count": 62
        }
      ]
    },
    {
      "cell_type": "code",
      "source": [
        "l1=list(t1)"
      ],
      "metadata": {
        "id": "XNuUuaRCfdxx"
      },
      "execution_count": null,
      "outputs": []
    },
    {
      "cell_type": "code",
      "source": [
        "l1"
      ],
      "metadata": {
        "colab": {
          "base_uri": "https://localhost:8080/"
        },
        "id": "kcz8Bccxgrwd",
        "outputId": "3031181e-96b2-4362-c90b-1921f4b82374"
      },
      "execution_count": null,
      "outputs": [
        {
          "output_type": "execute_result",
          "data": {
            "text/plain": [
              "[[-1, 2, 3, 5],\n",
              " (1+3j),\n",
              " True,\n",
              " 'hello',\n",
              " 3.2,\n",
              " 2,\n",
              " [-1, 2, 3, 5],\n",
              " (1+3j),\n",
              " True,\n",
              " 'hello',\n",
              " 3.2,\n",
              " 2]"
            ]
          },
          "metadata": {},
          "execution_count": 66
        }
      ]
    },
    {
      "cell_type": "code",
      "source": [
        "l2=[\n",
        " (1+3j),\n",
        " True,\n",
        " 'hello',\n",
        " 3.2,\n",
        " 2]"
      ],
      "metadata": {
        "id": "Ywb-gtBIg1JJ"
      },
      "execution_count": null,
      "outputs": []
    },
    {
      "cell_type": "code",
      "source": [
        "# cannot convert the list with list to set\n",
        "set(l1)"
      ],
      "metadata": {
        "colab": {
          "base_uri": "https://localhost:8080/",
          "height": 182
        },
        "id": "gogDPdkfhrE9",
        "outputId": "f0408739-8bf5-44b6-e381-d31ebdb900fe"
      },
      "execution_count": null,
      "outputs": [
        {
          "output_type": "error",
          "ename": "TypeError",
          "evalue": "ignored",
          "traceback": [
            "\u001b[0;31m---------------------------------------------------------------------------\u001b[0m",
            "\u001b[0;31mTypeError\u001b[0m                                 Traceback (most recent call last)",
            "\u001b[0;32m<ipython-input-71-39a5e4a8fabd>\u001b[0m in \u001b[0;36m<cell line: 1>\u001b[0;34m()\u001b[0m\n\u001b[0;32m----> 1\u001b[0;31m \u001b[0mset\u001b[0m\u001b[0;34m(\u001b[0m\u001b[0ml1\u001b[0m\u001b[0;34m)\u001b[0m\u001b[0;34m\u001b[0m\u001b[0;34m\u001b[0m\u001b[0m\n\u001b[0m",
            "\u001b[0;31mTypeError\u001b[0m: unhashable type: 'list'"
          ]
        }
      ]
    },
    {
      "cell_type": "code",
      "source": [
        "set(l2)"
      ],
      "metadata": {
        "colab": {
          "base_uri": "https://localhost:8080/"
        },
        "id": "afytWMTch6Xu",
        "outputId": "c6a7b1b3-c40f-4f74-81aa-b2861ee030f6"
      },
      "execution_count": null,
      "outputs": [
        {
          "output_type": "execute_result",
          "data": {
            "text/plain": [
              "{(1+3j), 2, 3.2, True, 'hello'}"
            ]
          },
          "metadata": {},
          "execution_count": 75
        }
      ]
    },
    {
      "cell_type": "code",
      "source": [
        "s1=set(l2)"
      ],
      "metadata": {
        "id": "vzIwtaFNh74b"
      },
      "execution_count": null,
      "outputs": []
    },
    {
      "cell_type": "code",
      "source": [
        "s1[0]"
      ],
      "metadata": {
        "colab": {
          "base_uri": "https://localhost:8080/",
          "height": 182
        },
        "id": "TYC8YYHAi1jM",
        "outputId": "a565aada-3e48-4650-ff0a-9b1f0836589f"
      },
      "execution_count": null,
      "outputs": [
        {
          "output_type": "error",
          "ename": "TypeError",
          "evalue": "ignored",
          "traceback": [
            "\u001b[0;31m---------------------------------------------------------------------------\u001b[0m",
            "\u001b[0;31mTypeError\u001b[0m                                 Traceback (most recent call last)",
            "\u001b[0;32m<ipython-input-77-bfed54b371ac>\u001b[0m in \u001b[0;36m<cell line: 1>\u001b[0;34m()\u001b[0m\n\u001b[0;32m----> 1\u001b[0;31m \u001b[0ms1\u001b[0m\u001b[0;34m[\u001b[0m\u001b[0;36m0\u001b[0m\u001b[0;34m]\u001b[0m\u001b[0;34m\u001b[0m\u001b[0;34m\u001b[0m\u001b[0m\n\u001b[0m",
            "\u001b[0;31mTypeError\u001b[0m: 'set' object is not subscriptable"
          ]
        }
      ]
    },
    {
      "cell_type": "code",
      "source": [
        "l= list(s1)"
      ],
      "metadata": {
        "id": "qv0Ir6KjjArc"
      },
      "execution_count": null,
      "outputs": []
    },
    {
      "cell_type": "code",
      "source": [
        "l"
      ],
      "metadata": {
        "colab": {
          "base_uri": "https://localhost:8080/"
        },
        "id": "KUt8YEdyjGCr",
        "outputId": "02bc12fe-80b0-4910-a3ee-30b7d5cb3652"
      },
      "execution_count": null,
      "outputs": [
        {
          "output_type": "execute_result",
          "data": {
            "text/plain": [
              "[True, 2, 3.2, (1+3j), 'hello']"
            ]
          },
          "metadata": {},
          "execution_count": 80
        }
      ]
    },
    {
      "cell_type": "code",
      "source": [
        "l[0]"
      ],
      "metadata": {
        "colab": {
          "base_uri": "https://localhost:8080/"
        },
        "id": "1iSp7mrjjIOD",
        "outputId": "0227c0d4-1e48-4a13-f302-6a137d76b849"
      },
      "execution_count": null,
      "outputs": [
        {
          "output_type": "execute_result",
          "data": {
            "text/plain": [
              "True"
            ]
          },
          "metadata": {},
          "execution_count": 81
        }
      ]
    },
    {
      "cell_type": "markdown",
      "source": [
        "#Operators"
      ],
      "metadata": {
        "id": "V2VF0coTwo4T"
      }
    },
    {
      "cell_type": "code",
      "source": [
        "print(\"hello world\")"
      ],
      "metadata": {
        "id": "yf7fDlBijOuW",
        "outputId": "8e2fcf3b-703f-429d-a97b-b46a6f426ed3",
        "colab": {
          "base_uri": "https://localhost:8080/"
        }
      },
      "execution_count": 1,
      "outputs": [
        {
          "output_type": "stream",
          "name": "stdout",
          "text": [
            "hello world\n"
          ]
        }
      ]
    },
    {
      "cell_type": "code",
      "source": [
        "print(\"{0} and {1}\".format(\"hello\",\"world\"))"
      ],
      "metadata": {
        "id": "DSJCkVGuwz5F",
        "outputId": "3a94ff08-7c33-4beb-d979-abaf3ae217fe",
        "colab": {
          "base_uri": "https://localhost:8080/"
        }
      },
      "execution_count": 2,
      "outputs": [
        {
          "output_type": "stream",
          "name": "stdout",
          "text": [
            "hello and world\n"
          ]
        }
      ]
    },
    {
      "cell_type": "code",
      "source": [
        "print(\"{1} and {0}\".format(\"hello\",\"world\"))"
      ],
      "metadata": {
        "id": "0jbAJE1BxCtB",
        "outputId": "55703d4c-8211-4659-f817-425f0eb4539b",
        "colab": {
          "base_uri": "https://localhost:8080/"
        }
      },
      "execution_count": 4,
      "outputs": [
        {
          "output_type": "stream",
          "name": "stdout",
          "text": [
            "world and hello\n"
          ]
        }
      ]
    },
    {
      "cell_type": "code",
      "source": [
        "print(\"{6} {1} {2} {3} {4} {5} {0}\".format(\"hello\",\"world\",\",\",\"my\",\"name\",\"is\",\"Yusuf\"))"
      ],
      "metadata": {
        "id": "sZ4_WJMMxGLl",
        "outputId": "910cff4b-3f24-428d-d961-dd7bec6248c1",
        "colab": {
          "base_uri": "https://localhost:8080/"
        }
      },
      "execution_count": 12,
      "outputs": [
        {
          "output_type": "stream",
          "name": "stdout",
          "text": [
            "Yusuf world , my name is hello\n"
          ]
        }
      ]
    },
    {
      "cell_type": "code",
      "source": [
        "print(\"\"\"*\n",
        "**\n",
        "***\n",
        "****\n",
        "*****\"\"\")"
      ],
      "metadata": {
        "id": "_PM4zG83xdkG",
        "outputId": "3dbad709-72d9-4067-b416-ff5a902d3d0f",
        "colab": {
          "base_uri": "https://localhost:8080/"
        }
      },
      "execution_count": 14,
      "outputs": [
        {
          "output_type": "stream",
          "name": "stdout",
          "text": [
            "*\n",
            "**\n",
            "***\n",
            "****\n",
            "*****\n"
          ]
        }
      ]
    },
    {
      "cell_type": "code",
      "source": [
        "x=input(\"enter the string \")\n",
        "z=\"!\" + x +\"!\"\n",
        "print(z)"
      ],
      "metadata": {
        "id": "8yWe_1Lh0K3v",
        "outputId": "6d69f8e7-615c-4575-ac47-0abaa9370968",
        "colab": {
          "base_uri": "https://localhost:8080/"
        }
      },
      "execution_count": 18,
      "outputs": [
        {
          "output_type": "stream",
          "name": "stdout",
          "text": [
            "enter the string hello\n",
            "!hello!\n"
          ]
        }
      ]
    },
    {
      "cell_type": "code",
      "source": [
        "a=20\n",
        "b=10\n",
        "c=20\n",
        "a/b"
      ],
      "metadata": {
        "id": "03ezyrFH1FBq",
        "outputId": "eb925f4d-f866-4859-fcf5-8db2e1bc910d",
        "colab": {
          "base_uri": "https://localhost:8080/"
        }
      },
      "execution_count": 32,
      "outputs": [
        {
          "output_type": "execute_result",
          "data": {
            "text/plain": [
              "2.0"
            ]
          },
          "metadata": {},
          "execution_count": 32
        }
      ]
    },
    {
      "cell_type": "code",
      "source": [
        "a%b"
      ],
      "metadata": {
        "id": "fcsM5nzb6P_O",
        "outputId": "f34a4031-9aff-4fce-cff4-e38179ae3112",
        "colab": {
          "base_uri": "https://localhost:8080/"
        }
      },
      "execution_count": 21,
      "outputs": [
        {
          "output_type": "execute_result",
          "data": {
            "text/plain": [
              "0"
            ]
          },
          "metadata": {},
          "execution_count": 21
        }
      ]
    },
    {
      "cell_type": "code",
      "source": [
        "a==b"
      ],
      "metadata": {
        "id": "LmwSRUo66SxV",
        "outputId": "31f38b2f-4652-4a1f-8b38-244b039fba9b",
        "colab": {
          "base_uri": "https://localhost:8080/"
        }
      },
      "execution_count": 22,
      "outputs": [
        {
          "output_type": "execute_result",
          "data": {
            "text/plain": [
              "False"
            ]
          },
          "metadata": {},
          "execution_count": 22
        }
      ]
    },
    {
      "cell_type": "code",
      "source": [
        "a is b"
      ],
      "metadata": {
        "id": "TLzwY16u6UwL",
        "outputId": "774dea08-04c6-498c-ec9c-86eb231299c1",
        "colab": {
          "base_uri": "https://localhost:8080/"
        }
      },
      "execution_count": 23,
      "outputs": [
        {
          "output_type": "execute_result",
          "data": {
            "text/plain": [
              "False"
            ]
          },
          "metadata": {},
          "execution_count": 23
        }
      ]
    },
    {
      "cell_type": "code",
      "source": [
        "a is c"
      ],
      "metadata": {
        "id": "PoHX9uN56Z6z",
        "outputId": "8ccb2fdb-a1bb-4de4-b019-17a877d940fb",
        "colab": {
          "base_uri": "https://localhost:8080/"
        }
      },
      "execution_count": 27,
      "outputs": [
        {
          "output_type": "execute_result",
          "data": {
            "text/plain": [
              "True"
            ]
          },
          "metadata": {},
          "execution_count": 27
        }
      ]
    },
    {
      "cell_type": "code",
      "source": [
        "a !=b"
      ],
      "metadata": {
        "id": "Of7TmTmY6fE2",
        "outputId": "fcc9c5f2-8479-4046-bc96-8c1b5bef2a70",
        "colab": {
          "base_uri": "https://localhost:8080/"
        }
      },
      "execution_count": 28,
      "outputs": [
        {
          "output_type": "execute_result",
          "data": {
            "text/plain": [
              "True"
            ]
          },
          "metadata": {},
          "execution_count": 28
        }
      ]
    },
    {
      "cell_type": "code",
      "source": [
        "id(a)"
      ],
      "metadata": {
        "id": "q3vf5KUSAGRY",
        "outputId": "520b25a1-c48e-4038-e7da-431abd6868cb",
        "colab": {
          "base_uri": "https://localhost:8080/"
        }
      },
      "execution_count": 34,
      "outputs": [
        {
          "output_type": "execute_result",
          "data": {
            "text/plain": [
              "138381899514704"
            ]
          },
          "metadata": {},
          "execution_count": 34
        }
      ]
    },
    {
      "cell_type": "code",
      "source": [
        "id(b)"
      ],
      "metadata": {
        "id": "0fckk8ikAbMj",
        "outputId": "d0232c92-fff0-412d-8348-3a99556705e8",
        "colab": {
          "base_uri": "https://localhost:8080/"
        }
      },
      "execution_count": 35,
      "outputs": [
        {
          "output_type": "execute_result",
          "data": {
            "text/plain": [
              "138381899514384"
            ]
          },
          "metadata": {},
          "execution_count": 35
        }
      ]
    },
    {
      "cell_type": "code",
      "source": [
        "x = int(input(\"Enter the number: \"))\n",
        "y = 3**35/x\n",
        "print(y)"
      ],
      "metadata": {
        "id": "RhgPs4S6AcQU",
        "outputId": "fbb6edfd-2abd-4118-90e1-8b6ccdd86886",
        "colab": {
          "base_uri": "https://localhost:8080/"
        }
      },
      "execution_count": 1,
      "outputs": [
        {
          "output_type": "stream",
          "name": "stdout",
          "text": [
            "Enter the number: 10\n",
            "5003154509899971.0\n"
          ]
        }
      ]
    },
    {
      "cell_type": "code",
      "source": [
        "3**35"
      ],
      "metadata": {
        "id": "Jx6IcqnwhaSS",
        "outputId": "7b3f2f9c-0088-47c7-c8f0-e2478ec8fd64",
        "colab": {
          "base_uri": "https://localhost:8080/"
        }
      },
      "execution_count": 2,
      "outputs": [
        {
          "output_type": "execute_result",
          "data": {
            "text/plain": [
              "50031545098999707"
            ]
          },
          "metadata": {},
          "execution_count": 2
        }
      ]
    },
    {
      "cell_type": "code",
      "source": [
        "5%3"
      ],
      "metadata": {
        "id": "pUYVTUILhpxb",
        "outputId": "ed131bc9-7684-40af-cdb8-d637d6a1d05f",
        "colab": {
          "base_uri": "https://localhost:8080/"
        }
      },
      "execution_count": 3,
      "outputs": [
        {
          "output_type": "execute_result",
          "data": {
            "text/plain": [
              "2"
            ]
          },
          "metadata": {},
          "execution_count": 3
        }
      ]
    },
    {
      "cell_type": "markdown",
      "source": [
        "| Category         | Operators                                     | Example           |\n",
        "|------------------|-----------------------------------------------|-------------------|\n",
        "| Arithmetic       | `+, -, *, /, // (floor division), % (modulo)` | `a + b`, `10 / 3` |\n",
        "| Comparison       | `==, !=, <, >, <=, >=`                         | `x == y`, `a < b` |\n",
        "| Assignment       | `=, +=, -=, *=, /=, //=, %=`                   | `x = 5`, `a += 3` |\n",
        "| Logical          | `and, or, not`                                | `x > 0 and y < 10`|\n",
        "| Identity         | `is, is not`                                  | `a is b`, `x is not None` |\n",
        "| Membership       | `in, not in`                                  | `5 in list`, `key not in dictionary` |\n",
        "| Bitwise          | `&, |, ^, ~, <<, >>`                           | `a & b`, `x << 2` |\n",
        "\n"
      ],
      "metadata": {
        "id": "cUrsOpXSxhpy"
      }
    },
    {
      "cell_type": "markdown",
      "source": [
        "| Structure          | Description                                      | Example                                          |\n",
        "|--------------------|--------------------------------------------------|--------------------------------------------------|\n",
        "| `if`, `elif`, `else` | Conditional statements                           | `if x > 0: print(\"Positive\") elif x < 0: print(\"Negative\") else: print(\"Zero\")` |\n",
        "| `for` loop          | Iterates over a sequence or iterable             | `for i in range(5): print(i)`         |\n",
        "| `while` loop        | Repeatedly executes a block while a condition is true | `while count < 5: print(count); count += 1` |\n",
        "| `break`             | Exits a loop prematurely                          | `for i in range(10): if i == 5: break` |\n",
        "| `continue`          | Skips the rest of the code in a loop and moves to the next iteration | `for i in range(10): if i % 2 == 0: continue` |\n",
        "| `pass`              | No-operation placeholder                         | `if x < 0: pass`                     |\n",
        "| `try`, `except`, `finally` | Exception handling                        | `try: result = 10 / 0 except ZeroDivisionError: print(\"Cannot divide by zero.\") finally: print(\"This will be executed regardless.\")` |\n",
        "| List comprehension  | Concise way to create lists                      | `squares = [x**2 for x in range(5)]` |\n",
        "| Dictionary comprehension | Concise way to create dictionaries          | `square_dict = {x: x**2 for x in range(5)}` |\n",
        "| Set comprehension   | Concise way to create sets                       | `square_set = {x**2 for x in range(5)}` |\n"
      ],
      "metadata": {
        "id": "QJXItOINxjyV"
      }
    },
    {
      "cell_type": "code",
      "source": [
        "x = 5\n",
        "\n",
        "if x > 10:\n",
        "    print(\"A\")\n",
        "elif x > 3:\n",
        "    print(\"B\")\n",
        "elif x == 5:\n",
        "    print(\"C\")\n",
        "elif x > 2:\n",
        "    print(\"D\")\n",
        "else:\n",
        "    print(\"E\")"
      ],
      "metadata": {
        "id": "OQkFSveklcxn",
        "outputId": "1125ad38-6e4e-4a24-95f9-d53ce7edfba7",
        "colab": {
          "base_uri": "https://localhost:8080/"
        }
      },
      "execution_count": 1,
      "outputs": [
        {
          "output_type": "stream",
          "name": "stdout",
          "text": [
            "B\n"
          ]
        }
      ]
    },
    {
      "cell_type": "code",
      "source": [
        "x = 7\n",
        "\n",
        "if x > 10:\n",
        "    print(\"A\")\n",
        "elif x > 5:\n",
        "    print(\"B\")\n",
        "elif x > 2:\n",
        "    print(\"C\")\n",
        "else:\n",
        "    print(\"D\")"
      ],
      "metadata": {
        "id": "OmtR7c-BHAvT",
        "outputId": "327bfb32-43aa-47ee-e945-df2c74d4b89d",
        "colab": {
          "base_uri": "https://localhost:8080/"
        }
      },
      "execution_count": 2,
      "outputs": [
        {
          "output_type": "stream",
          "name": "stdout",
          "text": [
            "B\n"
          ]
        }
      ]
    },
    {
      "cell_type": "code",
      "source": [
        "x = 5\n",
        "\n",
        "if x > 10:\n",
        "    print(\"A\")\n",
        "else:\n",
        "    print(\"B\")\n",
        "\n",
        "if x > 3:\n",
        "    print(\"C\")\n",
        "else:\n",
        "    print(\"D\")"
      ],
      "metadata": {
        "id": "T_s5qWZYHBq5",
        "outputId": "2d5d6515-c32f-4439-aab1-f6169a2a2a2b",
        "colab": {
          "base_uri": "https://localhost:8080/"
        }
      },
      "execution_count": 3,
      "outputs": [
        {
          "output_type": "stream",
          "name": "stdout",
          "text": [
            "B\n",
            "C\n"
          ]
        }
      ]
    },
    {
      "cell_type": "code",
      "source": [
        "x = 3\n",
        "\n",
        "if x > 5:\n",
        "    print(\"A\")\n",
        "else:\n",
        "    if x > 2:\n",
        "        print(\"B\")\n",
        "    else:\n",
        "        print(\"C\")"
      ],
      "metadata": {
        "id": "HLsFJF7QHPw3",
        "outputId": "3eed879a-6763-4aa1-d63c-2879a9b533d3",
        "colab": {
          "base_uri": "https://localhost:8080/"
        }
      },
      "execution_count": 4,
      "outputs": [
        {
          "output_type": "stream",
          "name": "stdout",
          "text": [
            "B\n"
          ]
        }
      ]
    },
    {
      "cell_type": "code",
      "source": [],
      "metadata": {
        "id": "7qsc-Z6bHiLZ"
      },
      "execution_count": null,
      "outputs": []
    }
  ]
}