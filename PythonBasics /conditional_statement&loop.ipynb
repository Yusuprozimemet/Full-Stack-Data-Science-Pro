{
  "nbformat": 4,
  "nbformat_minor": 0,
  "metadata": {
    "colab": {
      "provenance": [],
      "authorship_tag": "ABX9TyMavK0n9Vfg1oGdZ9RF07Mw",
      "include_colab_link": true
    },
    "kernelspec": {
      "name": "python3",
      "display_name": "Python 3"
    },
    "language_info": {
      "name": "python"
    }
  },
  "cells": [
    {
      "cell_type": "markdown",
      "metadata": {
        "id": "view-in-github",
        "colab_type": "text"
      },
      "source": [
        "<a href=\"https://colab.research.google.com/github/yusufrozimemet/Full-Stack-Data-Science-Pro/blob/main/PythonBasics%20/conditional_statement%26loop.ipynb\" target=\"_parent\"><img src=\"https://colab.research.google.com/assets/colab-badge.svg\" alt=\"Open In Colab\"/></a>"
      ]
    },
    {
      "cell_type": "code",
      "source": [
        "def greet():\n",
        "  message = \"world\"\n",
        "\n",
        "  print(\"hello\", message) #local"
      ],
      "metadata": {
        "id": "K_D6-9Hdpnaj"
      },
      "execution_count": 3,
      "outputs": []
    },
    {
      "cell_type": "code",
      "source": [
        "greet()"
      ],
      "metadata": {
        "id": "k4ZtxPtDx_2I",
        "colab": {
          "base_uri": "https://localhost:8080/"
        },
        "outputId": "fe506f30-fac2-49a9-ba5d-dd0901434127"
      },
      "execution_count": 4,
      "outputs": [
        {
          "output_type": "stream",
          "name": "stdout",
          "text": [
            "hello world\n"
          ]
        }
      ]
    },
    {
      "cell_type": "code",
      "source": [
        "def greet():\n",
        "  message = \"world\"\n",
        "\n",
        "print(\"hello\", message) #global"
      ],
      "metadata": {
        "colab": {
          "base_uri": "https://localhost:8080/",
          "height": 219
        },
        "id": "J-JiqWyQ1byS",
        "outputId": "77212770-2c8b-42fb-9241-598d7a243d29"
      },
      "execution_count": 5,
      "outputs": [
        {
          "output_type": "error",
          "ename": "NameError",
          "evalue": "ignored",
          "traceback": [
            "\u001b[0;31m---------------------------------------------------------------------------\u001b[0m",
            "\u001b[0;31mNameError\u001b[0m                                 Traceback (most recent call last)",
            "\u001b[0;32m<ipython-input-5-71229dffba50>\u001b[0m in \u001b[0;36m<cell line: 4>\u001b[0;34m()\u001b[0m\n\u001b[1;32m      2\u001b[0m   \u001b[0mmessage\u001b[0m \u001b[0;34m=\u001b[0m \u001b[0;34m\"world\"\u001b[0m\u001b[0;34m\u001b[0m\u001b[0;34m\u001b[0m\u001b[0m\n\u001b[1;32m      3\u001b[0m \u001b[0;34m\u001b[0m\u001b[0m\n\u001b[0;32m----> 4\u001b[0;31m \u001b[0mprint\u001b[0m\u001b[0;34m(\u001b[0m\u001b[0;34m\"hello\"\u001b[0m\u001b[0;34m,\u001b[0m \u001b[0mmessage\u001b[0m\u001b[0;34m)\u001b[0m\u001b[0;34m\u001b[0m\u001b[0;34m\u001b[0m\u001b[0m\n\u001b[0m",
            "\u001b[0;31mNameError\u001b[0m: name 'message' is not defined"
          ]
        }
      ]
    },
    {
      "cell_type": "code",
      "source": [
        "def add():\n",
        "  x=20\n",
        "  y=30\n",
        "  print(x+y) #local scope\n",
        "print(x)\n",
        "print(y)  #global scope"
      ],
      "metadata": {
        "colab": {
          "base_uri": "https://localhost:8080/",
          "height": 237
        },
        "id": "RaSz6e1q1mPn",
        "outputId": "ab145002-af09-4e21-acf0-d5b0983eb2a3"
      },
      "execution_count": 6,
      "outputs": [
        {
          "output_type": "error",
          "ename": "NameError",
          "evalue": "ignored",
          "traceback": [
            "\u001b[0;31m---------------------------------------------------------------------------\u001b[0m",
            "\u001b[0;31mNameError\u001b[0m                                 Traceback (most recent call last)",
            "\u001b[0;32m<ipython-input-6-70f002b7eb63>\u001b[0m in \u001b[0;36m<cell line: 5>\u001b[0;34m()\u001b[0m\n\u001b[1;32m      3\u001b[0m   \u001b[0my\u001b[0m\u001b[0;34m=\u001b[0m\u001b[0;36m30\u001b[0m\u001b[0;34m\u001b[0m\u001b[0;34m\u001b[0m\u001b[0m\n\u001b[1;32m      4\u001b[0m   \u001b[0mprint\u001b[0m\u001b[0;34m(\u001b[0m\u001b[0mx\u001b[0m\u001b[0;34m+\u001b[0m\u001b[0my\u001b[0m\u001b[0;34m)\u001b[0m\u001b[0;34m\u001b[0m\u001b[0;34m\u001b[0m\u001b[0m\n\u001b[0;32m----> 5\u001b[0;31m \u001b[0mprint\u001b[0m\u001b[0;34m(\u001b[0m\u001b[0mx\u001b[0m\u001b[0;34m)\u001b[0m\u001b[0;34m\u001b[0m\u001b[0;34m\u001b[0m\u001b[0m\n\u001b[0m\u001b[1;32m      6\u001b[0m \u001b[0mprint\u001b[0m\u001b[0;34m(\u001b[0m\u001b[0my\u001b[0m\u001b[0;34m)\u001b[0m\u001b[0;34m\u001b[0m\u001b[0;34m\u001b[0m\u001b[0m\n",
            "\u001b[0;31mNameError\u001b[0m: name 'x' is not defined"
          ]
        }
      ]
    },
    {
      "cell_type": "code",
      "source": [
        "x = \"awesome\"\n",
        "\n",
        "def myfunc():\n",
        "  x=\"fantastic\"\n",
        "  print(\"python is \" +x)\n",
        "myfunc()\n",
        "print(x)"
      ],
      "metadata": {
        "colab": {
          "base_uri": "https://localhost:8080/"
        },
        "id": "e13WguBt15Hq",
        "outputId": "d10c5035-fc19-4ba2-dc9f-d68149062cfa"
      },
      "execution_count": 8,
      "outputs": [
        {
          "output_type": "stream",
          "name": "stdout",
          "text": [
            "python is fantastic\n",
            "awesome\n"
          ]
        }
      ]
    },
    {
      "cell_type": "code",
      "source": [
        "x=20\n",
        "\n",
        "def add():\n",
        "  y=30\n",
        "  print(\"local variable \",y)\n",
        "  print(\"global variable \",x)\n",
        "\n",
        "  z=x+y\n",
        "  print(z)\n"
      ],
      "metadata": {
        "id": "6cRwWE9u2b6N"
      },
      "execution_count": 15,
      "outputs": []
    },
    {
      "cell_type": "code",
      "source": [
        "add()"
      ],
      "metadata": {
        "colab": {
          "base_uri": "https://localhost:8080/"
        },
        "id": "t01jCKY33d6f",
        "outputId": "836d055c-5857-4182-d767-aa04f3eb2bcc"
      },
      "execution_count": 16,
      "outputs": [
        {
          "output_type": "stream",
          "name": "stdout",
          "text": [
            "local variable  30\n",
            "global variable  20\n",
            "50\n"
          ]
        }
      ]
    },
    {
      "cell_type": "markdown",
      "source": [
        "User-Defined Functions:\n",
        "\n",
        "Created by the user.\n",
        "Tailored for specific tasks.\n",
        "Provides modularity and code organization.\n",
        "Allows for reuse in different parts of a program.\n",
        "\n",
        "Built-In Functions:\n",
        "\n",
        "Predefined in Python.\n",
        "General-purpose and cover common tasks.\n",
        "Available without the need for explicit definition.\n",
        "Form the foundation of the Python language and standard library."
      ],
      "metadata": {
        "id": "T3Y_b7sv4T0E"
      }
    },
    {
      "cell_type": "code",
      "source": [
        "##python functional arguments"
      ],
      "metadata": {
        "id": "QqZL88ix3j7t"
      },
      "execution_count": null,
      "outputs": []
    },
    {
      "cell_type": "code",
      "source": [
        "def add(a,b):\n",
        "  sum=a+b\n",
        "  print(sum)"
      ],
      "metadata": {
        "id": "deutraPe44uA"
      },
      "execution_count": 17,
      "outputs": []
    },
    {
      "cell_type": "code",
      "source": [
        "add(5,2)"
      ],
      "metadata": {
        "colab": {
          "base_uri": "https://localhost:8080/"
        },
        "id": "3ZfCbvJc4_ow",
        "outputId": "64803823-c7d6-43cc-e9a3-d33d4d8838b3"
      },
      "execution_count": 19,
      "outputs": [
        {
          "output_type": "stream",
          "name": "stdout",
          "text": [
            "7\n"
          ]
        }
      ]
    },
    {
      "cell_type": "code",
      "source": [
        "def add(a=4,b=8):\n",
        "  sum=a+b\n",
        "  print(sum)"
      ],
      "metadata": {
        "id": "zUM2siun5B41"
      },
      "execution_count": 20,
      "outputs": []
    },
    {
      "cell_type": "code",
      "source": [
        "add()"
      ],
      "metadata": {
        "colab": {
          "base_uri": "https://localhost:8080/"
        },
        "id": "3vv0h3Ju5fPc",
        "outputId": "bdb4380e-7d27-4f90-994f-94fd4f93f655"
      },
      "execution_count": 21,
      "outputs": [
        {
          "output_type": "stream",
          "name": "stdout",
          "text": [
            "12\n"
          ]
        }
      ]
    },
    {
      "cell_type": "code",
      "source": [
        "add(4,1)"
      ],
      "metadata": {
        "colab": {
          "base_uri": "https://localhost:8080/"
        },
        "id": "DXbU10gR5hQd",
        "outputId": "09258ff0-c4fc-45e7-85bb-d8741c74d11e"
      },
      "execution_count": 22,
      "outputs": [
        {
          "output_type": "stream",
          "name": "stdout",
          "text": [
            "5\n"
          ]
        }
      ]
    },
    {
      "cell_type": "markdown",
      "source": [
        "| Argument Type               | Description                                                    | Syntax Example                                       |\n",
        "| --------------------------- | -------------------------------------------------------------- | ---------------------------------------------------- |\n",
        "| Positional Arguments        | Most common type, passed based on their position.              | `def example_function(arg1, arg2):`<br>`example_function(value1, value2)` |\n",
        "| Keyword Arguments           | Passed by explicitly naming the parameter and providing a value. | `def example_function(arg1, arg2):`<br>`example_function(arg1=value1, arg2=value2)` |\n",
        "| Default Arguments           | Parameters with default values; used if a value is not provided during the function call. | `def example_function(arg1, arg2=default_value):`    |\n",
        "| Variable-Length Arguments (`*args`) | Allows a function to accept any number of positional arguments, collected into a tuple. | `def example_function(*args):`                        |\n",
        "| Variable-Length Arguments (`**kwargs`) | Allows a function to accept any number of keyword arguments, collected into a dictionary. | `def example_function(**kwargs):`                     |\n"
      ],
      "metadata": {
        "id": "-7akHsmb7nj-"
      }
    },
    {
      "cell_type": "code",
      "source": [
        "def name(name=\"yusuf\"):\n",
        "  print(\"my name is \", name)"
      ],
      "metadata": {
        "id": "wQX1RGMx5oX0"
      },
      "execution_count": 23,
      "outputs": []
    },
    {
      "cell_type": "code",
      "source": [
        "name()"
      ],
      "metadata": {
        "colab": {
          "base_uri": "https://localhost:8080/"
        },
        "id": "Vrblxn2k8bML",
        "outputId": "7136ff64-6f89-480d-ade0-4064687425d6"
      },
      "execution_count": 24,
      "outputs": [
        {
          "output_type": "stream",
          "name": "stdout",
          "text": [
            "my name is  yusuf\n"
          ]
        }
      ]
    },
    {
      "cell_type": "code",
      "source": [
        "def name(name):\n",
        "  print(\"my name is \", name)"
      ],
      "metadata": {
        "id": "JUa1z_oH8ctS"
      },
      "execution_count": 25,
      "outputs": []
    },
    {
      "cell_type": "code",
      "source": [
        "name(name)"
      ],
      "metadata": {
        "colab": {
          "base_uri": "https://localhost:8080/"
        },
        "id": "pyZqOu748nUN",
        "outputId": "718adc0a-8d17-46ba-adb4-63d291460260"
      },
      "execution_count": 27,
      "outputs": [
        {
          "output_type": "stream",
          "name": "stdout",
          "text": [
            "my name is  <function name at 0x79d03b839cf0>\n"
          ]
        }
      ]
    },
    {
      "cell_type": "code",
      "source": [
        "def find_sum(*numbers):\n",
        "  result=0\n",
        "\n",
        "  for num in numbers:\n",
        "      result = result+num\n",
        "  print(result)"
      ],
      "metadata": {
        "id": "_Ocv57_j8oqC"
      },
      "execution_count": 41,
      "outputs": []
    },
    {
      "cell_type": "code",
      "source": [
        "find_sum()"
      ],
      "metadata": {
        "colab": {
          "base_uri": "https://localhost:8080/"
        },
        "id": "72bnpvNFCMhz",
        "outputId": "68f991d1-f76b-4fb4-ace7-51df733558df"
      },
      "execution_count": 42,
      "outputs": [
        {
          "output_type": "stream",
          "name": "stdout",
          "text": [
            "0\n"
          ]
        }
      ]
    },
    {
      "cell_type": "code",
      "source": [
        "find_sum(1,2,3)"
      ],
      "metadata": {
        "colab": {
          "base_uri": "https://localhost:8080/"
        },
        "id": "2KJPHKlWCO3J",
        "outputId": "148a9f84-30a9-4e8e-a21d-3f8ec06ded8c"
      },
      "execution_count": 43,
      "outputs": [
        {
          "output_type": "stream",
          "name": "stdout",
          "text": [
            "6\n"
          ]
        }
      ]
    },
    {
      "cell_type": "code",
      "source": [
        "find_sum(1,2,3,4,5,6,7,8)"
      ],
      "metadata": {
        "colab": {
          "base_uri": "https://localhost:8080/"
        },
        "id": "QpbIOQpJCXRh",
        "outputId": "675436e0-7fb0-433e-9f98-a3d311226d19"
      },
      "execution_count": 44,
      "outputs": [
        {
          "output_type": "stream",
          "name": "stdout",
          "text": [
            "36\n"
          ]
        }
      ]
    },
    {
      "cell_type": "code",
      "source": [
        "def simple(*x):\n",
        "  print(x)"
      ],
      "metadata": {
        "id": "uK6X5CvwC9UO"
      },
      "execution_count": 45,
      "outputs": []
    },
    {
      "cell_type": "code",
      "source": [
        "simple(1,2,3,4)"
      ],
      "metadata": {
        "colab": {
          "base_uri": "https://localhost:8080/"
        },
        "id": "wRBww_VhD0OQ",
        "outputId": "87deae49-3206-48de-9bac-4efad60c8de2"
      },
      "execution_count": 46,
      "outputs": [
        {
          "output_type": "stream",
          "name": "stdout",
          "text": [
            "(1, 2, 3, 4)\n"
          ]
        }
      ]
    },
    {
      "cell_type": "code",
      "source": [
        "def intro(**data):\n",
        "  print(type(data))\n",
        "\n",
        "  for key,value in data.items():\n",
        "    print(key,value)"
      ],
      "metadata": {
        "id": "Ph25xMNUD2hN"
      },
      "execution_count": 51,
      "outputs": []
    },
    {
      "cell_type": "code",
      "source": [
        "intro(firstname=\"hello\", lastname=\"world\", name=\"yusuf\")"
      ],
      "metadata": {
        "colab": {
          "base_uri": "https://localhost:8080/"
        },
        "id": "X_yKIYx9FRFJ",
        "outputId": "76126215-34ca-45df-de58-42f25508378e"
      },
      "execution_count": 53,
      "outputs": [
        {
          "output_type": "stream",
          "name": "stdout",
          "text": [
            "<class 'dict'>\n",
            "firstname hello\n",
            "lastname world\n",
            "name yusuf\n"
          ]
        }
      ]
    },
    {
      "cell_type": "code",
      "source": [
        "x={\"a\":1, \"b\":2}"
      ],
      "metadata": {
        "id": "Y9CTfDgOEtz3"
      },
      "execution_count": 48,
      "outputs": []
    },
    {
      "cell_type": "code",
      "source": [
        "for keys,value in x.items():\n",
        "  print(keys,value)"
      ],
      "metadata": {
        "colab": {
          "base_uri": "https://localhost:8080/"
        },
        "id": "H5Nq9QYlE2MR",
        "outputId": "338a040e-d15a-4163-de9d-f16ebb6afc97"
      },
      "execution_count": 50,
      "outputs": [
        {
          "output_type": "stream",
          "name": "stdout",
          "text": [
            "a 1\n",
            "b 2\n"
          ]
        }
      ]
    },
    {
      "cell_type": "code",
      "source": [
        "def simple1(*x):\n",
        "  print(x)"
      ],
      "metadata": {
        "id": "DszuTcvxHTuV"
      },
      "execution_count": 65,
      "outputs": []
    },
    {
      "cell_type": "code",
      "source": [
        "def simple(**x):\n",
        "  print(x)"
      ],
      "metadata": {
        "id": "MYEYSQx-E7zi"
      },
      "execution_count": 62,
      "outputs": []
    },
    {
      "cell_type": "code",
      "source": [
        "simple(1,2,3,4)"
      ],
      "metadata": {
        "colab": {
          "base_uri": "https://localhost:8080/",
          "height": 182
        },
        "id": "YwfSxjoTGZBc",
        "outputId": "ca18052e-7141-488d-d355-d37c6cf3e6c1"
      },
      "execution_count": 69,
      "outputs": [
        {
          "output_type": "error",
          "ename": "TypeError",
          "evalue": "ignored",
          "traceback": [
            "\u001b[0;31m---------------------------------------------------------------------------\u001b[0m",
            "\u001b[0;31mTypeError\u001b[0m                                 Traceback (most recent call last)",
            "\u001b[0;32m<ipython-input-69-7522387b1d64>\u001b[0m in \u001b[0;36m<cell line: 1>\u001b[0;34m()\u001b[0m\n\u001b[0;32m----> 1\u001b[0;31m \u001b[0msimple\u001b[0m\u001b[0;34m(\u001b[0m\u001b[0;36m1\u001b[0m\u001b[0;34m,\u001b[0m\u001b[0;36m2\u001b[0m\u001b[0;34m,\u001b[0m\u001b[0;36m3\u001b[0m\u001b[0;34m,\u001b[0m\u001b[0;36m4\u001b[0m\u001b[0;34m)\u001b[0m\u001b[0;34m\u001b[0m\u001b[0;34m\u001b[0m\u001b[0m\n\u001b[0m",
            "\u001b[0;31mTypeError\u001b[0m: simple() takes 0 positional arguments but 4 were given"
          ]
        }
      ]
    },
    {
      "cell_type": "code",
      "source": [
        "simple1(1,2,3,4)"
      ],
      "metadata": {
        "colab": {
          "base_uri": "https://localhost:8080/"
        },
        "id": "N-GPOtTGHXEz",
        "outputId": "eef09467-85ff-4e28-e5ad-52135f3c517e"
      },
      "execution_count": 68,
      "outputs": [
        {
          "output_type": "stream",
          "name": "stdout",
          "text": [
            "(1, 2, 3, 4)\n"
          ]
        }
      ]
    },
    {
      "cell_type": "code",
      "source": [
        "simple(a=\"h\",b=\"e\",c=\"l\",d=\"l\")"
      ],
      "metadata": {
        "colab": {
          "base_uri": "https://localhost:8080/"
        },
        "id": "tLDcRtrHGcWO",
        "outputId": "d0cac96c-1225-43fb-e108-f246d20c57a6"
      },
      "execution_count": 64,
      "outputs": [
        {
          "output_type": "stream",
          "name": "stdout",
          "text": [
            "{'a': 'h', 'b': 'e', 'c': 'l', 'd': 'l'}\n"
          ]
        }
      ]
    },
    {
      "cell_type": "markdown",
      "source": [
        "#lambda syntax\n",
        "lambda arguments: expression\n"
      ],
      "metadata": {
        "id": "owqq91xlMvRW"
      }
    },
    {
      "cell_type": "code",
      "source": [
        "add = lambda x, y: x + y\n",
        "result = add(3, 5)\n",
        "print(result)"
      ],
      "metadata": {
        "colab": {
          "base_uri": "https://localhost:8080/"
        },
        "id": "DlIToGXKGoOQ",
        "outputId": "a79e40f1-dbd2-4027-fb95-dc87cf508c23"
      },
      "execution_count": 71,
      "outputs": [
        {
          "output_type": "stream",
          "name": "stdout",
          "text": [
            "8\n"
          ]
        }
      ]
    },
    {
      "cell_type": "code",
      "source": [
        "x=lambda n:\"true\" if n%2==0 else \"false\""
      ],
      "metadata": {
        "id": "GOERjVFTM10f"
      },
      "execution_count": 76,
      "outputs": []
    },
    {
      "cell_type": "code",
      "source": [
        "x(4)"
      ],
      "metadata": {
        "colab": {
          "base_uri": "https://localhost:8080/",
          "height": 36
        },
        "id": "iQ-v2HsUPLus",
        "outputId": "1307e58c-6996-4f0e-e13f-3d32e20ad516"
      },
      "execution_count": 77,
      "outputs": [
        {
          "output_type": "execute_result",
          "data": {
            "text/plain": [
              "'true'"
            ],
            "application/vnd.google.colaboratory.intrinsic+json": {
              "type": "string"
            }
          },
          "metadata": {},
          "execution_count": 77
        }
      ]
    },
    {
      "cell_type": "code",
      "source": [
        "greatest_numb = lambda a,b : a if a>b else b"
      ],
      "metadata": {
        "id": "jRiyORtiPPrC"
      },
      "execution_count": 80,
      "outputs": []
    },
    {
      "cell_type": "code",
      "source": [
        "greatest_numb(5,9)"
      ],
      "metadata": {
        "colab": {
          "base_uri": "https://localhost:8080/"
        },
        "id": "fO7J6vjKQMaH",
        "outputId": "0417da9d-c872-4ece-bca1-4f8f873badd1"
      },
      "execution_count": 81,
      "outputs": [
        {
          "output_type": "execute_result",
          "data": {
            "text/plain": [
              "9"
            ]
          },
          "metadata": {},
          "execution_count": 81
        }
      ]
    },
    {
      "cell_type": "code",
      "source": [
        "products = [\n",
        "    {'name':'product1','price':50},\n",
        "    {'name':'product2','price':40},\n",
        "    {'name':'product3','price':30},\n",
        "    {'name':'product4','price':80}\n",
        "]\n",
        "\n",
        "# sorted()\n",
        "\n",
        "sorted_products= sorted(products, key=lambda x:x['price'],reverse=True)"
      ],
      "metadata": {
        "id": "63hA9XLnQQB5"
      },
      "execution_count": 82,
      "outputs": []
    },
    {
      "cell_type": "code",
      "source": [
        "for i in sorted_products:\n",
        "  print(i)"
      ],
      "metadata": {
        "colab": {
          "base_uri": "https://localhost:8080/"
        },
        "id": "-hW6BUEdRswo",
        "outputId": "2bd6b698-6acc-4031-97b7-f509740cb5a6"
      },
      "execution_count": 83,
      "outputs": [
        {
          "output_type": "stream",
          "name": "stdout",
          "text": [
            "{'name': 'product4', 'price': 80}\n",
            "{'name': 'product1', 'price': 50}\n",
            "{'name': 'product2', 'price': 40}\n",
            "{'name': 'product3', 'price': 30}\n"
          ]
        }
      ]
    },
    {
      "cell_type": "code",
      "source": [
        "x={\"name\":\"product1\",\"price\":50}"
      ],
      "metadata": {
        "id": "uNzVdNSiR1mD"
      },
      "execution_count": 84,
      "outputs": []
    },
    {
      "cell_type": "code",
      "source": [
        "key=lambda x:x[\"price\"]"
      ],
      "metadata": {
        "id": "qsp6TRE4SmfR"
      },
      "execution_count": 85,
      "outputs": []
    },
    {
      "cell_type": "code",
      "source": [
        "key"
      ],
      "metadata": {
        "colab": {
          "base_uri": "https://localhost:8080/"
        },
        "id": "5_ZBnOowSrFq",
        "outputId": "d59a656c-94bd-46b4-cefb-a715df809f63"
      },
      "execution_count": 86,
      "outputs": [
        {
          "output_type": "execute_result",
          "data": {
            "text/plain": [
              "<function __main__.<lambda>(x)>"
            ]
          },
          "metadata": {},
          "execution_count": 86
        }
      ]
    },
    {
      "cell_type": "code",
      "source": [
        "x[\"price\"]"
      ],
      "metadata": {
        "colab": {
          "base_uri": "https://localhost:8080/"
        },
        "id": "rTRyqZ7ISr81",
        "outputId": "25b92bb3-92b9-4a57-db58-10a8726dfac1"
      },
      "execution_count": 88,
      "outputs": [
        {
          "output_type": "execute_result",
          "data": {
            "text/plain": [
              "50"
            ]
          },
          "metadata": {},
          "execution_count": 88
        }
      ]
    },
    {
      "cell_type": "code",
      "source": [],
      "metadata": {
        "id": "yKrX4s4aSvdB"
      },
      "execution_count": null,
      "outputs": []
    }
  ]
}