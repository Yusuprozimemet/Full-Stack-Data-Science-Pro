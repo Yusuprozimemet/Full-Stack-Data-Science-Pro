{
  "nbformat": 4,
  "nbformat_minor": 0,
  "metadata": {
    "colab": {
      "provenance": [],
      "authorship_tag": "ABX9TyPc8zyuOg3litq9h38D0bC6",
      "include_colab_link": true
    },
    "kernelspec": {
      "name": "python3",
      "display_name": "Python 3"
    },
    "language_info": {
      "name": "python"
    }
  },
  "cells": [
    {
      "cell_type": "markdown",
      "metadata": {
        "id": "view-in-github",
        "colab_type": "text"
      },
      "source": [
        "<a href=\"https://colab.research.google.com/github/yusufrozimemet/Full-Stack-Data-Science-Pro/blob/main/PythonBasics%20/12th_November_Python_DataTypes.ipynb\" target=\"_parent\"><img src=\"https://colab.research.google.com/assets/colab-badge.svg\" alt=\"Open In Colab\"/></a>"
      ]
    },
    {
      "cell_type": "markdown",
      "source": [
        "#Basic If-Else Statements:"
      ],
      "metadata": {
        "id": "40l4R1pXRFos"
      }
    },
    {
      "cell_type": "code",
      "execution_count": 12,
      "metadata": {
        "id": "i0NMNkY5-cMr",
        "colab": {
          "base_uri": "https://localhost:8080/"
        },
        "outputId": "276a1621-0daa-411f-c087-45421ebab613"
      },
      "outputs": [
        {
          "output_type": "stream",
          "name": "stdout",
          "text": [
            "-8\n",
            "The number is negative.\n"
          ]
        }
      ],
      "source": [
        "def check_positive_negative(number):\n",
        "    if number > 0:\n",
        "        print(\"The number is positive.\")\n",
        "    elif number < 0:\n",
        "        print(\"The number is negative.\")\n",
        "    else:\n",
        "        print(\"The number is zero.\")\n",
        "\n",
        "# Example usage:\n",
        "check_positive_negative(float(input()))"
      ]
    },
    {
      "cell_type": "code",
      "source": [
        "def check_voting_eligibility(age):\n",
        "    if age >= 18:\n",
        "        print(\"You are eligible to vote.\")\n",
        "    else:\n",
        "        print(\"You are not eligible to vote yet.\")\n",
        "\n",
        "# Example usage:\n",
        "check_voting_eligibility(float(input()))"
      ],
      "metadata": {
        "colab": {
          "base_uri": "https://localhost:8080/"
        },
        "id": "DjOTwuDzYP8Q",
        "outputId": "b409918a-21a0-42b1-8bfd-51ab9aa3fcfb"
      },
      "execution_count": 10,
      "outputs": [
        {
          "output_type": "stream",
          "name": "stdout",
          "text": [
            "99\n",
            "You are eligible to vote.\n"
          ]
        }
      ]
    },
    {
      "cell_type": "code",
      "source": [
        "def find_maximum(num1, num2):\n",
        "    if num1 > num2:\n",
        "        print(f\"The maximum number is: {num1}\")\n",
        "    else:\n",
        "        print(f\"The maximum number is: {num2}\")\n",
        "\n",
        "# Take input manually\n",
        "num1 = float(input(\"Enter the first number: \"))\n",
        "num2 = float(input(\"Enter the second number: \"))\n",
        "\n",
        "# Call the function with the input values\n",
        "find_maximum(num1, num2)\n"
      ],
      "metadata": {
        "colab": {
          "base_uri": "https://localhost:8080/"
        },
        "id": "wXIY8BmqYThS",
        "outputId": "aae4b832-c74c-4c49-ee0b-bdb958202b2d"
      },
      "execution_count": 9,
      "outputs": [
        {
          "output_type": "stream",
          "name": "stdout",
          "text": [
            "Enter the first number: 6\n",
            "Enter the second number: 9\n",
            "The maximum number is: 9.0\n"
          ]
        }
      ]
    },
    {
      "cell_type": "code",
      "source": [
        "def check_leap_year(year):\n",
        "    if year <0:\n",
        "        print (f\"{year} is not a correct for the calculation\")\n",
        "    elif (year >0 and year % 4 == 0 and year % 100 != 0) or (year % 400 == 0):\n",
        "        print(f\"{year} is a leap year.\")\n",
        "    else:\n",
        "        print(f\"{year} is not a leap year.\")\n",
        "\n",
        "# Example usage:\n",
        "check_leap_year(float(input()))"
      ],
      "metadata": {
        "colab": {
          "base_uri": "https://localhost:8080/"
        },
        "id": "E6SIls5_YzZ0",
        "outputId": "e58dca96-94a2-4a7a-e32e-f3d9ad5a7d7a"
      },
      "execution_count": 19,
      "outputs": [
        {
          "output_type": "stream",
          "name": "stdout",
          "text": [
            "-44\n",
            "-44.0 is not a correct for the calculation\n"
          ]
        }
      ]
    },
    {
      "cell_type": "code",
      "source": [
        "def check_vowel_consonant(char):\n",
        "    if char.lower() in ['a', 'e', 'i', 'o', 'u']:\n",
        "        print(f\"{char} is a vowel.\")\n",
        "    else:\n",
        "        print(f\"{char} is a consonant.\")\n",
        "\n",
        "# Example usage:\n",
        "check_vowel_consonant(str(input()))"
      ],
      "metadata": {
        "colab": {
          "base_uri": "https://localhost:8080/"
        },
        "id": "HQuSvqIzY2Jg",
        "outputId": "8da6e69b-b418-492a-f5dd-4047f1208e16"
      },
      "execution_count": 22,
      "outputs": [
        {
          "output_type": "stream",
          "name": "stdout",
          "text": [
            "o\n",
            "o is a vowel.\n"
          ]
        }
      ]
    },
    {
      "cell_type": "code",
      "source": [
        "def check_even_odd(number):\n",
        "    if number % 2 == 0:\n",
        "        print(f\"{number} is an even number.\")\n",
        "    else:\n",
        "        print(f\"{number} is an odd number.\")\n",
        "\n",
        "# Example usage:\n",
        "check_even_odd(float(input()))\n"
      ],
      "metadata": {
        "colab": {
          "base_uri": "https://localhost:8080/"
        },
        "id": "NQfH3kQbZe9q",
        "outputId": "1a36344e-ef32-4f86-b36a-0efa6843cf8e"
      },
      "execution_count": 24,
      "outputs": [
        {
          "output_type": "stream",
          "name": "stdout",
          "text": [
            "9\n",
            "9.0 is an odd number.\n"
          ]
        }
      ]
    },
    {
      "cell_type": "code",
      "source": [
        "def absolute_value(number):\n",
        "    if number < 0:\n",
        "        result = -number\n",
        "    else:\n",
        "        result = number\n",
        "    print(f\"The absolute value of {number} is: {result}\")\n",
        "\n",
        "# Example usage:\n",
        "absolute_value(float(input()))\n"
      ],
      "metadata": {
        "colab": {
          "base_uri": "https://localhost:8080/"
        },
        "id": "LSCVTebpZnen",
        "outputId": "05d2f49e-d70f-421d-a9c6-1266ccfa3a23"
      },
      "execution_count": 25,
      "outputs": [
        {
          "output_type": "stream",
          "name": "stdout",
          "text": [
            "-9\n",
            "The absolute value of -9.0 is: 9.0\n"
          ]
        }
      ]
    },
    {
      "cell_type": "code",
      "source": [
        "def find_largest(num1, num2, num3):\n",
        "    if num1 >= num2 and num1 >= num3:\n",
        "        print(f\"The largest number is: {num1}\")\n",
        "    elif num2 >= num1 and num2 >= num3:\n",
        "        print(f\"The largest number is: {num2}\")\n",
        "    else:\n",
        "        print(f\"The largest number is: {num3}\")\n",
        "\n",
        "num1 = float(input(\"Enter the first number: \"))\n",
        "num2 = float(input(\"Enter the second number: \"))\n",
        "num3 = float(input(\"Enter the first number: \"))\n",
        "# Example usage:\n",
        "find_largest(num1, num2, num3)"
      ],
      "metadata": {
        "colab": {
          "base_uri": "https://localhost:8080/"
        },
        "id": "LYLX15NMZugK",
        "outputId": "528cab4f-3584-431b-9ffe-30cc28791aef"
      },
      "execution_count": 27,
      "outputs": [
        {
          "output_type": "stream",
          "name": "stdout",
          "text": [
            "Enter the first number: 8\n",
            "Enter the second number: 9\n",
            "Enter the first number: 10\n",
            "The largest number is: 10.0\n"
          ]
        }
      ]
    },
    {
      "cell_type": "code",
      "source": [
        "def check_palindrome(word):\n",
        "    if word == word[::-1]:\n",
        "        print(f\"{word} is a palindrome.\")\n",
        "    else:\n",
        "        print(f\"{word} is not a palindrome.\")\n",
        "\n",
        "# Example usage:\n",
        "check_palindrome(str(input()))"
      ],
      "metadata": {
        "id": "9p-raNbraE4x",
        "colab": {
          "base_uri": "https://localhost:8080/"
        },
        "outputId": "2d3842a5-9ad5-449a-8dab-488875c93eb8"
      },
      "execution_count": 29,
      "outputs": [
        {
          "output_type": "stream",
          "name": "stdout",
          "text": [
            "level\n",
            "level is a palindrome.\n"
          ]
        }
      ]
    },
    {
      "cell_type": "code",
      "source": [
        "def calculate_grade(score):\n",
        "    if 90 <= score <= 100:\n",
        "        grade = 'A'\n",
        "    elif 80 <= score < 90:\n",
        "        grade = 'B'\n",
        "    elif 70 <= score < 80:\n",
        "        grade = 'C'\n",
        "    elif 60 <= score < 70:\n",
        "        grade = 'D'\n",
        "    elif 0 <= score < 60:\n",
        "        grade = 'F'\n",
        "    else:\n",
        "        grade = 'Invalid score'\n",
        "    print(f\"Your grade is: {grade}\")\n",
        "\n",
        "# Example usage:\n",
        "calculate_grade(float(input()))\n"
      ],
      "metadata": {
        "id": "daBO5KGhaMn6",
        "colab": {
          "base_uri": "https://localhost:8080/"
        },
        "outputId": "b5112db4-d99d-4b7c-ada9-486a280a4503"
      },
      "execution_count": 32,
      "outputs": [
        {
          "output_type": "stream",
          "name": "stdout",
          "text": [
            "-66\n",
            "Your grade is: Invalid score\n"
          ]
        }
      ]
    },
    {
      "cell_type": "markdown",
      "source": [
        "#Nested If-Else Statements:"
      ],
      "metadata": {
        "id": "ONIvNpdDRI8H"
      }
    },
    {
      "cell_type": "code",
      "source": [
        "# Program to find the largest among three numbers\n",
        "\n",
        "# Input\n",
        "num1 = float(input(\"Enter first number: \"))\n",
        "num2 = float(input(\"Enter second number: \"))\n",
        "num3 = float(input(\"Enter third number: \"))\n",
        "\n",
        "# Nested if-else statements to find the largest\n",
        "if num1 >= num2:\n",
        "    if num1 >= num3:\n",
        "        largest = num1\n",
        "    else:\n",
        "        largest = num3\n",
        "else:\n",
        "    if num2 >= num3:\n",
        "        largest = num2\n",
        "    else:\n",
        "        largest = num3\n",
        "\n",
        "# Output\n",
        "print(\"The largest number is:\", largest)"
      ],
      "metadata": {
        "colab": {
          "base_uri": "https://localhost:8080/"
        },
        "id": "gJim7d4enHIN",
        "outputId": "3d5aa55e-1e2b-448f-e7dd-4d011067fbc7"
      },
      "execution_count": 1,
      "outputs": [
        {
          "output_type": "stream",
          "name": "stdout",
          "text": [
            "Enter first number: 50\n",
            "Enter second number: 80\n",
            "Enter third number: 44\n",
            "The largest number is: 80.0\n"
          ]
        }
      ]
    },
    {
      "cell_type": "code",
      "source": [
        "# Program to determine the type of triangle\n",
        "\n",
        "# Input\n",
        "side1 = float(input(\"Enter length of side 1: \"))\n",
        "side2 = float(input(\"Enter length of side 2: \"))\n",
        "side3 = float(input(\"Enter length of side 3: \"))\n",
        "\n",
        "# Determine the type of triangle\n",
        "if side1 == side2 == side3:\n",
        "    triangle_type = \"Equilateral\"\n",
        "elif side1 == side2 or side2 == side3 or side1 == side3:\n",
        "    triangle_type = \"Isosceles\"\n",
        "else:\n",
        "    triangle_type = \"Scalene\"\n",
        "\n",
        "# Output\n",
        "print(\"The triangle is:\", triangle_type)"
      ],
      "metadata": {
        "id": "yeLI-W7BRdz3",
        "outputId": "4fda55ca-1a0f-4db3-d371-c61196b15ed6",
        "colab": {
          "base_uri": "https://localhost:8080/"
        }
      },
      "execution_count": 2,
      "outputs": [
        {
          "output_type": "stream",
          "name": "stdout",
          "text": [
            "Enter length of side 1: 4\n",
            "Enter length of side 2: 5\n",
            "Enter length of side 3: 6\n",
            "The triangle is: Scalene\n"
          ]
        }
      ]
    },
    {
      "cell_type": "code",
      "source": [
        "# Program to check if a year is a leap year and a century year\n",
        "\n",
        "# Input\n",
        "year = int(input(\"Enter a year: \"))\n",
        "\n",
        "# Check for leap year\n",
        "if year % 4 == 0:\n",
        "    if year % 100 == 0:\n",
        "        if year % 400 == 0:\n",
        "            leap_year = True\n",
        "        else:\n",
        "            leap_year = False\n",
        "    else:\n",
        "        leap_year = True\n",
        "else:\n",
        "    leap_year = False\n",
        "\n",
        "# Check for century year\n",
        "century_year = year % 100 == 0\n",
        "\n",
        "# Output\n",
        "if leap_year:\n",
        "    print(f\"{year} is a leap year.\")\n",
        "    if century_year:\n",
        "        print(f\"{year} is also a century year.\")\n",
        "else:\n",
        "    print(f\"{year} is not a leap year.\")\n",
        "    if century_year:\n",
        "        print(f\"{year} is a century year, but not a leap year.\")"
      ],
      "metadata": {
        "id": "gxEgfVPcR7cs",
        "outputId": "bc647cd0-0e4c-420f-9f8a-b38ead9e40d0",
        "colab": {
          "base_uri": "https://localhost:8080/"
        }
      },
      "execution_count": 3,
      "outputs": [
        {
          "output_type": "stream",
          "name": "stdout",
          "text": [
            "Enter a year: 1999\n",
            "1999 is not a leap year.\n"
          ]
        }
      ]
    },
    {
      "cell_type": "code",
      "source": [
        "# Program to determine if a number is positive, negative, or zero\n",
        "\n",
        "# Input\n",
        "number = float(input(\"Enter a number: \"))\n",
        "\n",
        "# Check the sign of the number\n",
        "if number > 0:\n",
        "    print(\"The number is positive.\")\n",
        "elif number < 0:\n",
        "    print(\"The number is negative.\")\n",
        "else:\n",
        "    print(\"The number is zero.\")"
      ],
      "metadata": {
        "id": "Q3LElFVOSDTc",
        "outputId": "eaf1665a-e7d6-4bc9-9564-2f6a6c523b5a",
        "colab": {
          "base_uri": "https://localhost:8080/"
        }
      },
      "execution_count": 4,
      "outputs": [
        {
          "output_type": "stream",
          "name": "stdout",
          "text": [
            "Enter a number: 60\n",
            "The number is positive.\n"
          ]
        }
      ]
    },
    {
      "cell_type": "code",
      "source": [
        "def is_teenager(age):\n",
        "    return 13 <= age <= 19\n",
        "\n",
        "# Example usage:\n",
        "age = int(input(\"Enter the age: \"))\n",
        "if is_teenager(age):\n",
        "    print(\"The person is a teenager.\")\n",
        "else:\n",
        "    print(\"The person is not a teenager.\")"
      ],
      "metadata": {
        "id": "5wFI6vuqSIiR",
        "outputId": "8ff07e26-84f4-4108-b8fc-d009975aab17",
        "colab": {
          "base_uri": "https://localhost:8080/"
        }
      },
      "execution_count": 1,
      "outputs": [
        {
          "output_type": "stream",
          "name": "stdout",
          "text": [
            "Enter the age: 12\n",
            "The person is not a teenager.\n"
          ]
        }
      ]
    },
    {
      "cell_type": "code",
      "source": [
        "def angle_type(angle):\n",
        "    if angle < 90:\n",
        "        return \"Acute Angle\"\n",
        "    elif angle == 90:\n",
        "        return \"Right Angle\"\n",
        "    else:\n",
        "        return \"Obtuse Angle\"\n",
        "\n",
        "# Example usage:\n",
        "angle_measure = float(input(\"Enter the angle measure in degrees: \"))\n",
        "print(\"The angle is a\", angle_type(angle_measure))"
      ],
      "metadata": {
        "id": "ir_GuAt868x-",
        "outputId": "0c5a5645-e804-4cbe-8b08-9a485d000120",
        "colab": {
          "base_uri": "https://localhost:8080/"
        }
      },
      "execution_count": 2,
      "outputs": [
        {
          "output_type": "stream",
          "name": "stdout",
          "text": [
            "Enter the angle measure in degrees: 80\n",
            "The angle is a Acute Angle\n"
          ]
        }
      ]
    },
    {
      "cell_type": "code",
      "source": [
        "import cmath\n",
        "\n",
        "def quadratic_roots(a, b, c):\n",
        "    discriminant = cmath.sqrt(b**2 - 4*a*c)\n",
        "    root1 = (-b + discriminant) / (2*a)\n",
        "    root2 = (-b - discriminant) / (2*a)\n",
        "    return root1, root2\n",
        "\n",
        "# Example usage:\n",
        "a = float(input(\"Enter the coefficient a: \"))\n",
        "b = float(input(\"Enter the coefficient b: \"))\n",
        "c = float(input(\"Enter the coefficient c: \"))\n",
        "roots = quadratic_roots(a, b, c)\n",
        "print(\"The roots are:\", roots)"
      ],
      "metadata": {
        "id": "y60hBwsV7FPm",
        "outputId": "88ba83b0-8f0f-4cfb-b062-2c76aa583827",
        "colab": {
          "base_uri": "https://localhost:8080/"
        }
      },
      "execution_count": 3,
      "outputs": [
        {
          "output_type": "stream",
          "name": "stdout",
          "text": [
            "Enter the coefficient a: 4\n",
            "Enter the coefficient b: 6\n",
            "Enter the coefficient c: 7\n",
            "The roots are: ((-0.75+1.0897247358851685j), (-0.75-1.0897247358851685j))\n"
          ]
        }
      ]
    },
    {
      "cell_type": "code",
      "source": [
        "def day_of_week(day_number):\n",
        "    days = [\"Monday\", \"Tuesday\", \"Wednesday\", \"Thursday\", \"Friday\", \"Saturday\", \"Sunday\"]\n",
        "    if 1 <= day_number <= 7:\n",
        "        return days[day_number - 1]\n",
        "    else:\n",
        "        return \"Invalid day number\"\n",
        "\n",
        "# Example usage:\n",
        "day_number = int(input(\"Enter the day number (1-7): \"))\n",
        "print(\"The day is:\", day_of_week(day_number))"
      ],
      "metadata": {
        "id": "i1_OMZxX7KUP",
        "outputId": "b15880f0-8a95-4fc3-ecd0-4b4b62f90c22",
        "colab": {
          "base_uri": "https://localhost:8080/"
        }
      },
      "execution_count": 4,
      "outputs": [
        {
          "output_type": "stream",
          "name": "stdout",
          "text": [
            "Enter the day number (1-7): 7\n",
            "The day is: Sunday\n"
          ]
        }
      ]
    },
    {
      "cell_type": "code",
      "source": [
        "def is_leap_year(year):\n",
        "    if (year % 4 == 0 and year % 100 != 0) or (year % 400 == 0):\n",
        "        return True\n",
        "    else:\n",
        "        return False\n",
        "\n",
        "# Example usage:\n",
        "year = int(input(\"Enter the year: \"))\n",
        "if is_leap_year(year):\n",
        "    print(\"The year is a leap year.\")\n",
        "else:\n",
        "    print(\"The year is not a leap year.\")"
      ],
      "metadata": {
        "id": "FKmnwsbo7Qpw",
        "outputId": "a29b07c1-2091-4cd2-c1ba-e637344236c1",
        "colab": {
          "base_uri": "https://localhost:8080/"
        }
      },
      "execution_count": 5,
      "outputs": [
        {
          "output_type": "stream",
          "name": "stdout",
          "text": [
            "Enter the year: 1922\n",
            "The year is not a leap year.\n"
          ]
        }
      ]
    },
    {
      "cell_type": "code",
      "source": [
        "def is_prime(number):\n",
        "    if number < 2:\n",
        "        return False\n",
        "    for i in range(2, int(number**0.5) + 1):\n",
        "        if number % i == 0:\n",
        "            return False\n",
        "    return True\n",
        "\n",
        "# Example usage:\n",
        "num = int(input(\"Enter a number: \"))\n",
        "if is_prime(num):\n",
        "    print(\"The number is prime.\")\n",
        "else:\n",
        "    print(\"The number is not prime.\")"
      ],
      "metadata": {
        "id": "MG2k0s4Z7UbX",
        "outputId": "6c52b5a4-0093-4916-8d1f-e870c6b6b553",
        "colab": {
          "base_uri": "https://localhost:8080/"
        }
      },
      "execution_count": 6,
      "outputs": [
        {
          "output_type": "stream",
          "name": "stdout",
          "text": [
            "Enter a number: 6\n",
            "The number is not prime.\n"
          ]
        }
      ]
    },
    {
      "cell_type": "code",
      "source": [],
      "metadata": {
        "id": "tgMN8Ot_7YMK"
      },
      "execution_count": null,
      "outputs": []
    }
  ]
}