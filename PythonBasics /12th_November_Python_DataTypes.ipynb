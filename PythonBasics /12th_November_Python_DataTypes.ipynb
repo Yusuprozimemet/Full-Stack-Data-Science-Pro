{
  "nbformat": 4,
  "nbformat_minor": 0,
  "metadata": {
    "colab": {
      "provenance": [],
      "authorship_tag": "ABX9TyMOxKc5b1epPGjlzweeyiC3",
      "include_colab_link": true
    },
    "kernelspec": {
      "name": "python3",
      "display_name": "Python 3"
    },
    "language_info": {
      "name": "python"
    }
  },
  "cells": [
    {
      "cell_type": "markdown",
      "metadata": {
        "id": "view-in-github",
        "colab_type": "text"
      },
      "source": [
        "<a href=\"https://colab.research.google.com/github/yusufrozimemet/Full-Stack-Data-Science-Pro/blob/main/PythonBasics%20/12th_November_Python_DataTypes.ipynb\" target=\"_parent\"><img src=\"https://colab.research.google.com/assets/colab-badge.svg\" alt=\"Open In Colab\"/></a>"
      ]
    },
    {
      "cell_type": "code",
      "execution_count": 12,
      "metadata": {
        "id": "i0NMNkY5-cMr",
        "colab": {
          "base_uri": "https://localhost:8080/"
        },
        "outputId": "276a1621-0daa-411f-c087-45421ebab613"
      },
      "outputs": [
        {
          "output_type": "stream",
          "name": "stdout",
          "text": [
            "-8\n",
            "The number is negative.\n"
          ]
        }
      ],
      "source": [
        "def check_positive_negative(number):\n",
        "    if number > 0:\n",
        "        print(\"The number is positive.\")\n",
        "    elif number < 0:\n",
        "        print(\"The number is negative.\")\n",
        "    else:\n",
        "        print(\"The number is zero.\")\n",
        "\n",
        "# Example usage:\n",
        "check_positive_negative(float(input()))"
      ]
    },
    {
      "cell_type": "code",
      "source": [
        "def check_voting_eligibility(age):\n",
        "    if age >= 18:\n",
        "        print(\"You are eligible to vote.\")\n",
        "    else:\n",
        "        print(\"You are not eligible to vote yet.\")\n",
        "\n",
        "# Example usage:\n",
        "check_voting_eligibility(float(input()))"
      ],
      "metadata": {
        "colab": {
          "base_uri": "https://localhost:8080/"
        },
        "id": "DjOTwuDzYP8Q",
        "outputId": "b409918a-21a0-42b1-8bfd-51ab9aa3fcfb"
      },
      "execution_count": 10,
      "outputs": [
        {
          "output_type": "stream",
          "name": "stdout",
          "text": [
            "99\n",
            "You are eligible to vote.\n"
          ]
        }
      ]
    },
    {
      "cell_type": "code",
      "source": [
        "def find_maximum(num1, num2):\n",
        "    if num1 > num2:\n",
        "        print(f\"The maximum number is: {num1}\")\n",
        "    else:\n",
        "        print(f\"The maximum number is: {num2}\")\n",
        "\n",
        "# Take input manually\n",
        "num1 = float(input(\"Enter the first number: \"))\n",
        "num2 = float(input(\"Enter the second number: \"))\n",
        "\n",
        "# Call the function with the input values\n",
        "find_maximum(num1, num2)\n"
      ],
      "metadata": {
        "colab": {
          "base_uri": "https://localhost:8080/"
        },
        "id": "wXIY8BmqYThS",
        "outputId": "aae4b832-c74c-4c49-ee0b-bdb958202b2d"
      },
      "execution_count": 9,
      "outputs": [
        {
          "output_type": "stream",
          "name": "stdout",
          "text": [
            "Enter the first number: 6\n",
            "Enter the second number: 9\n",
            "The maximum number is: 9.0\n"
          ]
        }
      ]
    },
    {
      "cell_type": "code",
      "source": [
        "def check_leap_year(year):\n",
        "    if year <0:\n",
        "        print (f\"{year} is not a correct for the calculation\")\n",
        "    elif (year >0 and year % 4 == 0 and year % 100 != 0) or (year % 400 == 0):\n",
        "        print(f\"{year} is a leap year.\")\n",
        "    else:\n",
        "        print(f\"{year} is not a leap year.\")\n",
        "\n",
        "# Example usage:\n",
        "check_leap_year(float(input()))"
      ],
      "metadata": {
        "colab": {
          "base_uri": "https://localhost:8080/"
        },
        "id": "E6SIls5_YzZ0",
        "outputId": "e58dca96-94a2-4a7a-e32e-f3d9ad5a7d7a"
      },
      "execution_count": 19,
      "outputs": [
        {
          "output_type": "stream",
          "name": "stdout",
          "text": [
            "-44\n",
            "-44.0 is not a correct for the calculation\n"
          ]
        }
      ]
    },
    {
      "cell_type": "code",
      "source": [
        "def check_vowel_consonant(char):\n",
        "    if char.lower() in ['a', 'e', 'i', 'o', 'u']:\n",
        "        print(f\"{char} is a vowel.\")\n",
        "    else:\n",
        "        print(f\"{char} is a consonant.\")\n",
        "\n",
        "# Example usage:\n",
        "check_vowel_consonant(str(input()))"
      ],
      "metadata": {
        "colab": {
          "base_uri": "https://localhost:8080/"
        },
        "id": "HQuSvqIzY2Jg",
        "outputId": "8da6e69b-b418-492a-f5dd-4047f1208e16"
      },
      "execution_count": 22,
      "outputs": [
        {
          "output_type": "stream",
          "name": "stdout",
          "text": [
            "o\n",
            "o is a vowel.\n"
          ]
        }
      ]
    },
    {
      "cell_type": "code",
      "source": [
        "def check_even_odd(number):\n",
        "    if number % 2 == 0:\n",
        "        print(f\"{number} is an even number.\")\n",
        "    else:\n",
        "        print(f\"{number} is an odd number.\")\n",
        "\n",
        "# Example usage:\n",
        "check_even_odd(float(input()))\n"
      ],
      "metadata": {
        "colab": {
          "base_uri": "https://localhost:8080/"
        },
        "id": "NQfH3kQbZe9q",
        "outputId": "1a36344e-ef32-4f86-b36a-0efa6843cf8e"
      },
      "execution_count": 24,
      "outputs": [
        {
          "output_type": "stream",
          "name": "stdout",
          "text": [
            "9\n",
            "9.0 is an odd number.\n"
          ]
        }
      ]
    },
    {
      "cell_type": "code",
      "source": [
        "def absolute_value(number):\n",
        "    if number < 0:\n",
        "        result = -number\n",
        "    else:\n",
        "        result = number\n",
        "    print(f\"The absolute value of {number} is: {result}\")\n",
        "\n",
        "# Example usage:\n",
        "absolute_value(float(input()))\n"
      ],
      "metadata": {
        "colab": {
          "base_uri": "https://localhost:8080/"
        },
        "id": "LSCVTebpZnen",
        "outputId": "05d2f49e-d70f-421d-a9c6-1266ccfa3a23"
      },
      "execution_count": 25,
      "outputs": [
        {
          "output_type": "stream",
          "name": "stdout",
          "text": [
            "-9\n",
            "The absolute value of -9.0 is: 9.0\n"
          ]
        }
      ]
    },
    {
      "cell_type": "code",
      "source": [
        "def find_largest(num1, num2, num3):\n",
        "    if num1 >= num2 and num1 >= num3:\n",
        "        print(f\"The largest number is: {num1}\")\n",
        "    elif num2 >= num1 and num2 >= num3:\n",
        "        print(f\"The largest number is: {num2}\")\n",
        "    else:\n",
        "        print(f\"The largest number is: {num3}\")\n",
        "\n",
        "num1 = float(input(\"Enter the first number: \"))\n",
        "num2 = float(input(\"Enter the second number: \"))\n",
        "num3 = float(input(\"Enter the first number: \"))\n",
        "# Example usage:\n",
        "find_largest(num1, num2, num3)"
      ],
      "metadata": {
        "colab": {
          "base_uri": "https://localhost:8080/"
        },
        "id": "LYLX15NMZugK",
        "outputId": "528cab4f-3584-431b-9ffe-30cc28791aef"
      },
      "execution_count": 27,
      "outputs": [
        {
          "output_type": "stream",
          "name": "stdout",
          "text": [
            "Enter the first number: 8\n",
            "Enter the second number: 9\n",
            "Enter the first number: 10\n",
            "The largest number is: 10.0\n"
          ]
        }
      ]
    },
    {
      "cell_type": "code",
      "source": [
        "def check_palindrome(word):\n",
        "    if word == word[::-1]:\n",
        "        print(f\"{word} is a palindrome.\")\n",
        "    else:\n",
        "        print(f\"{word} is not a palindrome.\")\n",
        "\n",
        "# Example usage:\n",
        "check_palindrome(str(input()))"
      ],
      "metadata": {
        "id": "9p-raNbraE4x",
        "outputId": "2d3842a5-9ad5-449a-8dab-488875c93eb8",
        "colab": {
          "base_uri": "https://localhost:8080/"
        }
      },
      "execution_count": 29,
      "outputs": [
        {
          "output_type": "stream",
          "name": "stdout",
          "text": [
            "level\n",
            "level is a palindrome.\n"
          ]
        }
      ]
    },
    {
      "cell_type": "code",
      "source": [
        "def calculate_grade(score):\n",
        "    if 90 <= score <= 100:\n",
        "        grade = 'A'\n",
        "    elif 80 <= score < 90:\n",
        "        grade = 'B'\n",
        "    elif 70 <= score < 80:\n",
        "        grade = 'C'\n",
        "    elif 60 <= score < 70:\n",
        "        grade = 'D'\n",
        "    elif 0 <= score < 60:\n",
        "        grade = 'F'\n",
        "    else:\n",
        "        grade = 'Invalid score'\n",
        "    print(f\"Your grade is: {grade}\")\n",
        "\n",
        "# Example usage:\n",
        "calculate_grade(float(input()))\n"
      ],
      "metadata": {
        "id": "daBO5KGhaMn6",
        "outputId": "b5112db4-d99d-4b7c-ada9-486a280a4503",
        "colab": {
          "base_uri": "https://localhost:8080/"
        }
      },
      "execution_count": 32,
      "outputs": [
        {
          "output_type": "stream",
          "name": "stdout",
          "text": [
            "-66\n",
            "Your grade is: Invalid score\n"
          ]
        }
      ]
    },
    {
      "cell_type": "code",
      "source": [],
      "metadata": {
        "id": "gJim7d4enHIN"
      },
      "execution_count": null,
      "outputs": []
    }
  ]
}